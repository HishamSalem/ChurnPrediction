{
 "cells": [
  {
   "cell_type": "markdown",
   "metadata": {
    "application/vnd.databricks.v1+cell": {
     "inputWidgets": {},
     "nuid": "3034a6fa-bca6-4f24-8461-c75334b9d45e",
     "showTitle": false,
     "title": ""
    },
    "id": "z1jAt62zhRkQ"
   },
   "source": [
    "This end-to-end data science project is executed as part of the requirements of the course *INSY-695 Advanced Topics in Information Systems* for the **McGill Master of Management Analytics** program. This is an extension of [Telco Churn Project](https://github.com/McGill-MMA-EnterpriseAnalytics/MMA4_ChurnPrediction/blob/main/final/TelcoChurn_Final.ipynb)\n",
    " contributors for this project, along with their github user names and roles are as follows:\n",
    "\n",
    "1. **Nathan Murstein (NathanMurstein)** - Data Scientist\n",
    "2. **Hisham Salem (HishamSalem)** - Data Analyst\n",
    "3. **Dany Stefan (dany-stefan)** - MLOps Engineer\n",
    "4. **Jeewon Kim (jeewonk)** - Data Scientist\n",
    "5. **Reza Soleimani** - Lead Data Scientist\n",
    "6. **Danyal Hamid** - Business Intelligence\n",
    "7. **Uzair Ahmad (uzairahmadxy)** - Project Manager"
   ]
  },
  {
   "cell_type": "markdown",
   "metadata": {
    "application/vnd.databricks.v1+cell": {
     "inputWidgets": {},
     "nuid": "144319e4-8b9e-4714-a4a4-9160978b7296",
     "showTitle": false,
     "title": ""
    },
    "id": "83dRVgIWhRkT"
   },
   "source": [
    "# Project Description\n",
    "\n",
    "Telecommunicaion industry has a huge presence in the economic world. It is estimated that the global telecom services was [valued at](https://www.grandviewresearch.com/industry-analysis/global-telecom-services-market)  **USD 1,657.7 billion** in 2020. One of the major problems Telcos (Telecommunicaion Companies) face is customer churn. According to [Profitwell](https://www.smartlook.com/blog/customer-churn-retention/), the average churn rate in telecom businesses is 22%.\n",
    "\n",
    "## Objective\n",
    "\n",
    "This project aims is to use machine learning techniques to remedy the problem of customer churn and provide measurable business value to the telecommunication companies. This particular notebook has been modelled do be deployed on **Databricks**, as part of the extension of the [Telco Churn Project for Enterprise-1](https://github.com/McGill-MMA-EnterpriseAnalytics/MMA4_ChurnPrediction/blob/main/final/TelcoChurn_Final.ipynb)\n",
    "\n",
    "## Pain Points\n",
    "\n",
    "- Churn leads to higher Customer Acquisition Costs & reduced revenue - acquiring new customers is more costly than keeping the existing ones.\n",
    "\n",
    "- High churn rates are more likely to compound over time. \n",
    "\n",
    "## Business Value\n",
    "\n",
    "- Increased revenue\n",
    "- Higher customer satisfaction and loyalty\n",
    "- Higher market share\n",
    "\n",
    "## Methodology Overview\n",
    "\n",
    "Our team focuses on predicting whether or not a customer is likely to churn, using **predictive modelling**. Using this information of churn likelihood, we can take *proactive steps*. One of the most effective methods in marketing, is sending promotions or coupons to customers. Since we cannot send coupons to everyone due to unsustainability of this strategy & high distribution costs, we pick specific customers to send coupons to. To achieve this we leverage the predictive information into an **optimization model**, which recommends a coupon distribution strategy to minimize the loss of revenue (opportunity cost) as a consequency of customer churn. Please refer to the [Telco Churn Project for Enterprise-1](https://github.com/McGill-MMA-EnterpriseAnalytics/MMA4_ChurnPrediction/blob/main/final/TelcoChurn_Final.ipynb) for optimization section. This particular project extends the previous one by doing the following:\n",
    "- Hyperparameter tuning using Optuna\n",
    "- Model logging and serving using MLFlow\n",
    "- Deployment on Databricks"
   ]
  },
  {
   "cell_type": "markdown",
   "metadata": {
    "application/vnd.databricks.v1+cell": {
     "inputWidgets": {},
     "nuid": "6e199d36-d7c8-4d78-b29d-ea7861f97fbc",
     "showTitle": false,
     "title": ""
    },
    "id": "1T2Amy5ehRkU"
   },
   "source": [
    "# Preliminary imports\n",
    "\n",
    "Please note that the missing libraries need to be installed (pip install, conda install)."
   ]
  },
  {
   "cell_type": "code",
   "execution_count": 0,
   "metadata": {
    "application/vnd.databricks.v1+cell": {
     "inputWidgets": {},
     "nuid": "cbdace9d-ac5c-488a-b1e4-781e9cb02ea7",
     "showTitle": false,
     "title": ""
    },
    "colab": {
     "base_uri": "https://localhost:8080/"
    },
    "id": "6E1PcfQ8h8IW",
    "outputId": "0eb802e0-d63b-4f10-937b-3ffb3be079f6"
   },
   "outputs": [
    {
     "data": {
      "text/html": [
       "<style scoped>\n",
       "  .ansiout {\n",
       "    display: block;\n",
       "    unicode-bidi: embed;\n",
       "    white-space: pre-wrap;\n",
       "    word-wrap: break-word;\n",
       "    word-break: break-all;\n",
       "    font-family: \"Source Code Pro\", \"Menlo\", monospace;;\n",
       "    font-size: 13px;\n",
       "    color: #555;\n",
       "    margin-left: 4px;\n",
       "    line-height: 19px;\n",
       "  }\n",
       "</style>\n",
       "<div class=\"ansiout\"></div>"
      ]
     },
     "metadata": {
      "application/vnd.databricks.v1+output": {
       "addedWidgets": {},
       "arguments": {},
       "data": "<div class=\"ansiout\"></div>",
       "datasetInfos": [],
       "metadata": {},
       "removedWidgets": [],
       "type": "html"
      }
     },
     "output_type": "display_data"
    }
   ],
   "source": [
    "# !pip install category-encoders\n",
    "# !pip install pandas-profiling\n",
    "# !pip install Boruta\n",
    "# !pip install -U imbalanced-learn\n",
    "# !pip install optuna\n",
    "# !pip install mlflow"
   ]
  },
  {
   "cell_type": "code",
   "execution_count": 0,
   "metadata": {
    "application/vnd.databricks.v1+cell": {
     "inputWidgets": {},
     "nuid": "a30a5864-b4d2-445c-98ad-bddf61d70ec5",
     "showTitle": false,
     "title": ""
    },
    "colab": {
     "base_uri": "https://localhost:8080/"
    },
    "id": "cmxas3-ohRkV",
    "outputId": "b08e6590-4cec-4d4c-d38c-0a7144010d5c"
   },
   "outputs": [
    {
     "data": {
      "text/html": [
       "<style scoped>\n",
       "  .ansiout {\n",
       "    display: block;\n",
       "    unicode-bidi: embed;\n",
       "    white-space: pre-wrap;\n",
       "    word-wrap: break-word;\n",
       "    word-break: break-all;\n",
       "    font-family: \"Source Code Pro\", \"Menlo\", monospace;;\n",
       "    font-size: 13px;\n",
       "    color: #555;\n",
       "    margin-left: 4px;\n",
       "    line-height: 19px;\n",
       "  }\n",
       "</style>\n",
       "<div class=\"ansiout\"></div>"
      ]
     },
     "metadata": {
      "application/vnd.databricks.v1+output": {
       "addedWidgets": {},
       "arguments": {},
       "data": "<div class=\"ansiout\"></div>",
       "datasetInfos": [],
       "metadata": {},
       "removedWidgets": [],
       "type": "html"
      }
     },
     "output_type": "display_data"
    }
   ],
   "source": [
    "#!conda install pandas==1.2.5\n",
    "#!conda install -c conda-forge pandas-profiling=2.8.0\n",
    "#!conda install -c conda-forge boruta_py\n",
    "#!conda install -c conda-forge imbalanced-learn\n",
    "#!conda install -c conda-forge optuna\n",
    "import sys\n",
    "assert sys.version_info >= (3, 5)\n",
    "import sklearn\n",
    "assert sklearn.__version__ >= '0.20'\n",
    "import numpy as np\n",
    "import pandas as pd\n",
    "import mlflow\n",
    "import mlflow.pyfunc\n",
    "import mlflow.sklearn\n",
    "import mlflow.xgboost\n",
    "import mlflow.lightgbm\n",
    "from mlflow.models.signature import infer_signature\n",
    "from mlflow.utils.environment import _mlflow_conda_env\n",
    "import os\n",
    "import warnings\n",
    "%matplotlib inline\n",
    "import matplotlib as mpl\n",
    "import matplotlib.pyplot as plt\n",
    "import category_encoders as ce\n",
    "from sklearn.preprocessing import OneHotEncoder\n",
    "#import pandas_profiling\n",
    "#from pandas_profiling import ProfileReport\n",
    "from boruta import BorutaPy\n",
    "from sklearn.linear_model import LogisticRegression\n",
    "from sklearn.ensemble import GradientBoostingClassifier\n",
    "from sklearn.ensemble import RandomForestClassifier\n",
    "from patsy import dmatrices\n",
    "from statsmodels.stats.outliers_influence import variance_inflation_factor\n",
    "from sklearn.model_selection import StratifiedShuffleSplit\n",
    "from sklearn.ensemble  import IsolationForest\n",
    "from imblearn.over_sampling import SMOTE\n",
    "from imblearn.over_sampling import RandomOverSampler\n",
    "from imblearn.under_sampling import NearMiss\n",
    "from xgboost import XGBClassifier\n",
    "from sklearn.ensemble import GradientBoostingClassifier\n",
    "from sklearn import metrics\n",
    "from sklearn.metrics import confusion_matrix, accuracy_score,pairwise_distances,roc_curve, precision_recall_curve, auc, make_scorer, recall_score, accuracy_score, precision_score\n",
    "import lightgbm as lgb\n",
    "from sklearn.ensemble import RandomForestClassifier\n",
    "from sklearn.neural_network import MLPClassifier\n",
    "from sklearn.naive_bayes import GaussianNB\n",
    "from sklearn.svm import SVC\n",
    "from sklearn import linear_model\n",
    "\n",
    "from sklearn.metrics import plot_confusion_matrix\n",
    "from sklearn.model_selection import StratifiedKFold\n",
    "from sklearn.model_selection import cross_val_score\n",
    "from sklearn import preprocessing\n",
    "from numpy import argmax\n",
    "import optuna\n",
    "import seaborn as sns"
   ]
  },
  {
   "cell_type": "code",
   "execution_count": 0,
   "metadata": {
    "application/vnd.databricks.v1+cell": {
     "inputWidgets": {},
     "nuid": "0fed8e03-9e2e-44ad-ac01-735539d59926",
     "showTitle": false,
     "title": ""
    },
    "id": "aqWR3LAThRkW"
   },
   "outputs": [
    {
     "data": {
      "text/html": [
       "<style scoped>\n",
       "  .ansiout {\n",
       "    display: block;\n",
       "    unicode-bidi: embed;\n",
       "    white-space: pre-wrap;\n",
       "    word-wrap: break-word;\n",
       "    word-break: break-all;\n",
       "    font-family: \"Source Code Pro\", \"Menlo\", monospace;;\n",
       "    font-size: 13px;\n",
       "    color: #555;\n",
       "    margin-left: 4px;\n",
       "    line-height: 19px;\n",
       "  }\n",
       "</style>\n",
       "<div class=\"ansiout\"></div>"
      ]
     },
     "metadata": {
      "application/vnd.databricks.v1+output": {
       "addedWidgets": {},
       "arguments": {},
       "data": "<div class=\"ansiout\"></div>",
       "datasetInfos": [],
       "metadata": {},
       "removedWidgets": [],
       "type": "html"
      }
     },
     "output_type": "display_data"
    }
   ],
   "source": [
    "warnings.filterwarnings(action=\"ignore\", message=\"^internal gelsd\")"
   ]
  },
  {
   "cell_type": "code",
   "execution_count": 0,
   "metadata": {
    "application/vnd.databricks.v1+cell": {
     "inputWidgets": {},
     "nuid": "e2615e83-5644-4941-a1f3-958e8c55f0e9",
     "showTitle": false,
     "title": ""
    },
    "id": "RHOL0-KShRkX"
   },
   "outputs": [
    {
     "data": {
      "text/html": [
       "<style scoped>\n",
       "  .ansiout {\n",
       "    display: block;\n",
       "    unicode-bidi: embed;\n",
       "    white-space: pre-wrap;\n",
       "    word-wrap: break-word;\n",
       "    word-break: break-all;\n",
       "    font-family: \"Source Code Pro\", \"Menlo\", monospace;;\n",
       "    font-size: 13px;\n",
       "    color: #555;\n",
       "    margin-left: 4px;\n",
       "    line-height: 19px;\n",
       "  }\n",
       "</style>\n",
       "<div class=\"ansiout\"></div>"
      ]
     },
     "metadata": {
      "application/vnd.databricks.v1+output": {
       "addedWidgets": {},
       "arguments": {},
       "data": "<div class=\"ansiout\"></div>",
       "datasetInfos": [],
       "metadata": {},
       "removedWidgets": [],
       "type": "html"
      }
     },
     "output_type": "display_data"
    }
   ],
   "source": [
    "PROJECT_ROOT_DIR = '.'\n",
    "CHAPTER_ID = 'end_to_end_project'\n",
    "IMAGES_PATH = os.path.join(PROJECT_ROOT_DIR, 'images', CHAPTER_ID)\n",
    "os.makedirs(IMAGES_PATH, exist_ok=True)\n",
    "\n",
    "def save_fig(fig_id, tight_layout=True, fig_extension='png', resolution=300):\n",
    "    path = os.path.join(IMAGES_PATH, fig_id + \".\" + fig_extension)\n",
    "    print(\"Saving figure\", fig_id)\n",
    "    if tight_layout:\n",
    "        plt.tight_layout()\n",
    "    plt.savefig(path, format=fig_extension, dpi=resolution)"
   ]
  },
  {
   "cell_type": "code",
   "execution_count": 0,
   "metadata": {
    "application/vnd.databricks.v1+cell": {
     "inputWidgets": {},
     "nuid": "5972c40a-3737-43d8-ac94-356c69bf4ff3",
     "showTitle": false,
     "title": ""
    },
    "id": "kgo8dvpchRkX"
   },
   "outputs": [
    {
     "data": {
      "text/html": [
       "<style scoped>\n",
       "  .ansiout {\n",
       "    display: block;\n",
       "    unicode-bidi: embed;\n",
       "    white-space: pre-wrap;\n",
       "    word-wrap: break-word;\n",
       "    word-break: break-all;\n",
       "    font-family: \"Source Code Pro\", \"Menlo\", monospace;;\n",
       "    font-size: 13px;\n",
       "    color: #555;\n",
       "    margin-left: 4px;\n",
       "    line-height: 19px;\n",
       "  }\n",
       "</style>\n",
       "<div class=\"ansiout\"></div>"
      ]
     },
     "metadata": {
      "application/vnd.databricks.v1+output": {
       "addedWidgets": {},
       "arguments": {},
       "data": "<div class=\"ansiout\"></div>",
       "datasetInfos": [],
       "metadata": {},
       "removedWidgets": [],
       "type": "html"
      }
     },
     "output_type": "display_data"
    }
   ],
   "source": [
    "mpl.rc('axes', labelsize=14)\n",
    "mpl.rc('xtick', labelsize=12)\n",
    "mpl.rc('ytick', labelsize=12)"
   ]
  },
  {
   "cell_type": "markdown",
   "metadata": {
    "application/vnd.databricks.v1+cell": {
     "inputWidgets": {},
     "nuid": "4c9f26f7-ec6d-44cb-819a-21c3bb3804be",
     "showTitle": false,
     "title": ""
    },
    "id": "mkpFgiKMhRkY"
   },
   "source": [
    "Data Extraction"
   ]
  },
  {
   "cell_type": "code",
   "execution_count": 0,
   "metadata": {
    "application/vnd.databricks.v1+cell": {
     "inputWidgets": {},
     "nuid": "96f107a9-9dde-4288-a4c4-bc77f9b2c2fe",
     "showTitle": false,
     "title": ""
    },
    "id": "UBrn7OlthRkY"
   },
   "outputs": [
    {
     "data": {
      "text/html": [
       "<style scoped>\n",
       "  .ansiout {\n",
       "    display: block;\n",
       "    unicode-bidi: embed;\n",
       "    white-space: pre-wrap;\n",
       "    word-wrap: break-word;\n",
       "    word-break: break-all;\n",
       "    font-family: \"Source Code Pro\", \"Menlo\", monospace;;\n",
       "    font-size: 13px;\n",
       "    color: #555;\n",
       "    margin-left: 4px;\n",
       "    line-height: 19px;\n",
       "  }\n",
       "</style>\n",
       "<div class=\"ansiout\"></div>"
      ]
     },
     "metadata": {
      "application/vnd.databricks.v1+output": {
       "addedWidgets": {},
       "arguments": {},
       "data": "<div class=\"ansiout\"></div>",
       "datasetInfos": [],
       "metadata": {},
       "removedWidgets": [],
       "type": "html"
      }
     },
     "output_type": "display_data"
    }
   ],
   "source": [
    "df = pd.read_csv('/dbfs/FileStore/tables/WA_Fn_UseC__Telco_Customer_Churn.csv')"
   ]
  },
  {
   "cell_type": "markdown",
   "metadata": {
    "application/vnd.databricks.v1+cell": {
     "inputWidgets": {},
     "nuid": "15f8abae-98b8-42d9-b090-42f9182403b3",
     "showTitle": false,
     "title": ""
    },
    "id": "A8jUThFMhRka"
   },
   "source": [
    "# Data Pre-processing\n",
    " Contributor(s): @uzairxy\n",
    " \n",
    " Categorical Variables are encoded."
   ]
  },
  {
   "cell_type": "code",
   "execution_count": 0,
   "metadata": {
    "application/vnd.databricks.v1+cell": {
     "inputWidgets": {},
     "nuid": "45fd30bf-28c3-4dc0-8259-8f801a67d790",
     "showTitle": false,
     "title": ""
    },
    "id": "0AgSdKjKhRkd"
   },
   "outputs": [
    {
     "data": {
      "text/html": [
       "<style scoped>\n",
       "  .ansiout {\n",
       "    display: block;\n",
       "    unicode-bidi: embed;\n",
       "    white-space: pre-wrap;\n",
       "    word-wrap: break-word;\n",
       "    word-break: break-all;\n",
       "    font-family: \"Source Code Pro\", \"Menlo\", monospace;;\n",
       "    font-size: 13px;\n",
       "    color: #555;\n",
       "    margin-left: 4px;\n",
       "    line-height: 19px;\n",
       "  }\n",
       "</style>\n",
       "<div class=\"ansiout\"></div>"
      ]
     },
     "metadata": {
      "application/vnd.databricks.v1+output": {
       "addedWidgets": {},
       "arguments": {},
       "data": "<div class=\"ansiout\"></div>",
       "datasetInfos": [],
       "metadata": {},
       "removedWidgets": [],
       "type": "html"
      }
     },
     "output_type": "display_data"
    }
   ],
   "source": [
    "ore = ce.OrdinalEncoder(\n",
    "    mapping=[\n",
    "        {\n",
    "            'col': 'MultipleLines',\n",
    "            'mapping': {\n",
    "                'No phone service': -1,\n",
    "                'No': 1,\n",
    "                'Yes': 2\n",
    "            }\n",
    "        },\n",
    "        {\n",
    "            'col': 'gender',\n",
    "            'mapping': {\n",
    "                'Male': 0,\n",
    "                'Female': 1\n",
    "            }\n",
    "        },\n",
    "        {\n",
    "            'col': 'Contract',\n",
    "            'mapping': {\n",
    "                'Month-to-month': 1,\n",
    "                'One year': 2,\n",
    "                'Two year': 3\n",
    "            }\n",
    "        },\n",
    "        {\n",
    "            'col': 'InternetService',\n",
    "            'mapping': {\n",
    "                'No': 0,\n",
    "                'DSL': 1,\n",
    "                'Fiber optic': 2\n",
    "            }\n",
    "        },\n",
    "        {\n",
    "            'col': 'OnlineSecurity',\n",
    "            'mapping': {\n",
    "                'No internet service': -1,\n",
    "                'No': 1,\n",
    "                'Yes': 2\n",
    "            }\n",
    "        },\n",
    "        {\n",
    "            'col': 'OnlineBackup',\n",
    "            'mapping': {\n",
    "                'No internet service': -1,\n",
    "                'No': 1,\n",
    "                'Yes': 2\n",
    "            }\n",
    "        },\n",
    "        {\n",
    "            'col': 'DeviceProtection',\n",
    "            'mapping': {\n",
    "                'No internet service': -1,\n",
    "                'No': 1,\n",
    "                'Yes': 2\n",
    "            }\n",
    "        },\n",
    "        {\n",
    "            'col': 'TechSupport',\n",
    "            'mapping': {\n",
    "                'No internet service': -1,\n",
    "                'No': 1,\n",
    "                'Yes': 2\n",
    "            }\n",
    "        },\n",
    "        {\n",
    "            'col': 'StreamingTV',\n",
    "            'mapping': {\n",
    "                'No internet service': -1,\n",
    "                'No': 1,\n",
    "                'Yes': 2\n",
    "            }\n",
    "        },\n",
    "        {\n",
    "            'col': 'StreamingMovies',\n",
    "            'mapping': {\n",
    "                'No internet service': -1,\n",
    "                'No': 1,\n",
    "                'Yes': 2\n",
    "            }\n",
    "        }\n",
    "    ]\n",
    ")"
   ]
  },
  {
   "cell_type": "code",
   "execution_count": 0,
   "metadata": {
    "application/vnd.databricks.v1+cell": {
     "inputWidgets": {},
     "nuid": "20bb5fdf-b425-4345-868f-c4e1d806f813",
     "showTitle": false,
     "title": ""
    },
    "id": "tbR0CPEhhRke"
   },
   "outputs": [
    {
     "data": {
      "text/html": [
       "<style scoped>\n",
       "  .ansiout {\n",
       "    display: block;\n",
       "    unicode-bidi: embed;\n",
       "    white-space: pre-wrap;\n",
       "    word-wrap: break-word;\n",
       "    word-break: break-all;\n",
       "    font-family: \"Source Code Pro\", \"Menlo\", monospace;;\n",
       "    font-size: 13px;\n",
       "    color: #555;\n",
       "    margin-left: 4px;\n",
       "    line-height: 19px;\n",
       "  }\n",
       "</style>\n",
       "<div class=\"ansiout\"></div>"
      ]
     },
     "metadata": {
      "application/vnd.databricks.v1+output": {
       "addedWidgets": {},
       "arguments": {},
       "data": "<div class=\"ansiout\"></div>",
       "datasetInfos": [],
       "metadata": {},
       "removedWidgets": [],
       "type": "html"
      }
     },
     "output_type": "display_data"
    }
   ],
   "source": [
    "df = ore.fit_transform(df)"
   ]
  },
  {
   "cell_type": "code",
   "execution_count": 0,
   "metadata": {
    "application/vnd.databricks.v1+cell": {
     "inputWidgets": {},
     "nuid": "ec7a3eb3-9336-4f82-aafb-32b60de62f93",
     "showTitle": false,
     "title": ""
    },
    "id": "SsivbCEQhRke"
   },
   "outputs": [
    {
     "data": {
      "text/html": [
       "<style scoped>\n",
       "  .ansiout {\n",
       "    display: block;\n",
       "    unicode-bidi: embed;\n",
       "    white-space: pre-wrap;\n",
       "    word-wrap: break-word;\n",
       "    word-break: break-all;\n",
       "    font-family: \"Source Code Pro\", \"Menlo\", monospace;;\n",
       "    font-size: 13px;\n",
       "    color: #555;\n",
       "    margin-left: 4px;\n",
       "    line-height: 19px;\n",
       "  }\n",
       "</style>\n",
       "<div class=\"ansiout\"></div>"
      ]
     },
     "metadata": {
      "application/vnd.databricks.v1+output": {
       "addedWidgets": {},
       "arguments": {},
       "data": "<div class=\"ansiout\"></div>",
       "datasetInfos": [],
       "metadata": {},
       "removedWidgets": [],
       "type": "html"
      }
     },
     "output_type": "display_data"
    }
   ],
   "source": [
    "df = df.replace({'Yes': 1,'No': 0})\n",
    "df = pd.get_dummies(df, columns=['PaymentMethod'])"
   ]
  },
  {
   "cell_type": "code",
   "execution_count": 0,
   "metadata": {
    "application/vnd.databricks.v1+cell": {
     "inputWidgets": {},
     "nuid": "8ad8216b-b6dc-4810-bde1-e68fb742cffa",
     "showTitle": false,
     "title": ""
    },
    "colab": {
     "base_uri": "https://localhost:8080/"
    },
    "id": "nSKjpFfehRke",
    "outputId": "2101bc23-a08e-4931-f061-a9d7058caaa1"
   },
   "outputs": [
    {
     "data": {
      "text/html": [
       "<style scoped>\n",
       "  .ansiout {\n",
       "    display: block;\n",
       "    unicode-bidi: embed;\n",
       "    white-space: pre-wrap;\n",
       "    word-wrap: break-word;\n",
       "    word-break: break-all;\n",
       "    font-family: \"Source Code Pro\", \"Menlo\", monospace;;\n",
       "    font-size: 13px;\n",
       "    color: #555;\n",
       "    margin-left: 4px;\n",
       "    line-height: 19px;\n",
       "  }\n",
       "</style>\n",
       "<div class=\"ansiout\">Out[16]: Index([&#39;customerID&#39;, &#39;gender&#39;, &#39;SeniorCitizen&#39;, &#39;Partner&#39;, &#39;Dependents&#39;,\n",
       "       &#39;tenure&#39;, &#39;PhoneService&#39;, &#39;MultipleLines&#39;, &#39;InternetService&#39;,\n",
       "       &#39;OnlineSecurity&#39;, &#39;OnlineBackup&#39;, &#39;DeviceProtection&#39;, &#39;TechSupport&#39;,\n",
       "       &#39;StreamingTV&#39;, &#39;StreamingMovies&#39;, &#39;Contract&#39;, &#39;PaperlessBilling&#39;,\n",
       "       &#39;MonthlyCharges&#39;, &#39;TotalCharges&#39;, &#39;Churn&#39;,\n",
       "       &#39;PaymentMethod_Bank transfer (automatic)&#39;,\n",
       "       &#39;PaymentMethod_Credit card (automatic)&#39;,\n",
       "       &#39;PaymentMethod_Electronic check&#39;, &#39;PaymentMethod_Mailed check&#39;],\n",
       "      dtype=&#39;object&#39;)</div>"
      ]
     },
     "metadata": {
      "application/vnd.databricks.v1+output": {
       "addedWidgets": {},
       "arguments": {},
       "data": "<div class=\"ansiout\">Out[16]: Index([&#39;customerID&#39;, &#39;gender&#39;, &#39;SeniorCitizen&#39;, &#39;Partner&#39;, &#39;Dependents&#39;,\n       &#39;tenure&#39;, &#39;PhoneService&#39;, &#39;MultipleLines&#39;, &#39;InternetService&#39;,\n       &#39;OnlineSecurity&#39;, &#39;OnlineBackup&#39;, &#39;DeviceProtection&#39;, &#39;TechSupport&#39;,\n       &#39;StreamingTV&#39;, &#39;StreamingMovies&#39;, &#39;Contract&#39;, &#39;PaperlessBilling&#39;,\n       &#39;MonthlyCharges&#39;, &#39;TotalCharges&#39;, &#39;Churn&#39;,\n       &#39;PaymentMethod_Bank transfer (automatic)&#39;,\n       &#39;PaymentMethod_Credit card (automatic)&#39;,\n       &#39;PaymentMethod_Electronic check&#39;, &#39;PaymentMethod_Mailed check&#39;],\n      dtype=&#39;object&#39;)</div>",
       "datasetInfos": [],
       "metadata": {},
       "removedWidgets": [],
       "type": "html"
      }
     },
     "output_type": "display_data"
    }
   ],
   "source": [
    "df.columns"
   ]
  },
  {
   "cell_type": "code",
   "execution_count": 0,
   "metadata": {
    "application/vnd.databricks.v1+cell": {
     "inputWidgets": {},
     "nuid": "ed2b3577-86cd-4746-b828-a2b2b218064d",
     "showTitle": false,
     "title": ""
    },
    "id": "e4zHYP6IhRke"
   },
   "outputs": [
    {
     "data": {
      "text/html": [
       "<style scoped>\n",
       "  .ansiout {\n",
       "    display: block;\n",
       "    unicode-bidi: embed;\n",
       "    white-space: pre-wrap;\n",
       "    word-wrap: break-word;\n",
       "    word-break: break-all;\n",
       "    font-family: \"Source Code Pro\", \"Menlo\", monospace;;\n",
       "    font-size: 13px;\n",
       "    color: #555;\n",
       "    margin-left: 4px;\n",
       "    line-height: 19px;\n",
       "  }\n",
       "</style>\n",
       "<div class=\"ansiout\"></div>"
      ]
     },
     "metadata": {
      "application/vnd.databricks.v1+output": {
       "addedWidgets": {},
       "arguments": {},
       "data": "<div class=\"ansiout\"></div>",
       "datasetInfos": [],
       "metadata": {},
       "removedWidgets": [],
       "type": "html"
      }
     },
     "output_type": "display_data"
    }
   ],
   "source": [
    "column_names = [\n",
    "    'Churn',\n",
    "    'gender', \n",
    "    'SeniorCitizen', \n",
    "    'Partner', \n",
    "    'Dependents', \n",
    "    'tenure',\n",
    "    'PhoneService', \n",
    "    'MultipleLines', \n",
    "    'InternetService', \n",
    "    'OnlineSecurity',\n",
    "    'OnlineBackup', \n",
    "    'DeviceProtection', \n",
    "    'TechSupport', \n",
    "    'StreamingTV',\n",
    "    'StreamingMovies', \n",
    "    'Contract', \n",
    "    'PaperlessBilling', \n",
    "    'PaymentMethod_Bank transfer (automatic)',\n",
    "    'PaymentMethod_Credit card (automatic)',\n",
    "    'PaymentMethod_Electronic check', \n",
    "    'PaymentMethod_Mailed check', \n",
    "    'MonthlyCharges',\n",
    "    'TotalCharges']\n",
    "df = df.reindex(columns=column_names)"
   ]
  },
  {
   "cell_type": "code",
   "execution_count": 0,
   "metadata": {
    "application/vnd.databricks.v1+cell": {
     "inputWidgets": {},
     "nuid": "ccd71c4c-e9b6-4f31-82a7-a211cfd1ab32",
     "showTitle": false,
     "title": ""
    },
    "id": "RKulycqFhRkf"
   },
   "outputs": [
    {
     "data": {
      "text/html": [
       "<style scoped>\n",
       "  .ansiout {\n",
       "    display: block;\n",
       "    unicode-bidi: embed;\n",
       "    white-space: pre-wrap;\n",
       "    word-wrap: break-word;\n",
       "    word-break: break-all;\n",
       "    font-family: \"Source Code Pro\", \"Menlo\", monospace;;\n",
       "    font-size: 13px;\n",
       "    color: #555;\n",
       "    margin-left: 4px;\n",
       "    line-height: 19px;\n",
       "  }\n",
       "</style>\n",
       "<div class=\"ansiout\"></div>"
      ]
     },
     "metadata": {
      "application/vnd.databricks.v1+output": {
       "addedWidgets": {},
       "arguments": {},
       "data": "<div class=\"ansiout\"></div>",
       "datasetInfos": [],
       "metadata": {},
       "removedWidgets": [],
       "type": "html"
      }
     },
     "output_type": "display_data"
    }
   ],
   "source": [
    "df.to_csv('Churn_Processed.csv')"
   ]
  },
  {
   "cell_type": "markdown",
   "metadata": {
    "application/vnd.databricks.v1+cell": {
     "inputWidgets": {},
     "nuid": "7118fcc3-efdc-4d10-be8b-d189f37fa0ca",
     "showTitle": false,
     "title": ""
    },
    "id": "tXvHnOeyhRkf"
   },
   "source": [
    "# Preliminary Data Exploration\n",
    "Contributor(s): @uzairxy\n",
    "\n",
    "Looking at nulls across columns, multi-collinearity and variable distributions."
   ]
  },
  {
   "cell_type": "code",
   "execution_count": 0,
   "metadata": {
    "application/vnd.databricks.v1+cell": {
     "inputWidgets": {},
     "nuid": "e36f9a3a-5712-4cb5-979a-5a87c5939a78",
     "showTitle": false,
     "title": ""
    },
    "colab": {
     "base_uri": "https://localhost:8080/",
     "height": 522
    },
    "id": "wbs2PcH8hRkf",
    "outputId": "527d1d75-e6b5-4f4b-83fe-cd5ca6a192a5"
   },
   "outputs": [
    {
     "data": {
      "text/html": [
       "<style scoped>\n",
       "  .ansiout {\n",
       "    display: block;\n",
       "    unicode-bidi: embed;\n",
       "    white-space: pre-wrap;\n",
       "    word-wrap: break-word;\n",
       "    word-break: break-all;\n",
       "    font-family: \"Source Code Pro\", \"Menlo\", monospace;;\n",
       "    font-size: 13px;\n",
       "    color: #555;\n",
       "    margin-left: 4px;\n",
       "    line-height: 19px;\n",
       "  }\n",
       "</style>\n",
       "<div class=\"ansiout\">Out[19]: </div>"
      ]
     },
     "metadata": {
      "application/vnd.databricks.v1+output": {
       "addedWidgets": {},
       "arguments": {},
       "data": "<div class=\"ansiout\">Out[19]: </div>",
       "datasetInfos": [],
       "metadata": {},
       "removedWidgets": [],
       "type": "html"
      }
     },
     "output_type": "display_data"
    },
    {
     "data": {
      "text/html": [
       "<div>\n",
       "<style scoped>\n",
       "    .dataframe tbody tr th:only-of-type {\n",
       "        vertical-align: middle;\n",
       "    }\n",
       "\n",
       "    .dataframe tbody tr th {\n",
       "        vertical-align: top;\n",
       "    }\n",
       "\n",
       "    .dataframe thead th {\n",
       "        text-align: right;\n",
       "    }\n",
       "</style>\n",
       "<table border=\"1\" class=\"dataframe\">\n",
       "  <thead>\n",
       "    <tr style=\"text-align: right;\">\n",
       "      <th></th>\n",
       "      <th>Churn</th>\n",
       "      <th>gender</th>\n",
       "      <th>SeniorCitizen</th>\n",
       "      <th>Partner</th>\n",
       "      <th>Dependents</th>\n",
       "      <th>tenure</th>\n",
       "      <th>PhoneService</th>\n",
       "      <th>MultipleLines</th>\n",
       "      <th>InternetService</th>\n",
       "      <th>OnlineSecurity</th>\n",
       "      <th>OnlineBackup</th>\n",
       "      <th>DeviceProtection</th>\n",
       "      <th>TechSupport</th>\n",
       "      <th>StreamingTV</th>\n",
       "      <th>StreamingMovies</th>\n",
       "      <th>Contract</th>\n",
       "      <th>PaperlessBilling</th>\n",
       "      <th>PaymentMethod_Bank transfer (automatic)</th>\n",
       "      <th>PaymentMethod_Credit card (automatic)</th>\n",
       "      <th>PaymentMethod_Electronic check</th>\n",
       "      <th>PaymentMethod_Mailed check</th>\n",
       "      <th>MonthlyCharges</th>\n",
       "      <th>TotalCharges</th>\n",
       "    </tr>\n",
       "  </thead>\n",
       "  <tbody>\n",
       "    <tr>\n",
       "      <th>0</th>\n",
       "      <td>0</td>\n",
       "      <td>1</td>\n",
       "      <td>0</td>\n",
       "      <td>1</td>\n",
       "      <td>0</td>\n",
       "      <td>1</td>\n",
       "      <td>0</td>\n",
       "      <td>-1</td>\n",
       "      <td>1</td>\n",
       "      <td>1</td>\n",
       "      <td>2</td>\n",
       "      <td>1</td>\n",
       "      <td>1</td>\n",
       "      <td>1</td>\n",
       "      <td>1</td>\n",
       "      <td>1</td>\n",
       "      <td>1</td>\n",
       "      <td>0</td>\n",
       "      <td>0</td>\n",
       "      <td>1</td>\n",
       "      <td>0</td>\n",
       "      <td>29.85</td>\n",
       "      <td>29.85</td>\n",
       "    </tr>\n",
       "    <tr>\n",
       "      <th>1</th>\n",
       "      <td>0</td>\n",
       "      <td>0</td>\n",
       "      <td>0</td>\n",
       "      <td>0</td>\n",
       "      <td>0</td>\n",
       "      <td>34</td>\n",
       "      <td>1</td>\n",
       "      <td>1</td>\n",
       "      <td>1</td>\n",
       "      <td>2</td>\n",
       "      <td>1</td>\n",
       "      <td>2</td>\n",
       "      <td>1</td>\n",
       "      <td>1</td>\n",
       "      <td>1</td>\n",
       "      <td>2</td>\n",
       "      <td>0</td>\n",
       "      <td>0</td>\n",
       "      <td>0</td>\n",
       "      <td>0</td>\n",
       "      <td>1</td>\n",
       "      <td>56.95</td>\n",
       "      <td>1889.50</td>\n",
       "    </tr>\n",
       "    <tr>\n",
       "      <th>2</th>\n",
       "      <td>1</td>\n",
       "      <td>0</td>\n",
       "      <td>0</td>\n",
       "      <td>0</td>\n",
       "      <td>0</td>\n",
       "      <td>2</td>\n",
       "      <td>1</td>\n",
       "      <td>1</td>\n",
       "      <td>1</td>\n",
       "      <td>2</td>\n",
       "      <td>2</td>\n",
       "      <td>1</td>\n",
       "      <td>1</td>\n",
       "      <td>1</td>\n",
       "      <td>1</td>\n",
       "      <td>1</td>\n",
       "      <td>1</td>\n",
       "      <td>0</td>\n",
       "      <td>0</td>\n",
       "      <td>0</td>\n",
       "      <td>1</td>\n",
       "      <td>53.85</td>\n",
       "      <td>108.15</td>\n",
       "    </tr>\n",
       "    <tr>\n",
       "      <th>3</th>\n",
       "      <td>0</td>\n",
       "      <td>0</td>\n",
       "      <td>0</td>\n",
       "      <td>0</td>\n",
       "      <td>0</td>\n",
       "      <td>45</td>\n",
       "      <td>0</td>\n",
       "      <td>-1</td>\n",
       "      <td>1</td>\n",
       "      <td>2</td>\n",
       "      <td>1</td>\n",
       "      <td>2</td>\n",
       "      <td>2</td>\n",
       "      <td>1</td>\n",
       "      <td>1</td>\n",
       "      <td>2</td>\n",
       "      <td>0</td>\n",
       "      <td>1</td>\n",
       "      <td>0</td>\n",
       "      <td>0</td>\n",
       "      <td>0</td>\n",
       "      <td>42.30</td>\n",
       "      <td>1840.75</td>\n",
       "    </tr>\n",
       "    <tr>\n",
       "      <th>4</th>\n",
       "      <td>1</td>\n",
       "      <td>1</td>\n",
       "      <td>0</td>\n",
       "      <td>0</td>\n",
       "      <td>0</td>\n",
       "      <td>2</td>\n",
       "      <td>1</td>\n",
       "      <td>1</td>\n",
       "      <td>2</td>\n",
       "      <td>1</td>\n",
       "      <td>1</td>\n",
       "      <td>1</td>\n",
       "      <td>1</td>\n",
       "      <td>1</td>\n",
       "      <td>1</td>\n",
       "      <td>1</td>\n",
       "      <td>1</td>\n",
       "      <td>0</td>\n",
       "      <td>0</td>\n",
       "      <td>1</td>\n",
       "      <td>0</td>\n",
       "      <td>70.70</td>\n",
       "      <td>151.65</td>\n",
       "    </tr>\n",
       "    <tr>\n",
       "      <th>...</th>\n",
       "      <td>...</td>\n",
       "      <td>...</td>\n",
       "      <td>...</td>\n",
       "      <td>...</td>\n",
       "      <td>...</td>\n",
       "      <td>...</td>\n",
       "      <td>...</td>\n",
       "      <td>...</td>\n",
       "      <td>...</td>\n",
       "      <td>...</td>\n",
       "      <td>...</td>\n",
       "      <td>...</td>\n",
       "      <td>...</td>\n",
       "      <td>...</td>\n",
       "      <td>...</td>\n",
       "      <td>...</td>\n",
       "      <td>...</td>\n",
       "      <td>...</td>\n",
       "      <td>...</td>\n",
       "      <td>...</td>\n",
       "      <td>...</td>\n",
       "      <td>...</td>\n",
       "      <td>...</td>\n",
       "    </tr>\n",
       "    <tr>\n",
       "      <th>7038</th>\n",
       "      <td>0</td>\n",
       "      <td>0</td>\n",
       "      <td>0</td>\n",
       "      <td>1</td>\n",
       "      <td>1</td>\n",
       "      <td>24</td>\n",
       "      <td>1</td>\n",
       "      <td>2</td>\n",
       "      <td>1</td>\n",
       "      <td>2</td>\n",
       "      <td>1</td>\n",
       "      <td>2</td>\n",
       "      <td>2</td>\n",
       "      <td>2</td>\n",
       "      <td>2</td>\n",
       "      <td>2</td>\n",
       "      <td>1</td>\n",
       "      <td>0</td>\n",
       "      <td>0</td>\n",
       "      <td>0</td>\n",
       "      <td>1</td>\n",
       "      <td>84.80</td>\n",
       "      <td>1990.50</td>\n",
       "    </tr>\n",
       "    <tr>\n",
       "      <th>7039</th>\n",
       "      <td>0</td>\n",
       "      <td>1</td>\n",
       "      <td>0</td>\n",
       "      <td>1</td>\n",
       "      <td>1</td>\n",
       "      <td>72</td>\n",
       "      <td>1</td>\n",
       "      <td>2</td>\n",
       "      <td>2</td>\n",
       "      <td>1</td>\n",
       "      <td>2</td>\n",
       "      <td>2</td>\n",
       "      <td>1</td>\n",
       "      <td>2</td>\n",
       "      <td>2</td>\n",
       "      <td>2</td>\n",
       "      <td>1</td>\n",
       "      <td>0</td>\n",
       "      <td>1</td>\n",
       "      <td>0</td>\n",
       "      <td>0</td>\n",
       "      <td>103.20</td>\n",
       "      <td>7362.90</td>\n",
       "    </tr>\n",
       "    <tr>\n",
       "      <th>7040</th>\n",
       "      <td>0</td>\n",
       "      <td>1</td>\n",
       "      <td>0</td>\n",
       "      <td>1</td>\n",
       "      <td>1</td>\n",
       "      <td>11</td>\n",
       "      <td>0</td>\n",
       "      <td>-1</td>\n",
       "      <td>1</td>\n",
       "      <td>2</td>\n",
       "      <td>1</td>\n",
       "      <td>1</td>\n",
       "      <td>1</td>\n",
       "      <td>1</td>\n",
       "      <td>1</td>\n",
       "      <td>1</td>\n",
       "      <td>1</td>\n",
       "      <td>0</td>\n",
       "      <td>0</td>\n",
       "      <td>1</td>\n",
       "      <td>0</td>\n",
       "      <td>29.60</td>\n",
       "      <td>346.45</td>\n",
       "    </tr>\n",
       "    <tr>\n",
       "      <th>7041</th>\n",
       "      <td>1</td>\n",
       "      <td>0</td>\n",
       "      <td>1</td>\n",
       "      <td>1</td>\n",
       "      <td>0</td>\n",
       "      <td>4</td>\n",
       "      <td>1</td>\n",
       "      <td>2</td>\n",
       "      <td>2</td>\n",
       "      <td>1</td>\n",
       "      <td>1</td>\n",
       "      <td>1</td>\n",
       "      <td>1</td>\n",
       "      <td>1</td>\n",
       "      <td>1</td>\n",
       "      <td>1</td>\n",
       "      <td>1</td>\n",
       "      <td>0</td>\n",
       "      <td>0</td>\n",
       "      <td>0</td>\n",
       "      <td>1</td>\n",
       "      <td>74.40</td>\n",
       "      <td>306.60</td>\n",
       "    </tr>\n",
       "    <tr>\n",
       "      <th>7042</th>\n",
       "      <td>0</td>\n",
       "      <td>0</td>\n",
       "      <td>0</td>\n",
       "      <td>0</td>\n",
       "      <td>0</td>\n",
       "      <td>66</td>\n",
       "      <td>1</td>\n",
       "      <td>1</td>\n",
       "      <td>2</td>\n",
       "      <td>2</td>\n",
       "      <td>1</td>\n",
       "      <td>2</td>\n",
       "      <td>2</td>\n",
       "      <td>2</td>\n",
       "      <td>2</td>\n",
       "      <td>3</td>\n",
       "      <td>1</td>\n",
       "      <td>1</td>\n",
       "      <td>0</td>\n",
       "      <td>0</td>\n",
       "      <td>0</td>\n",
       "      <td>105.65</td>\n",
       "      <td>6844.50</td>\n",
       "    </tr>\n",
       "  </tbody>\n",
       "</table>\n",
       "<p>7043 rows × 23 columns</p>\n",
       "</div>"
      ]
     },
     "metadata": {
      "application/vnd.databricks.v1+output": {
       "addedWidgets": {},
       "arguments": {},
       "data": "<div>\n<style scoped>\n    .dataframe tbody tr th:only-of-type {\n        vertical-align: middle;\n    }\n\n    .dataframe tbody tr th {\n        vertical-align: top;\n    }\n\n    .dataframe thead th {\n        text-align: right;\n    }\n</style>\n<table border=\"1\" class=\"dataframe\">\n  <thead>\n    <tr style=\"text-align: right;\">\n      <th></th>\n      <th>Churn</th>\n      <th>gender</th>\n      <th>SeniorCitizen</th>\n      <th>Partner</th>\n      <th>Dependents</th>\n      <th>tenure</th>\n      <th>PhoneService</th>\n      <th>MultipleLines</th>\n      <th>InternetService</th>\n      <th>OnlineSecurity</th>\n      <th>OnlineBackup</th>\n      <th>DeviceProtection</th>\n      <th>TechSupport</th>\n      <th>StreamingTV</th>\n      <th>StreamingMovies</th>\n      <th>Contract</th>\n      <th>PaperlessBilling</th>\n      <th>PaymentMethod_Bank transfer (automatic)</th>\n      <th>PaymentMethod_Credit card (automatic)</th>\n      <th>PaymentMethod_Electronic check</th>\n      <th>PaymentMethod_Mailed check</th>\n      <th>MonthlyCharges</th>\n      <th>TotalCharges</th>\n    </tr>\n  </thead>\n  <tbody>\n    <tr>\n      <th>0</th>\n      <td>0</td>\n      <td>1</td>\n      <td>0</td>\n      <td>1</td>\n      <td>0</td>\n      <td>1</td>\n      <td>0</td>\n      <td>-1</td>\n      <td>1</td>\n      <td>1</td>\n      <td>2</td>\n      <td>1</td>\n      <td>1</td>\n      <td>1</td>\n      <td>1</td>\n      <td>1</td>\n      <td>1</td>\n      <td>0</td>\n      <td>0</td>\n      <td>1</td>\n      <td>0</td>\n      <td>29.85</td>\n      <td>29.85</td>\n    </tr>\n    <tr>\n      <th>1</th>\n      <td>0</td>\n      <td>0</td>\n      <td>0</td>\n      <td>0</td>\n      <td>0</td>\n      <td>34</td>\n      <td>1</td>\n      <td>1</td>\n      <td>1</td>\n      <td>2</td>\n      <td>1</td>\n      <td>2</td>\n      <td>1</td>\n      <td>1</td>\n      <td>1</td>\n      <td>2</td>\n      <td>0</td>\n      <td>0</td>\n      <td>0</td>\n      <td>0</td>\n      <td>1</td>\n      <td>56.95</td>\n      <td>1889.50</td>\n    </tr>\n    <tr>\n      <th>2</th>\n      <td>1</td>\n      <td>0</td>\n      <td>0</td>\n      <td>0</td>\n      <td>0</td>\n      <td>2</td>\n      <td>1</td>\n      <td>1</td>\n      <td>1</td>\n      <td>2</td>\n      <td>2</td>\n      <td>1</td>\n      <td>1</td>\n      <td>1</td>\n      <td>1</td>\n      <td>1</td>\n      <td>1</td>\n      <td>0</td>\n      <td>0</td>\n      <td>0</td>\n      <td>1</td>\n      <td>53.85</td>\n      <td>108.15</td>\n    </tr>\n    <tr>\n      <th>3</th>\n      <td>0</td>\n      <td>0</td>\n      <td>0</td>\n      <td>0</td>\n      <td>0</td>\n      <td>45</td>\n      <td>0</td>\n      <td>-1</td>\n      <td>1</td>\n      <td>2</td>\n      <td>1</td>\n      <td>2</td>\n      <td>2</td>\n      <td>1</td>\n      <td>1</td>\n      <td>2</td>\n      <td>0</td>\n      <td>1</td>\n      <td>0</td>\n      <td>0</td>\n      <td>0</td>\n      <td>42.30</td>\n      <td>1840.75</td>\n    </tr>\n    <tr>\n      <th>4</th>\n      <td>1</td>\n      <td>1</td>\n      <td>0</td>\n      <td>0</td>\n      <td>0</td>\n      <td>2</td>\n      <td>1</td>\n      <td>1</td>\n      <td>2</td>\n      <td>1</td>\n      <td>1</td>\n      <td>1</td>\n      <td>1</td>\n      <td>1</td>\n      <td>1</td>\n      <td>1</td>\n      <td>1</td>\n      <td>0</td>\n      <td>0</td>\n      <td>1</td>\n      <td>0</td>\n      <td>70.70</td>\n      <td>151.65</td>\n    </tr>\n    <tr>\n      <th>...</th>\n      <td>...</td>\n      <td>...</td>\n      <td>...</td>\n      <td>...</td>\n      <td>...</td>\n      <td>...</td>\n      <td>...</td>\n      <td>...</td>\n      <td>...</td>\n      <td>...</td>\n      <td>...</td>\n      <td>...</td>\n      <td>...</td>\n      <td>...</td>\n      <td>...</td>\n      <td>...</td>\n      <td>...</td>\n      <td>...</td>\n      <td>...</td>\n      <td>...</td>\n      <td>...</td>\n      <td>...</td>\n      <td>...</td>\n    </tr>\n    <tr>\n      <th>7038</th>\n      <td>0</td>\n      <td>0</td>\n      <td>0</td>\n      <td>1</td>\n      <td>1</td>\n      <td>24</td>\n      <td>1</td>\n      <td>2</td>\n      <td>1</td>\n      <td>2</td>\n      <td>1</td>\n      <td>2</td>\n      <td>2</td>\n      <td>2</td>\n      <td>2</td>\n      <td>2</td>\n      <td>1</td>\n      <td>0</td>\n      <td>0</td>\n      <td>0</td>\n      <td>1</td>\n      <td>84.80</td>\n      <td>1990.50</td>\n    </tr>\n    <tr>\n      <th>7039</th>\n      <td>0</td>\n      <td>1</td>\n      <td>0</td>\n      <td>1</td>\n      <td>1</td>\n      <td>72</td>\n      <td>1</td>\n      <td>2</td>\n      <td>2</td>\n      <td>1</td>\n      <td>2</td>\n      <td>2</td>\n      <td>1</td>\n      <td>2</td>\n      <td>2</td>\n      <td>2</td>\n      <td>1</td>\n      <td>0</td>\n      <td>1</td>\n      <td>0</td>\n      <td>0</td>\n      <td>103.20</td>\n      <td>7362.90</td>\n    </tr>\n    <tr>\n      <th>7040</th>\n      <td>0</td>\n      <td>1</td>\n      <td>0</td>\n      <td>1</td>\n      <td>1</td>\n      <td>11</td>\n      <td>0</td>\n      <td>-1</td>\n      <td>1</td>\n      <td>2</td>\n      <td>1</td>\n      <td>1</td>\n      <td>1</td>\n      <td>1</td>\n      <td>1</td>\n      <td>1</td>\n      <td>1</td>\n      <td>0</td>\n      <td>0</td>\n      <td>1</td>\n      <td>0</td>\n      <td>29.60</td>\n      <td>346.45</td>\n    </tr>\n    <tr>\n      <th>7041</th>\n      <td>1</td>\n      <td>0</td>\n      <td>1</td>\n      <td>1</td>\n      <td>0</td>\n      <td>4</td>\n      <td>1</td>\n      <td>2</td>\n      <td>2</td>\n      <td>1</td>\n      <td>1</td>\n      <td>1</td>\n      <td>1</td>\n      <td>1</td>\n      <td>1</td>\n      <td>1</td>\n      <td>1</td>\n      <td>0</td>\n      <td>0</td>\n      <td>0</td>\n      <td>1</td>\n      <td>74.40</td>\n      <td>306.60</td>\n    </tr>\n    <tr>\n      <th>7042</th>\n      <td>0</td>\n      <td>0</td>\n      <td>0</td>\n      <td>0</td>\n      <td>0</td>\n      <td>66</td>\n      <td>1</td>\n      <td>1</td>\n      <td>2</td>\n      <td>2</td>\n      <td>1</td>\n      <td>2</td>\n      <td>2</td>\n      <td>2</td>\n      <td>2</td>\n      <td>3</td>\n      <td>1</td>\n      <td>1</td>\n      <td>0</td>\n      <td>0</td>\n      <td>0</td>\n      <td>105.65</td>\n      <td>6844.50</td>\n    </tr>\n  </tbody>\n</table>\n<p>7043 rows × 23 columns</p>\n</div>",
       "datasetInfos": [],
       "metadata": {},
       "removedWidgets": [],
       "textData": null,
       "type": "htmlSandbox"
      }
     },
     "output_type": "display_data"
    }
   ],
   "source": [
    "df['TotalCharges'] = pd.to_numeric(df['TotalCharges'], errors='coerce')\n",
    "df"
   ]
  },
  {
   "cell_type": "code",
   "execution_count": 0,
   "metadata": {
    "application/vnd.databricks.v1+cell": {
     "inputWidgets": {},
     "nuid": "a646843b-af00-4a45-aaea-6f108dcb19be",
     "showTitle": false,
     "title": ""
    },
    "colab": {
     "base_uri": "https://localhost:8080/",
     "height": 522
    },
    "id": "sWHXgk6AhRkg",
    "outputId": "b2b3519d-7847-4cea-d2a8-11603518d96a"
   },
   "outputs": [
    {
     "data": {
      "text/html": [
       "<style scoped>\n",
       "  .ansiout {\n",
       "    display: block;\n",
       "    unicode-bidi: embed;\n",
       "    white-space: pre-wrap;\n",
       "    word-wrap: break-word;\n",
       "    word-break: break-all;\n",
       "    font-family: \"Source Code Pro\", \"Menlo\", monospace;;\n",
       "    font-size: 13px;\n",
       "    color: #555;\n",
       "    margin-left: 4px;\n",
       "    line-height: 19px;\n",
       "  }\n",
       "</style>\n",
       "<div class=\"ansiout\">Out[20]: </div>"
      ]
     },
     "metadata": {
      "application/vnd.databricks.v1+output": {
       "addedWidgets": {},
       "arguments": {},
       "data": "<div class=\"ansiout\">Out[20]: </div>",
       "datasetInfos": [],
       "metadata": {},
       "removedWidgets": [],
       "type": "html"
      }
     },
     "output_type": "display_data"
    },
    {
     "data": {
      "text/html": [
       "<div>\n",
       "<style scoped>\n",
       "    .dataframe tbody tr th:only-of-type {\n",
       "        vertical-align: middle;\n",
       "    }\n",
       "\n",
       "    .dataframe tbody tr th {\n",
       "        vertical-align: top;\n",
       "    }\n",
       "\n",
       "    .dataframe thead th {\n",
       "        text-align: right;\n",
       "    }\n",
       "</style>\n",
       "<table border=\"1\" class=\"dataframe\">\n",
       "  <thead>\n",
       "    <tr style=\"text-align: right;\">\n",
       "      <th></th>\n",
       "      <th>Churn</th>\n",
       "      <th>gender</th>\n",
       "      <th>SeniorCitizen</th>\n",
       "      <th>Partner</th>\n",
       "      <th>Dependents</th>\n",
       "      <th>tenure</th>\n",
       "      <th>PhoneService</th>\n",
       "      <th>MultipleLines</th>\n",
       "      <th>InternetService</th>\n",
       "      <th>OnlineSecurity</th>\n",
       "      <th>OnlineBackup</th>\n",
       "      <th>DeviceProtection</th>\n",
       "      <th>TechSupport</th>\n",
       "      <th>StreamingTV</th>\n",
       "      <th>StreamingMovies</th>\n",
       "      <th>Contract</th>\n",
       "      <th>PaperlessBilling</th>\n",
       "      <th>PaymentMethod_Bank transfer (automatic)</th>\n",
       "      <th>PaymentMethod_Credit card (automatic)</th>\n",
       "      <th>PaymentMethod_Electronic check</th>\n",
       "      <th>PaymentMethod_Mailed check</th>\n",
       "      <th>MonthlyCharges</th>\n",
       "      <th>TotalCharges</th>\n",
       "    </tr>\n",
       "  </thead>\n",
       "  <tbody>\n",
       "    <tr>\n",
       "      <th>488</th>\n",
       "      <td>0</td>\n",
       "      <td>1</td>\n",
       "      <td>0</td>\n",
       "      <td>1</td>\n",
       "      <td>1</td>\n",
       "      <td>0</td>\n",
       "      <td>0</td>\n",
       "      <td>-1</td>\n",
       "      <td>1</td>\n",
       "      <td>2</td>\n",
       "      <td>1</td>\n",
       "      <td>2</td>\n",
       "      <td>2</td>\n",
       "      <td>2</td>\n",
       "      <td>1</td>\n",
       "      <td>3</td>\n",
       "      <td>1</td>\n",
       "      <td>1</td>\n",
       "      <td>0</td>\n",
       "      <td>0</td>\n",
       "      <td>0</td>\n",
       "      <td>52.55</td>\n",
       "      <td>NaN</td>\n",
       "    </tr>\n",
       "    <tr>\n",
       "      <th>753</th>\n",
       "      <td>0</td>\n",
       "      <td>0</td>\n",
       "      <td>0</td>\n",
       "      <td>0</td>\n",
       "      <td>1</td>\n",
       "      <td>0</td>\n",
       "      <td>1</td>\n",
       "      <td>1</td>\n",
       "      <td>0</td>\n",
       "      <td>-1</td>\n",
       "      <td>-1</td>\n",
       "      <td>-1</td>\n",
       "      <td>-1</td>\n",
       "      <td>-1</td>\n",
       "      <td>-1</td>\n",
       "      <td>3</td>\n",
       "      <td>0</td>\n",
       "      <td>0</td>\n",
       "      <td>0</td>\n",
       "      <td>0</td>\n",
       "      <td>1</td>\n",
       "      <td>20.25</td>\n",
       "      <td>NaN</td>\n",
       "    </tr>\n",
       "    <tr>\n",
       "      <th>936</th>\n",
       "      <td>0</td>\n",
       "      <td>1</td>\n",
       "      <td>0</td>\n",
       "      <td>1</td>\n",
       "      <td>1</td>\n",
       "      <td>0</td>\n",
       "      <td>1</td>\n",
       "      <td>1</td>\n",
       "      <td>1</td>\n",
       "      <td>2</td>\n",
       "      <td>2</td>\n",
       "      <td>2</td>\n",
       "      <td>1</td>\n",
       "      <td>2</td>\n",
       "      <td>2</td>\n",
       "      <td>3</td>\n",
       "      <td>0</td>\n",
       "      <td>0</td>\n",
       "      <td>0</td>\n",
       "      <td>0</td>\n",
       "      <td>1</td>\n",
       "      <td>80.85</td>\n",
       "      <td>NaN</td>\n",
       "    </tr>\n",
       "    <tr>\n",
       "      <th>1082</th>\n",
       "      <td>0</td>\n",
       "      <td>0</td>\n",
       "      <td>0</td>\n",
       "      <td>1</td>\n",
       "      <td>1</td>\n",
       "      <td>0</td>\n",
       "      <td>1</td>\n",
       "      <td>2</td>\n",
       "      <td>0</td>\n",
       "      <td>-1</td>\n",
       "      <td>-1</td>\n",
       "      <td>-1</td>\n",
       "      <td>-1</td>\n",
       "      <td>-1</td>\n",
       "      <td>-1</td>\n",
       "      <td>3</td>\n",
       "      <td>0</td>\n",
       "      <td>0</td>\n",
       "      <td>0</td>\n",
       "      <td>0</td>\n",
       "      <td>1</td>\n",
       "      <td>25.75</td>\n",
       "      <td>NaN</td>\n",
       "    </tr>\n",
       "    <tr>\n",
       "      <th>1340</th>\n",
       "      <td>0</td>\n",
       "      <td>1</td>\n",
       "      <td>0</td>\n",
       "      <td>1</td>\n",
       "      <td>1</td>\n",
       "      <td>0</td>\n",
       "      <td>0</td>\n",
       "      <td>-1</td>\n",
       "      <td>1</td>\n",
       "      <td>2</td>\n",
       "      <td>2</td>\n",
       "      <td>2</td>\n",
       "      <td>2</td>\n",
       "      <td>2</td>\n",
       "      <td>1</td>\n",
       "      <td>3</td>\n",
       "      <td>0</td>\n",
       "      <td>0</td>\n",
       "      <td>1</td>\n",
       "      <td>0</td>\n",
       "      <td>0</td>\n",
       "      <td>56.05</td>\n",
       "      <td>NaN</td>\n",
       "    </tr>\n",
       "    <tr>\n",
       "      <th>3331</th>\n",
       "      <td>0</td>\n",
       "      <td>0</td>\n",
       "      <td>0</td>\n",
       "      <td>1</td>\n",
       "      <td>1</td>\n",
       "      <td>0</td>\n",
       "      <td>1</td>\n",
       "      <td>1</td>\n",
       "      <td>0</td>\n",
       "      <td>-1</td>\n",
       "      <td>-1</td>\n",
       "      <td>-1</td>\n",
       "      <td>-1</td>\n",
       "      <td>-1</td>\n",
       "      <td>-1</td>\n",
       "      <td>3</td>\n",
       "      <td>0</td>\n",
       "      <td>0</td>\n",
       "      <td>0</td>\n",
       "      <td>0</td>\n",
       "      <td>1</td>\n",
       "      <td>19.85</td>\n",
       "      <td>NaN</td>\n",
       "    </tr>\n",
       "    <tr>\n",
       "      <th>3826</th>\n",
       "      <td>0</td>\n",
       "      <td>0</td>\n",
       "      <td>0</td>\n",
       "      <td>1</td>\n",
       "      <td>1</td>\n",
       "      <td>0</td>\n",
       "      <td>1</td>\n",
       "      <td>2</td>\n",
       "      <td>0</td>\n",
       "      <td>-1</td>\n",
       "      <td>-1</td>\n",
       "      <td>-1</td>\n",
       "      <td>-1</td>\n",
       "      <td>-1</td>\n",
       "      <td>-1</td>\n",
       "      <td>3</td>\n",
       "      <td>0</td>\n",
       "      <td>0</td>\n",
       "      <td>0</td>\n",
       "      <td>0</td>\n",
       "      <td>1</td>\n",
       "      <td>25.35</td>\n",
       "      <td>NaN</td>\n",
       "    </tr>\n",
       "    <tr>\n",
       "      <th>4380</th>\n",
       "      <td>0</td>\n",
       "      <td>1</td>\n",
       "      <td>0</td>\n",
       "      <td>1</td>\n",
       "      <td>1</td>\n",
       "      <td>0</td>\n",
       "      <td>1</td>\n",
       "      <td>1</td>\n",
       "      <td>0</td>\n",
       "      <td>-1</td>\n",
       "      <td>-1</td>\n",
       "      <td>-1</td>\n",
       "      <td>-1</td>\n",
       "      <td>-1</td>\n",
       "      <td>-1</td>\n",
       "      <td>3</td>\n",
       "      <td>0</td>\n",
       "      <td>0</td>\n",
       "      <td>0</td>\n",
       "      <td>0</td>\n",
       "      <td>1</td>\n",
       "      <td>20.00</td>\n",
       "      <td>NaN</td>\n",
       "    </tr>\n",
       "    <tr>\n",
       "      <th>5218</th>\n",
       "      <td>0</td>\n",
       "      <td>0</td>\n",
       "      <td>0</td>\n",
       "      <td>1</td>\n",
       "      <td>1</td>\n",
       "      <td>0</td>\n",
       "      <td>1</td>\n",
       "      <td>1</td>\n",
       "      <td>0</td>\n",
       "      <td>-1</td>\n",
       "      <td>-1</td>\n",
       "      <td>-1</td>\n",
       "      <td>-1</td>\n",
       "      <td>-1</td>\n",
       "      <td>-1</td>\n",
       "      <td>2</td>\n",
       "      <td>1</td>\n",
       "      <td>0</td>\n",
       "      <td>0</td>\n",
       "      <td>0</td>\n",
       "      <td>1</td>\n",
       "      <td>19.70</td>\n",
       "      <td>NaN</td>\n",
       "    </tr>\n",
       "    <tr>\n",
       "      <th>6670</th>\n",
       "      <td>0</td>\n",
       "      <td>1</td>\n",
       "      <td>0</td>\n",
       "      <td>1</td>\n",
       "      <td>1</td>\n",
       "      <td>0</td>\n",
       "      <td>1</td>\n",
       "      <td>2</td>\n",
       "      <td>1</td>\n",
       "      <td>1</td>\n",
       "      <td>2</td>\n",
       "      <td>2</td>\n",
       "      <td>2</td>\n",
       "      <td>2</td>\n",
       "      <td>1</td>\n",
       "      <td>3</td>\n",
       "      <td>0</td>\n",
       "      <td>0</td>\n",
       "      <td>0</td>\n",
       "      <td>0</td>\n",
       "      <td>1</td>\n",
       "      <td>73.35</td>\n",
       "      <td>NaN</td>\n",
       "    </tr>\n",
       "    <tr>\n",
       "      <th>6754</th>\n",
       "      <td>0</td>\n",
       "      <td>0</td>\n",
       "      <td>0</td>\n",
       "      <td>0</td>\n",
       "      <td>1</td>\n",
       "      <td>0</td>\n",
       "      <td>1</td>\n",
       "      <td>2</td>\n",
       "      <td>1</td>\n",
       "      <td>2</td>\n",
       "      <td>2</td>\n",
       "      <td>1</td>\n",
       "      <td>2</td>\n",
       "      <td>1</td>\n",
       "      <td>1</td>\n",
       "      <td>3</td>\n",
       "      <td>1</td>\n",
       "      <td>1</td>\n",
       "      <td>0</td>\n",
       "      <td>0</td>\n",
       "      <td>0</td>\n",
       "      <td>61.90</td>\n",
       "      <td>NaN</td>\n",
       "    </tr>\n",
       "  </tbody>\n",
       "</table>\n",
       "</div>"
      ]
     },
     "metadata": {
      "application/vnd.databricks.v1+output": {
       "addedWidgets": {},
       "arguments": {},
       "data": "<div>\n<style scoped>\n    .dataframe tbody tr th:only-of-type {\n        vertical-align: middle;\n    }\n\n    .dataframe tbody tr th {\n        vertical-align: top;\n    }\n\n    .dataframe thead th {\n        text-align: right;\n    }\n</style>\n<table border=\"1\" class=\"dataframe\">\n  <thead>\n    <tr style=\"text-align: right;\">\n      <th></th>\n      <th>Churn</th>\n      <th>gender</th>\n      <th>SeniorCitizen</th>\n      <th>Partner</th>\n      <th>Dependents</th>\n      <th>tenure</th>\n      <th>PhoneService</th>\n      <th>MultipleLines</th>\n      <th>InternetService</th>\n      <th>OnlineSecurity</th>\n      <th>OnlineBackup</th>\n      <th>DeviceProtection</th>\n      <th>TechSupport</th>\n      <th>StreamingTV</th>\n      <th>StreamingMovies</th>\n      <th>Contract</th>\n      <th>PaperlessBilling</th>\n      <th>PaymentMethod_Bank transfer (automatic)</th>\n      <th>PaymentMethod_Credit card (automatic)</th>\n      <th>PaymentMethod_Electronic check</th>\n      <th>PaymentMethod_Mailed check</th>\n      <th>MonthlyCharges</th>\n      <th>TotalCharges</th>\n    </tr>\n  </thead>\n  <tbody>\n    <tr>\n      <th>488</th>\n      <td>0</td>\n      <td>1</td>\n      <td>0</td>\n      <td>1</td>\n      <td>1</td>\n      <td>0</td>\n      <td>0</td>\n      <td>-1</td>\n      <td>1</td>\n      <td>2</td>\n      <td>1</td>\n      <td>2</td>\n      <td>2</td>\n      <td>2</td>\n      <td>1</td>\n      <td>3</td>\n      <td>1</td>\n      <td>1</td>\n      <td>0</td>\n      <td>0</td>\n      <td>0</td>\n      <td>52.55</td>\n      <td>NaN</td>\n    </tr>\n    <tr>\n      <th>753</th>\n      <td>0</td>\n      <td>0</td>\n      <td>0</td>\n      <td>0</td>\n      <td>1</td>\n      <td>0</td>\n      <td>1</td>\n      <td>1</td>\n      <td>0</td>\n      <td>-1</td>\n      <td>-1</td>\n      <td>-1</td>\n      <td>-1</td>\n      <td>-1</td>\n      <td>-1</td>\n      <td>3</td>\n      <td>0</td>\n      <td>0</td>\n      <td>0</td>\n      <td>0</td>\n      <td>1</td>\n      <td>20.25</td>\n      <td>NaN</td>\n    </tr>\n    <tr>\n      <th>936</th>\n      <td>0</td>\n      <td>1</td>\n      <td>0</td>\n      <td>1</td>\n      <td>1</td>\n      <td>0</td>\n      <td>1</td>\n      <td>1</td>\n      <td>1</td>\n      <td>2</td>\n      <td>2</td>\n      <td>2</td>\n      <td>1</td>\n      <td>2</td>\n      <td>2</td>\n      <td>3</td>\n      <td>0</td>\n      <td>0</td>\n      <td>0</td>\n      <td>0</td>\n      <td>1</td>\n      <td>80.85</td>\n      <td>NaN</td>\n    </tr>\n    <tr>\n      <th>1082</th>\n      <td>0</td>\n      <td>0</td>\n      <td>0</td>\n      <td>1</td>\n      <td>1</td>\n      <td>0</td>\n      <td>1</td>\n      <td>2</td>\n      <td>0</td>\n      <td>-1</td>\n      <td>-1</td>\n      <td>-1</td>\n      <td>-1</td>\n      <td>-1</td>\n      <td>-1</td>\n      <td>3</td>\n      <td>0</td>\n      <td>0</td>\n      <td>0</td>\n      <td>0</td>\n      <td>1</td>\n      <td>25.75</td>\n      <td>NaN</td>\n    </tr>\n    <tr>\n      <th>1340</th>\n      <td>0</td>\n      <td>1</td>\n      <td>0</td>\n      <td>1</td>\n      <td>1</td>\n      <td>0</td>\n      <td>0</td>\n      <td>-1</td>\n      <td>1</td>\n      <td>2</td>\n      <td>2</td>\n      <td>2</td>\n      <td>2</td>\n      <td>2</td>\n      <td>1</td>\n      <td>3</td>\n      <td>0</td>\n      <td>0</td>\n      <td>1</td>\n      <td>0</td>\n      <td>0</td>\n      <td>56.05</td>\n      <td>NaN</td>\n    </tr>\n    <tr>\n      <th>3331</th>\n      <td>0</td>\n      <td>0</td>\n      <td>0</td>\n      <td>1</td>\n      <td>1</td>\n      <td>0</td>\n      <td>1</td>\n      <td>1</td>\n      <td>0</td>\n      <td>-1</td>\n      <td>-1</td>\n      <td>-1</td>\n      <td>-1</td>\n      <td>-1</td>\n      <td>-1</td>\n      <td>3</td>\n      <td>0</td>\n      <td>0</td>\n      <td>0</td>\n      <td>0</td>\n      <td>1</td>\n      <td>19.85</td>\n      <td>NaN</td>\n    </tr>\n    <tr>\n      <th>3826</th>\n      <td>0</td>\n      <td>0</td>\n      <td>0</td>\n      <td>1</td>\n      <td>1</td>\n      <td>0</td>\n      <td>1</td>\n      <td>2</td>\n      <td>0</td>\n      <td>-1</td>\n      <td>-1</td>\n      <td>-1</td>\n      <td>-1</td>\n      <td>-1</td>\n      <td>-1</td>\n      <td>3</td>\n      <td>0</td>\n      <td>0</td>\n      <td>0</td>\n      <td>0</td>\n      <td>1</td>\n      <td>25.35</td>\n      <td>NaN</td>\n    </tr>\n    <tr>\n      <th>4380</th>\n      <td>0</td>\n      <td>1</td>\n      <td>0</td>\n      <td>1</td>\n      <td>1</td>\n      <td>0</td>\n      <td>1</td>\n      <td>1</td>\n      <td>0</td>\n      <td>-1</td>\n      <td>-1</td>\n      <td>-1</td>\n      <td>-1</td>\n      <td>-1</td>\n      <td>-1</td>\n      <td>3</td>\n      <td>0</td>\n      <td>0</td>\n      <td>0</td>\n      <td>0</td>\n      <td>1</td>\n      <td>20.00</td>\n      <td>NaN</td>\n    </tr>\n    <tr>\n      <th>5218</th>\n      <td>0</td>\n      <td>0</td>\n      <td>0</td>\n      <td>1</td>\n      <td>1</td>\n      <td>0</td>\n      <td>1</td>\n      <td>1</td>\n      <td>0</td>\n      <td>-1</td>\n      <td>-1</td>\n      <td>-1</td>\n      <td>-1</td>\n      <td>-1</td>\n      <td>-1</td>\n      <td>2</td>\n      <td>1</td>\n      <td>0</td>\n      <td>0</td>\n      <td>0</td>\n      <td>1</td>\n      <td>19.70</td>\n      <td>NaN</td>\n    </tr>\n    <tr>\n      <th>6670</th>\n      <td>0</td>\n      <td>1</td>\n      <td>0</td>\n      <td>1</td>\n      <td>1</td>\n      <td>0</td>\n      <td>1</td>\n      <td>2</td>\n      <td>1</td>\n      <td>1</td>\n      <td>2</td>\n      <td>2</td>\n      <td>2</td>\n      <td>2</td>\n      <td>1</td>\n      <td>3</td>\n      <td>0</td>\n      <td>0</td>\n      <td>0</td>\n      <td>0</td>\n      <td>1</td>\n      <td>73.35</td>\n      <td>NaN</td>\n    </tr>\n    <tr>\n      <th>6754</th>\n      <td>0</td>\n      <td>0</td>\n      <td>0</td>\n      <td>0</td>\n      <td>1</td>\n      <td>0</td>\n      <td>1</td>\n      <td>2</td>\n      <td>1</td>\n      <td>2</td>\n      <td>2</td>\n      <td>1</td>\n      <td>2</td>\n      <td>1</td>\n      <td>1</td>\n      <td>3</td>\n      <td>1</td>\n      <td>1</td>\n      <td>0</td>\n      <td>0</td>\n      <td>0</td>\n      <td>61.90</td>\n      <td>NaN</td>\n    </tr>\n  </tbody>\n</table>\n</div>",
       "datasetInfos": [],
       "metadata": {},
       "removedWidgets": [],
       "textData": null,
       "type": "htmlSandbox"
      }
     },
     "output_type": "display_data"
    }
   ],
   "source": [
    "df[df.isnull().any(axis=1)]"
   ]
  },
  {
   "cell_type": "code",
   "execution_count": 0,
   "metadata": {
    "application/vnd.databricks.v1+cell": {
     "inputWidgets": {},
     "nuid": "45b0b47e-0623-468f-8b7d-f72505e51254",
     "showTitle": false,
     "title": ""
    },
    "colab": {
     "base_uri": "https://localhost:8080/",
     "height": 178
    },
    "id": "bDVccobUhRkg",
    "outputId": "9bd43cb5-053b-4dcd-d60b-fc8bdd6e8a07"
   },
   "outputs": [
    {
     "data": {
      "text/html": [
       "<style scoped>\n",
       "  .ansiout {\n",
       "    display: block;\n",
       "    unicode-bidi: embed;\n",
       "    white-space: pre-wrap;\n",
       "    word-wrap: break-word;\n",
       "    word-break: break-all;\n",
       "    font-family: \"Source Code Pro\", \"Menlo\", monospace;;\n",
       "    font-size: 13px;\n",
       "    color: #555;\n",
       "    margin-left: 4px;\n",
       "    line-height: 19px;\n",
       "  }\n",
       "</style>\n",
       "<div class=\"ansiout\">Out[21]: </div>"
      ]
     },
     "metadata": {
      "application/vnd.databricks.v1+output": {
       "addedWidgets": {},
       "arguments": {},
       "data": "<div class=\"ansiout\">Out[21]: </div>",
       "datasetInfos": [],
       "metadata": {},
       "removedWidgets": [],
       "type": "html"
      }
     },
     "output_type": "display_data"
    },
    {
     "data": {
      "text/html": [
       "<div>\n",
       "<style scoped>\n",
       "    .dataframe tbody tr th:only-of-type {\n",
       "        vertical-align: middle;\n",
       "    }\n",
       "\n",
       "    .dataframe tbody tr th {\n",
       "        vertical-align: top;\n",
       "    }\n",
       "\n",
       "    .dataframe thead th {\n",
       "        text-align: right;\n",
       "    }\n",
       "</style>\n",
       "<table border=\"1\" class=\"dataframe\">\n",
       "  <thead>\n",
       "    <tr style=\"text-align: right;\">\n",
       "      <th></th>\n",
       "      <th>Churn</th>\n",
       "      <th>gender</th>\n",
       "      <th>SeniorCitizen</th>\n",
       "      <th>Partner</th>\n",
       "      <th>Dependents</th>\n",
       "      <th>tenure</th>\n",
       "      <th>PhoneService</th>\n",
       "      <th>MultipleLines</th>\n",
       "      <th>InternetService</th>\n",
       "      <th>OnlineSecurity</th>\n",
       "      <th>OnlineBackup</th>\n",
       "      <th>DeviceProtection</th>\n",
       "      <th>TechSupport</th>\n",
       "      <th>StreamingTV</th>\n",
       "      <th>StreamingMovies</th>\n",
       "      <th>Contract</th>\n",
       "      <th>PaperlessBilling</th>\n",
       "      <th>PaymentMethod_Bank transfer (automatic)</th>\n",
       "      <th>PaymentMethod_Credit card (automatic)</th>\n",
       "      <th>PaymentMethod_Electronic check</th>\n",
       "      <th>PaymentMethod_Mailed check</th>\n",
       "      <th>MonthlyCharges</th>\n",
       "      <th>TotalCharges</th>\n",
       "    </tr>\n",
       "  </thead>\n",
       "  <tbody>\n",
       "  </tbody>\n",
       "</table>\n",
       "</div>"
      ]
     },
     "metadata": {
      "application/vnd.databricks.v1+output": {
       "addedWidgets": {},
       "arguments": {},
       "data": "<div>\n<style scoped>\n    .dataframe tbody tr th:only-of-type {\n        vertical-align: middle;\n    }\n\n    .dataframe tbody tr th {\n        vertical-align: top;\n    }\n\n    .dataframe thead th {\n        text-align: right;\n    }\n</style>\n<table border=\"1\" class=\"dataframe\">\n  <thead>\n    <tr style=\"text-align: right;\">\n      <th></th>\n      <th>Churn</th>\n      <th>gender</th>\n      <th>SeniorCitizen</th>\n      <th>Partner</th>\n      <th>Dependents</th>\n      <th>tenure</th>\n      <th>PhoneService</th>\n      <th>MultipleLines</th>\n      <th>InternetService</th>\n      <th>OnlineSecurity</th>\n      <th>OnlineBackup</th>\n      <th>DeviceProtection</th>\n      <th>TechSupport</th>\n      <th>StreamingTV</th>\n      <th>StreamingMovies</th>\n      <th>Contract</th>\n      <th>PaperlessBilling</th>\n      <th>PaymentMethod_Bank transfer (automatic)</th>\n      <th>PaymentMethod_Credit card (automatic)</th>\n      <th>PaymentMethod_Electronic check</th>\n      <th>PaymentMethod_Mailed check</th>\n      <th>MonthlyCharges</th>\n      <th>TotalCharges</th>\n    </tr>\n  </thead>\n  <tbody>\n  </tbody>\n</table>\n</div>",
       "datasetInfos": [],
       "metadata": {},
       "removedWidgets": [],
       "textData": null,
       "type": "htmlSandbox"
      }
     },
     "output_type": "display_data"
    }
   ],
   "source": [
    "df = df.dropna()\n",
    "df[df.isnull().any(axis=1)]"
   ]
  },
  {
   "cell_type": "code",
   "execution_count": 0,
   "metadata": {
    "application/vnd.databricks.v1+cell": {
     "inputWidgets": {},
     "nuid": "4a9d9359-082b-4d4f-bf50-c82f7dddc496",
     "showTitle": false,
     "title": ""
    },
    "id": "xRucieU9hRkg"
   },
   "outputs": [
    {
     "data": {
      "text/html": [
       "<style scoped>\n",
       "  .ansiout {\n",
       "    display: block;\n",
       "    unicode-bidi: embed;\n",
       "    white-space: pre-wrap;\n",
       "    word-wrap: break-word;\n",
       "    word-break: break-all;\n",
       "    font-family: \"Source Code Pro\", \"Menlo\", monospace;;\n",
       "    font-size: 13px;\n",
       "    color: #555;\n",
       "    margin-left: 4px;\n",
       "    line-height: 19px;\n",
       "  }\n",
       "</style>\n",
       "<div class=\"ansiout\"></div>"
      ]
     },
     "metadata": {
      "application/vnd.databricks.v1+output": {
       "addedWidgets": {},
       "arguments": {},
       "data": "<div class=\"ansiout\"></div>",
       "datasetInfos": [],
       "metadata": {},
       "removedWidgets": [],
       "type": "html"
      }
     },
     "output_type": "display_data"
    }
   ],
   "source": [
    "df.to_csv('Churn_Preprocessed.csv')"
   ]
  },
  {
   "cell_type": "markdown",
   "metadata": {
    "application/vnd.databricks.v1+cell": {
     "inputWidgets": {},
     "nuid": "04a8fac9-8aa3-469a-9f16-179a0f2b4954",
     "showTitle": false,
     "title": ""
    },
    "id": "65wY4TI6hRkg"
   },
   "source": [
    "# Feature Selection\n",
    "Contributor(s): @uzairxy, @dany-stefan"
   ]
  },
  {
   "cell_type": "markdown",
   "metadata": {
    "application/vnd.databricks.v1+cell": {
     "inputWidgets": {},
     "nuid": "30728f82-5b8e-4888-91a7-b7f7be74b2b3",
     "showTitle": false,
     "title": ""
    },
    "id": "QDgNAvXdhRkh"
   },
   "source": [
    "## Feature Importance using Boruta\n",
    "\n",
    "Boruta is a popular method of feature selection, with it's primary advantages to handle regresssion/classification tasks. It can handle multi-variable relationships and interactions between variables.\n",
    "\n",
    "For our dataset, the most important features are *'tenure', 'Contract', 'MonthlyCharges', 'TotalCharges*."
   ]
  },
  {
   "cell_type": "code",
   "execution_count": 0,
   "metadata": {
    "application/vnd.databricks.v1+cell": {
     "inputWidgets": {},
     "nuid": "29586779-211f-4e9c-b0a0-c83dbed94b79",
     "showTitle": false,
     "title": ""
    },
    "id": "HJPzPgUdhRkh"
   },
   "outputs": [
    {
     "data": {
      "text/html": [
       "<style scoped>\n",
       "  .ansiout {\n",
       "    display: block;\n",
       "    unicode-bidi: embed;\n",
       "    white-space: pre-wrap;\n",
       "    word-wrap: break-word;\n",
       "    word-break: break-all;\n",
       "    font-family: \"Source Code Pro\", \"Menlo\", monospace;;\n",
       "    font-size: 13px;\n",
       "    color: #555;\n",
       "    margin-left: 4px;\n",
       "    line-height: 19px;\n",
       "  }\n",
       "</style>\n",
       "<div class=\"ansiout\"></div>"
      ]
     },
     "metadata": {
      "application/vnd.databricks.v1+output": {
       "addedWidgets": {},
       "arguments": {},
       "data": "<div class=\"ansiout\"></div>",
       "datasetInfos": [],
       "metadata": {},
       "removedWidgets": [],
       "type": "html"
      }
     },
     "output_type": "display_data"
    }
   ],
   "source": [
    "feat_selector = BorutaPy(\n",
    "    verbose=1,\n",
    "    estimator=RandomForestClassifier(),\n",
    "    max_iter=10\n",
    ")"
   ]
  },
  {
   "cell_type": "code",
   "execution_count": 0,
   "metadata": {
    "application/vnd.databricks.v1+cell": {
     "inputWidgets": {},
     "nuid": "b4a90031-1ef6-4247-85c1-a2ac7c38c4ed",
     "showTitle": false,
     "title": ""
    },
    "id": "wLNjT3hrhRkh"
   },
   "outputs": [
    {
     "data": {
      "text/html": [
       "<style scoped>\n",
       "  .ansiout {\n",
       "    display: block;\n",
       "    unicode-bidi: embed;\n",
       "    white-space: pre-wrap;\n",
       "    word-wrap: break-word;\n",
       "    word-break: break-all;\n",
       "    font-family: \"Source Code Pro\", \"Menlo\", monospace;;\n",
       "    font-size: 13px;\n",
       "    color: #555;\n",
       "    margin-left: 4px;\n",
       "    line-height: 19px;\n",
       "  }\n",
       "</style>\n",
       "<div class=\"ansiout\"></div>"
      ]
     },
     "metadata": {
      "application/vnd.databricks.v1+output": {
       "addedWidgets": {},
       "arguments": {},
       "data": "<div class=\"ansiout\"></div>",
       "datasetInfos": [],
       "metadata": {},
       "removedWidgets": [],
       "type": "html"
      }
     },
     "output_type": "display_data"
    }
   ],
   "source": [
    "BorutaY = df.iloc[:, 0:1]\n",
    "BorutaY = BorutaY.to_numpy(dtype=None, copy=False) \n",
    "\n",
    "BorutaX = df.iloc[:, 1:23]\n",
    "BorutaX_np = BorutaX.to_numpy(dtype=None, copy=False) "
   ]
  },
  {
   "cell_type": "code",
   "execution_count": 0,
   "metadata": {
    "application/vnd.databricks.v1+cell": {
     "inputWidgets": {},
     "nuid": "2b6013dd-67db-433c-a6da-5c65879809b3",
     "showTitle": false,
     "title": ""
    },
    "colab": {
     "base_uri": "https://localhost:8080/"
    },
    "id": "ajQABpcLhRkh",
    "outputId": "5124be23-05d7-434f-9d8e-90f53b7cd8b5"
   },
   "outputs": [
    {
     "data": {
      "text/html": [
       "<style scoped>\n",
       "  .ansiout {\n",
       "    display: block;\n",
       "    unicode-bidi: embed;\n",
       "    white-space: pre-wrap;\n",
       "    word-wrap: break-word;\n",
       "    word-break: break-all;\n",
       "    font-family: \"Source Code Pro\", \"Menlo\", monospace;;\n",
       "    font-size: 13px;\n",
       "    color: #555;\n",
       "    margin-left: 4px;\n",
       "    line-height: 19px;\n",
       "  }\n",
       "</style>\n",
       "<div class=\"ansiout\">/databricks/python/lib/python3.8/site-packages/sklearn/utils/validation.py:993: DataConversionWarning: A column-vector y was passed when a 1d array was expected. Please change the shape of y to (n_samples, ), for example using ravel().\n",
       "  y = column_or_1d(y, warn=True)\n",
       "/databricks/python_shell/dbruntime/MLWorkloadsInstrumentation/_sklearn.py:29: DataConversionWarning: A column-vector y was passed when a 1d array was expected. Please change the shape of y to (n_samples,), for example using ravel().\n",
       "  original_result = original(self, *args, **kwargs)\n",
       "Iteration: 1 / 2\n",
       "\n",
       "\n",
       "BorutaPy finished running.\n",
       "\n",
       "Iteration: \t2 / 2\n",
       "Confirmed: \t0\n",
       "Tentative: \t4\n",
       "Rejected: \t0\n",
       "Out[25]: BorutaPy(estimator=RandomForestClassifier(n_estimators=1000,\n",
       "                                          random_state=RandomState(MT19937) at 0x7FE3C2D24440),\n",
       "         max_iter=2, random_state=RandomState(MT19937) at 0x7FE3C2D24440,\n",
       "         verbose=1)</div>"
      ]
     },
     "metadata": {
      "application/vnd.databricks.v1+output": {
       "addedWidgets": {},
       "arguments": {},
       "data": "<div class=\"ansiout\">/databricks/python/lib/python3.8/site-packages/sklearn/utils/validation.py:993: DataConversionWarning: A column-vector y was passed when a 1d array was expected. Please change the shape of y to (n_samples, ), for example using ravel().\n  y = column_or_1d(y, warn=True)\n/databricks/python_shell/dbruntime/MLWorkloadsInstrumentation/_sklearn.py:29: DataConversionWarning: A column-vector y was passed when a 1d array was expected. Please change the shape of y to (n_samples,), for example using ravel().\n  original_result = original(self, *args, **kwargs)\nIteration: 1 / 2\n\n\nBorutaPy finished running.\n\nIteration: \t2 / 2\nConfirmed: \t0\nTentative: \t4\nRejected: \t0\nOut[25]: BorutaPy(estimator=RandomForestClassifier(n_estimators=1000,\n                                          random_state=RandomState(MT19937) at 0x7FE3C2D24440),\n         max_iter=2, random_state=RandomState(MT19937) at 0x7FE3C2D24440,\n         verbose=1)</div>",
       "datasetInfos": [],
       "metadata": {},
       "removedWidgets": [],
       "type": "html"
      }
     },
     "output_type": "display_data"
    }
   ],
   "source": [
    "feat_selector.fit(BorutaX_np, BorutaY)"
   ]
  },
  {
   "cell_type": "code",
   "execution_count": 0,
   "metadata": {
    "application/vnd.databricks.v1+cell": {
     "inputWidgets": {},
     "nuid": "da924404-46b2-42dd-932e-fc44d3360688",
     "showTitle": false,
     "title": ""
    },
    "colab": {
     "base_uri": "https://localhost:8080/"
    },
    "id": "fnMgxT9RhRkh",
    "outputId": "917a7838-8bfa-4a59-8b84-06f3ae347bcb"
   },
   "outputs": [
    {
     "data": {
      "text/html": [
       "<style scoped>\n",
       "  .ansiout {\n",
       "    display: block;\n",
       "    unicode-bidi: embed;\n",
       "    white-space: pre-wrap;\n",
       "    word-wrap: break-word;\n",
       "    word-break: break-all;\n",
       "    font-family: \"Source Code Pro\", \"Menlo\", monospace;;\n",
       "    font-size: 13px;\n",
       "    color: #555;\n",
       "    margin-left: 4px;\n",
       "    line-height: 19px;\n",
       "  }\n",
       "</style>\n",
       "<div class=\"ansiout\">Doesn&#39;t pass the test:  gender  - Ranking:  13\n",
       "Doesn&#39;t pass the test:  SeniorCitizen  - Ranking:  15\n",
       "Doesn&#39;t pass the test:  Partner  - Ranking:  14\n",
       "Doesn&#39;t pass the test:  Dependents  - Ranking:  16\n",
       "Doesn&#39;t pass the test:  tenure  - Ranking:  2\n",
       "Doesn&#39;t pass the test:  PhoneService  - Ranking:  20\n",
       "Doesn&#39;t pass the test:  MultipleLines  - Ranking:  12\n",
       "Doesn&#39;t pass the test:  InternetService  - Ranking:  3\n",
       "Doesn&#39;t pass the test:  OnlineSecurity  - Ranking:  5\n",
       "Doesn&#39;t pass the test:  OnlineBackup  - Ranking:  7\n",
       "Doesn&#39;t pass the test:  DeviceProtection  - Ranking:  8\n",
       "Doesn&#39;t pass the test:  TechSupport  - Ranking:  6\n",
       "Doesn&#39;t pass the test:  StreamingTV  - Ranking:  9\n",
       "Doesn&#39;t pass the test:  StreamingMovies  - Ranking:  10\n",
       "Doesn&#39;t pass the test:  Contract  - Ranking:  2\n",
       "Doesn&#39;t pass the test:  PaperlessBilling  - Ranking:  11\n",
       "Doesn&#39;t pass the test:  PaymentMethod_Bank transfer (automatic)  - Ranking:  18\n",
       "Doesn&#39;t pass the test:  PaymentMethod_Credit card (automatic)  - Ranking:  17\n",
       "Doesn&#39;t pass the test:  PaymentMethod_Electronic check  - Ranking:  4\n",
       "Doesn&#39;t pass the test:  PaymentMethod_Mailed check  - Ranking:  19\n",
       "Doesn&#39;t pass the test:  MonthlyCharges  - Ranking:  2\n",
       "Doesn&#39;t pass the test:  TotalCharges  - Ranking:  2\n",
       "</div>"
      ]
     },
     "metadata": {
      "application/vnd.databricks.v1+output": {
       "addedWidgets": {},
       "arguments": {},
       "data": "<div class=\"ansiout\">Doesn&#39;t pass the test:  gender  - Ranking:  13\nDoesn&#39;t pass the test:  SeniorCitizen  - Ranking:  15\nDoesn&#39;t pass the test:  Partner  - Ranking:  14\nDoesn&#39;t pass the test:  Dependents  - Ranking:  16\nDoesn&#39;t pass the test:  tenure  - Ranking:  2\nDoesn&#39;t pass the test:  PhoneService  - Ranking:  20\nDoesn&#39;t pass the test:  MultipleLines  - Ranking:  12\nDoesn&#39;t pass the test:  InternetService  - Ranking:  3\nDoesn&#39;t pass the test:  OnlineSecurity  - Ranking:  5\nDoesn&#39;t pass the test:  OnlineBackup  - Ranking:  7\nDoesn&#39;t pass the test:  DeviceProtection  - Ranking:  8\nDoesn&#39;t pass the test:  TechSupport  - Ranking:  6\nDoesn&#39;t pass the test:  StreamingTV  - Ranking:  9\nDoesn&#39;t pass the test:  StreamingMovies  - Ranking:  10\nDoesn&#39;t pass the test:  Contract  - Ranking:  2\nDoesn&#39;t pass the test:  PaperlessBilling  - Ranking:  11\nDoesn&#39;t pass the test:  PaymentMethod_Bank transfer (automatic)  - Ranking:  18\nDoesn&#39;t pass the test:  PaymentMethod_Credit card (automatic)  - Ranking:  17\nDoesn&#39;t pass the test:  PaymentMethod_Electronic check  - Ranking:  4\nDoesn&#39;t pass the test:  PaymentMethod_Mailed check  - Ranking:  19\nDoesn&#39;t pass the test:  MonthlyCharges  - Ranking:  2\nDoesn&#39;t pass the test:  TotalCharges  - Ranking:  2\n</div>",
       "datasetInfos": [],
       "metadata": {},
       "removedWidgets": [],
       "type": "html"
      }
     },
     "output_type": "display_data"
    }
   ],
   "source": [
    "for i in range(len(feat_selector.support_)):\n",
    "    if feat_selector.support_[i]:\n",
    "        print(\"Passes the test: \", \n",
    "            BorutaX.columns[i],\n",
    "            \" - Ranking: \", \n",
    "            feat_selector.ranking_[i])\n",
    "    else:\n",
    "        print(\"Doesn't pass the test: \",\n",
    "            BorutaX.columns[i], \n",
    "            \" - Ranking: \", \n",
    "            feat_selector.ranking_[i])"
   ]
  },
  {
   "cell_type": "code",
   "execution_count": 0,
   "metadata": {
    "application/vnd.databricks.v1+cell": {
     "inputWidgets": {},
     "nuid": "1ec32192-6722-44c4-85c7-058862758dc4",
     "showTitle": false,
     "title": ""
    },
    "colab": {
     "base_uri": "https://localhost:8080/"
    },
    "id": "YUPrF_N-hRkh",
    "outputId": "0899d58b-c78b-49c0-9f21-9ec306076f9a"
   },
   "outputs": [
    {
     "data": {
      "text/html": [
       "<style scoped>\n",
       "  .ansiout {\n",
       "    display: block;\n",
       "    unicode-bidi: embed;\n",
       "    white-space: pre-wrap;\n",
       "    word-wrap: break-word;\n",
       "    word-break: break-all;\n",
       "    font-family: \"Source Code Pro\", \"Menlo\", monospace;;\n",
       "    font-size: 13px;\n",
       "    color: #555;\n",
       "    margin-left: 4px;\n",
       "    line-height: 19px;\n",
       "  }\n",
       "</style>\n",
       "<div class=\"ansiout\">Accepted features: []\n",
       "Undecided features [&#39;tenure&#39;, &#39;Contract&#39;, &#39;MonthlyCharges&#39;, &#39;TotalCharges&#39;]\n",
       "</div>"
      ]
     },
     "metadata": {
      "application/vnd.databricks.v1+output": {
       "addedWidgets": {},
       "arguments": {},
       "data": "<div class=\"ansiout\">Accepted features: []\nUndecided features [&#39;tenure&#39;, &#39;Contract&#39;, &#39;MonthlyCharges&#39;, &#39;TotalCharges&#39;]\n</div>",
       "datasetInfos": [],
       "metadata": {},
       "removedWidgets": [],
       "type": "html"
      }
     },
     "output_type": "display_data"
    }
   ],
   "source": [
    "accepted = BorutaX.columns[feat_selector.support_].to_list()\n",
    "print('Accepted features:', accepted)\n",
    "\n",
    "undecided = BorutaX.columns[feat_selector.support_weak_].to_list()\n",
    "print('Undecided features', undecided)\n",
    "\n",
    "selected_features = accepted + undecided # include undecided to be safe\n",
    "selected_features.append(df.columns[0])"
   ]
  },
  {
   "cell_type": "code",
   "execution_count": 0,
   "metadata": {
    "application/vnd.databricks.v1+cell": {
     "inputWidgets": {},
     "nuid": "558e12bc-35e8-4acf-8b15-f6df478fe206",
     "showTitle": false,
     "title": ""
    },
    "id": "NFsbdT72hRki"
   },
   "outputs": [
    {
     "data": {
      "text/html": [
       "<style scoped>\n",
       "  .ansiout {\n",
       "    display: block;\n",
       "    unicode-bidi: embed;\n",
       "    white-space: pre-wrap;\n",
       "    word-wrap: break-word;\n",
       "    word-break: break-all;\n",
       "    font-family: \"Source Code Pro\", \"Menlo\", monospace;;\n",
       "    font-size: 13px;\n",
       "    color: #555;\n",
       "    margin-left: 4px;\n",
       "    line-height: 19px;\n",
       "  }\n",
       "</style>\n",
       "<div class=\"ansiout\"></div>"
      ]
     },
     "metadata": {
      "application/vnd.databricks.v1+output": {
       "addedWidgets": {},
       "arguments": {},
       "data": "<div class=\"ansiout\"></div>",
       "datasetInfos": [],
       "metadata": {},
       "removedWidgets": [],
       "type": "html"
      }
     },
     "output_type": "display_data"
    }
   ],
   "source": [
    "df_selected = df[selected_features]"
   ]
  },
  {
   "cell_type": "markdown",
   "metadata": {
    "application/vnd.databricks.v1+cell": {
     "inputWidgets": {},
     "nuid": "175af14b-b726-42e6-97f2-f35da65f4f2d",
     "showTitle": false,
     "title": ""
    },
    "id": "SePTNV7jhRki"
   },
   "source": [
    "## Correlation Analysis\n",
    "Contributor(s): @HishamSalem\n",
    "\n",
    "Correlation Analysis with VIF helps with identifying features that are strongly correlated. We want to reduce the excess feature as this would improve training time for models without significant loss in information from the predictors.\n",
    "\n",
    "We find that the Total Charges and Monthly Charges are highly correlated, which makes sense as the Total Charges should be based on the Monthly Charges for a customer."
   ]
  },
  {
   "cell_type": "code",
   "execution_count": 0,
   "metadata": {
    "application/vnd.databricks.v1+cell": {
     "inputWidgets": {},
     "nuid": "55a9c1ee-2447-401a-bf83-12ae62ece2c5",
     "showTitle": false,
     "title": ""
    },
    "colab": {
     "base_uri": "https://localhost:8080/"
    },
    "id": "E4vB_nR0hRki",
    "outputId": "562c54cb-e65a-4bb4-feab-e1b7d20b8a73"
   },
   "outputs": [
    {
     "data": {
      "text/html": [
       "<style scoped>\n",
       "  .ansiout {\n",
       "    display: block;\n",
       "    unicode-bidi: embed;\n",
       "    white-space: pre-wrap;\n",
       "    word-wrap: break-word;\n",
       "    word-break: break-all;\n",
       "    font-family: \"Source Code Pro\", \"Menlo\", monospace;;\n",
       "    font-size: 13px;\n",
       "    color: #555;\n",
       "    margin-left: 4px;\n",
       "    line-height: 19px;\n",
       "  }\n",
       "</style>\n",
       "<div class=\"ansiout\">Churn ~ tenure+Contract+MonthlyCharges+TotalCharges+Churn\n",
       "</div>"
      ]
     },
     "metadata": {
      "application/vnd.databricks.v1+output": {
       "addedWidgets": {},
       "arguments": {},
       "data": "<div class=\"ansiout\">Churn ~ tenure+Contract+MonthlyCharges+TotalCharges+Churn\n</div>",
       "datasetInfos": [],
       "metadata": {},
       "removedWidgets": [],
       "type": "html"
      }
     },
     "output_type": "display_data"
    }
   ],
   "source": [
    "VIFAddition = '+'.join(df_selected.columns)\n",
    "VIFAddition\n",
    "formula = \"Churn ~ {X_vars}\"\n",
    "full_formula = formula.format(X_vars=VIFAddition)\n",
    "print(full_formula)"
   ]
  },
  {
   "cell_type": "code",
   "execution_count": 0,
   "metadata": {
    "application/vnd.databricks.v1+cell": {
     "inputWidgets": {},
     "nuid": "7015b2ac-d819-4ea4-8954-44a82daf269b",
     "showTitle": false,
     "title": ""
    },
    "colab": {
     "base_uri": "https://localhost:8080/"
    },
    "id": "eKoPW9e9hRki",
    "outputId": "30dac863-64d7-46e5-cefa-4625c53b729e"
   },
   "outputs": [
    {
     "data": {
      "text/html": [
       "<style scoped>\n",
       "  .ansiout {\n",
       "    display: block;\n",
       "    unicode-bidi: embed;\n",
       "    white-space: pre-wrap;\n",
       "    word-wrap: break-word;\n",
       "    word-break: break-all;\n",
       "    font-family: \"Source Code Pro\", \"Menlo\", monospace;;\n",
       "    font-size: 13px;\n",
       "    color: #555;\n",
       "    margin-left: 4px;\n",
       "    line-height: 19px;\n",
       "  }\n",
       "</style>\n",
       "<div class=\"ansiout\">         variable        VIF\n",
       "0       Intercept  20.901490\n",
       "1          tenure   6.871696\n",
       "2        Contract   2.120215\n",
       "3  MonthlyCharges   3.636810\n",
       "4    TotalCharges   9.719414\n",
       "5           Churn   1.313938\n",
       "\n",
       "\n",
       "         variable        VIF\n",
       "0       Intercept  11.628501\n",
       "1          tenure   2.203140\n",
       "2        Contract   2.079884\n",
       "3  MonthlyCharges   1.200522\n",
       "\n",
       "\n",
       "</div>"
      ]
     },
     "metadata": {
      "application/vnd.databricks.v1+output": {
       "addedWidgets": {},
       "arguments": {},
       "data": "<div class=\"ansiout\">         variable        VIF\n0       Intercept  20.901490\n1          tenure   6.871696\n2        Contract   2.120215\n3  MonthlyCharges   3.636810\n4    TotalCharges   9.719414\n5           Churn   1.313938\n\n\n         variable        VIF\n0       Intercept  11.628501\n1          tenure   2.203140\n2        Contract   2.079884\n3  MonthlyCharges   1.200522\n\n\n</div>",
       "datasetInfos": [],
       "metadata": {},
       "removedWidgets": [],
       "type": "html"
      }
     },
     "output_type": "display_data"
    }
   ],
   "source": [
    "def run_vif(formula):\n",
    "    y, X = dmatrices(formula, data=df_selected, return_type='dataframe')    \n",
    "    vif = pd.DataFrame()\n",
    "    vif['variable'] = X.columns\n",
    "    vif['VIF'] = [variance_inflation_factor(X.values, i) for i in range(X.shape[1])]\n",
    "    print(vif)\n",
    "    print('\\n')\n",
    "\n",
    "\n",
    "run_vif(full_formula)\n",
    "run_vif('Churn ~ tenure+Contract+MonthlyCharges')"
   ]
  },
  {
   "cell_type": "code",
   "execution_count": 0,
   "metadata": {
    "application/vnd.databricks.v1+cell": {
     "inputWidgets": {},
     "nuid": "3ba8b58c-dbd3-419d-8ce9-50b02c73403b",
     "showTitle": false,
     "title": ""
    },
    "colab": {
     "base_uri": "https://localhost:8080/",
     "height": 423
    },
    "id": "_Q8Bs0ZzhRki",
    "outputId": "8f4bd80d-6f0e-41a9-ac68-d8809db8d7cb"
   },
   "outputs": [
    {
     "data": {
      "text/html": [
       "<style scoped>\n",
       "  .ansiout {\n",
       "    display: block;\n",
       "    unicode-bidi: embed;\n",
       "    white-space: pre-wrap;\n",
       "    word-wrap: break-word;\n",
       "    word-break: break-all;\n",
       "    font-family: \"Source Code Pro\", \"Menlo\", monospace;;\n",
       "    font-size: 13px;\n",
       "    color: #555;\n",
       "    margin-left: 4px;\n",
       "    line-height: 19px;\n",
       "  }\n",
       "</style>\n",
       "<div class=\"ansiout\">Out[31]: </div>"
      ]
     },
     "metadata": {
      "application/vnd.databricks.v1+output": {
       "addedWidgets": {},
       "arguments": {},
       "data": "<div class=\"ansiout\">Out[31]: </div>",
       "datasetInfos": [],
       "metadata": {},
       "removedWidgets": [],
       "type": "html"
      }
     },
     "output_type": "display_data"
    },
    {
     "data": {
      "text/html": [
       "<div>\n",
       "<style scoped>\n",
       "    .dataframe tbody tr th:only-of-type {\n",
       "        vertical-align: middle;\n",
       "    }\n",
       "\n",
       "    .dataframe tbody tr th {\n",
       "        vertical-align: top;\n",
       "    }\n",
       "\n",
       "    .dataframe thead th {\n",
       "        text-align: right;\n",
       "    }\n",
       "</style>\n",
       "<table border=\"1\" class=\"dataframe\">\n",
       "  <thead>\n",
       "    <tr style=\"text-align: right;\">\n",
       "      <th></th>\n",
       "      <th>tenure</th>\n",
       "      <th>Contract</th>\n",
       "      <th>MonthlyCharges</th>\n",
       "      <th>Churn</th>\n",
       "    </tr>\n",
       "  </thead>\n",
       "  <tbody>\n",
       "    <tr>\n",
       "      <th>0</th>\n",
       "      <td>1</td>\n",
       "      <td>1</td>\n",
       "      <td>29.85</td>\n",
       "      <td>0</td>\n",
       "    </tr>\n",
       "    <tr>\n",
       "      <th>1</th>\n",
       "      <td>34</td>\n",
       "      <td>2</td>\n",
       "      <td>56.95</td>\n",
       "      <td>0</td>\n",
       "    </tr>\n",
       "    <tr>\n",
       "      <th>2</th>\n",
       "      <td>2</td>\n",
       "      <td>1</td>\n",
       "      <td>53.85</td>\n",
       "      <td>1</td>\n",
       "    </tr>\n",
       "    <tr>\n",
       "      <th>3</th>\n",
       "      <td>45</td>\n",
       "      <td>2</td>\n",
       "      <td>42.30</td>\n",
       "      <td>0</td>\n",
       "    </tr>\n",
       "    <tr>\n",
       "      <th>4</th>\n",
       "      <td>2</td>\n",
       "      <td>1</td>\n",
       "      <td>70.70</td>\n",
       "      <td>1</td>\n",
       "    </tr>\n",
       "    <tr>\n",
       "      <th>...</th>\n",
       "      <td>...</td>\n",
       "      <td>...</td>\n",
       "      <td>...</td>\n",
       "      <td>...</td>\n",
       "    </tr>\n",
       "    <tr>\n",
       "      <th>7038</th>\n",
       "      <td>24</td>\n",
       "      <td>2</td>\n",
       "      <td>84.80</td>\n",
       "      <td>0</td>\n",
       "    </tr>\n",
       "    <tr>\n",
       "      <th>7039</th>\n",
       "      <td>72</td>\n",
       "      <td>2</td>\n",
       "      <td>103.20</td>\n",
       "      <td>0</td>\n",
       "    </tr>\n",
       "    <tr>\n",
       "      <th>7040</th>\n",
       "      <td>11</td>\n",
       "      <td>1</td>\n",
       "      <td>29.60</td>\n",
       "      <td>0</td>\n",
       "    </tr>\n",
       "    <tr>\n",
       "      <th>7041</th>\n",
       "      <td>4</td>\n",
       "      <td>1</td>\n",
       "      <td>74.40</td>\n",
       "      <td>1</td>\n",
       "    </tr>\n",
       "    <tr>\n",
       "      <th>7042</th>\n",
       "      <td>66</td>\n",
       "      <td>3</td>\n",
       "      <td>105.65</td>\n",
       "      <td>0</td>\n",
       "    </tr>\n",
       "  </tbody>\n",
       "</table>\n",
       "<p>7032 rows × 4 columns</p>\n",
       "</div>"
      ]
     },
     "metadata": {
      "application/vnd.databricks.v1+output": {
       "addedWidgets": {},
       "arguments": {},
       "data": "<div>\n<style scoped>\n    .dataframe tbody tr th:only-of-type {\n        vertical-align: middle;\n    }\n\n    .dataframe tbody tr th {\n        vertical-align: top;\n    }\n\n    .dataframe thead th {\n        text-align: right;\n    }\n</style>\n<table border=\"1\" class=\"dataframe\">\n  <thead>\n    <tr style=\"text-align: right;\">\n      <th></th>\n      <th>tenure</th>\n      <th>Contract</th>\n      <th>MonthlyCharges</th>\n      <th>Churn</th>\n    </tr>\n  </thead>\n  <tbody>\n    <tr>\n      <th>0</th>\n      <td>1</td>\n      <td>1</td>\n      <td>29.85</td>\n      <td>0</td>\n    </tr>\n    <tr>\n      <th>1</th>\n      <td>34</td>\n      <td>2</td>\n      <td>56.95</td>\n      <td>0</td>\n    </tr>\n    <tr>\n      <th>2</th>\n      <td>2</td>\n      <td>1</td>\n      <td>53.85</td>\n      <td>1</td>\n    </tr>\n    <tr>\n      <th>3</th>\n      <td>45</td>\n      <td>2</td>\n      <td>42.30</td>\n      <td>0</td>\n    </tr>\n    <tr>\n      <th>4</th>\n      <td>2</td>\n      <td>1</td>\n      <td>70.70</td>\n      <td>1</td>\n    </tr>\n    <tr>\n      <th>...</th>\n      <td>...</td>\n      <td>...</td>\n      <td>...</td>\n      <td>...</td>\n    </tr>\n    <tr>\n      <th>7038</th>\n      <td>24</td>\n      <td>2</td>\n      <td>84.80</td>\n      <td>0</td>\n    </tr>\n    <tr>\n      <th>7039</th>\n      <td>72</td>\n      <td>2</td>\n      <td>103.20</td>\n      <td>0</td>\n    </tr>\n    <tr>\n      <th>7040</th>\n      <td>11</td>\n      <td>1</td>\n      <td>29.60</td>\n      <td>0</td>\n    </tr>\n    <tr>\n      <th>7041</th>\n      <td>4</td>\n      <td>1</td>\n      <td>74.40</td>\n      <td>1</td>\n    </tr>\n    <tr>\n      <th>7042</th>\n      <td>66</td>\n      <td>3</td>\n      <td>105.65</td>\n      <td>0</td>\n    </tr>\n  </tbody>\n</table>\n<p>7032 rows × 4 columns</p>\n</div>",
       "datasetInfos": [],
       "metadata": {},
       "removedWidgets": [],
       "textData": null,
       "type": "htmlSandbox"
      }
     },
     "output_type": "display_data"
    }
   ],
   "source": [
    "df_selected = df_selected.drop(['TotalCharges'],axis=1)\n",
    "df_selected"
   ]
  },
  {
   "cell_type": "markdown",
   "metadata": {
    "application/vnd.databricks.v1+cell": {
     "inputWidgets": {},
     "nuid": "36056cdb-517b-401f-b778-3303691b0f6c",
     "showTitle": false,
     "title": ""
    },
    "id": "pC7-iaqIhRki"
   },
   "source": [
    "## Train/Test Split"
   ]
  },
  {
   "cell_type": "code",
   "execution_count": 0,
   "metadata": {
    "application/vnd.databricks.v1+cell": {
     "inputWidgets": {},
     "nuid": "0ee9963f-9dda-4b78-b52a-5fc21307f127",
     "showTitle": false,
     "title": ""
    },
    "colab": {
     "base_uri": "https://localhost:8080/"
    },
    "id": "SSCL9_cghRkj",
    "outputId": "b41174d2-c2bd-4c09-d51b-e1e3123ca6cc"
   },
   "outputs": [
    {
     "data": {
      "text/html": [
       "<style scoped>\n",
       "  .ansiout {\n",
       "    display: block;\n",
       "    unicode-bidi: embed;\n",
       "    white-space: pre-wrap;\n",
       "    word-wrap: break-word;\n",
       "    word-break: break-all;\n",
       "    font-family: \"Source Code Pro\", \"Menlo\", monospace;;\n",
       "    font-size: 13px;\n",
       "    color: #555;\n",
       "    margin-left: 4px;\n",
       "    line-height: 19px;\n",
       "  }\n",
       "</style>\n",
       "<div class=\"ansiout\">train: [1408 6992 3349 ... 4128 4242 1500] test: [ 971  618 4282 ... 2745 4424 2086]\n",
       "</div>"
      ]
     },
     "metadata": {
      "application/vnd.databricks.v1+output": {
       "addedWidgets": {},
       "arguments": {},
       "data": "<div class=\"ansiout\">train: [1408 6992 3349 ... 4128 4242 1500] test: [ 971  618 4282 ... 2745 4424 2086]\n</div>",
       "datasetInfos": [],
       "metadata": {},
       "removedWidgets": [],
       "type": "html"
      }
     },
     "output_type": "display_data"
    }
   ],
   "source": [
    "split = StratifiedShuffleSplit(n_splits=1, test_size=0.2, random_state=42)\n",
    "\n",
    "for train_index, test_index in split.split(df_selected, df_selected['Churn']):\n",
    "    print('train:', train_index, 'test:', test_index)\n",
    "    strat_train_set =df_selected.iloc[train_index]\n",
    "    strat_test_set = df_selected.iloc[test_index]"
   ]
  },
  {
   "cell_type": "markdown",
   "metadata": {
    "application/vnd.databricks.v1+cell": {
     "inputWidgets": {},
     "nuid": "56e8e1e9-4f90-43e7-a386-e1b616aab236",
     "showTitle": false,
     "title": ""
    },
    "id": "lbT73KfyhRkj"
   },
   "source": [
    "# Analyze Outliers\n",
    "Contributor(s): @HishamSalem\n",
    "\n",
    "Using isolation forest in order to detect outliers. By removing outliers we will be able to get a model that generalizes better."
   ]
  },
  {
   "cell_type": "code",
   "execution_count": 0,
   "metadata": {
    "application/vnd.databricks.v1+cell": {
     "inputWidgets": {},
     "nuid": "538b9ff4-5c63-4035-9107-4205534306d9",
     "showTitle": false,
     "title": ""
    },
    "id": "7eazVLd9hRkj"
   },
   "outputs": [
    {
     "data": {
      "text/html": [
       "<style scoped>\n",
       "  .ansiout {\n",
       "    display: block;\n",
       "    unicode-bidi: embed;\n",
       "    white-space: pre-wrap;\n",
       "    word-wrap: break-word;\n",
       "    word-break: break-all;\n",
       "    font-family: \"Source Code Pro\", \"Menlo\", monospace;;\n",
       "    font-size: 13px;\n",
       "    color: #555;\n",
       "    margin-left: 4px;\n",
       "    line-height: 19px;\n",
       "  }\n",
       "</style>\n",
       "<div class=\"ansiout\"></div>"
      ]
     },
     "metadata": {
      "application/vnd.databricks.v1+output": {
       "addedWidgets": {},
       "arguments": {},
       "data": "<div class=\"ansiout\"></div>",
       "datasetInfos": [],
       "metadata": {},
       "removedWidgets": [],
       "type": "html"
      }
     },
     "output_type": "display_data"
    }
   ],
   "source": [
    "AnomalyX = strat_train_set.iloc[:, 1:23]\n",
    "AnomalyX_np = AnomalyX.to_numpy(dtype= None, copy= False) "
   ]
  },
  {
   "cell_type": "code",
   "execution_count": 0,
   "metadata": {
    "application/vnd.databricks.v1+cell": {
     "inputWidgets": {},
     "nuid": "cdf80c20-d157-4bf1-912c-d792bf47dffd",
     "showTitle": false,
     "title": ""
    },
    "id": "li89Vo3LhRkj"
   },
   "outputs": [
    {
     "data": {
      "text/html": [
       "<style scoped>\n",
       "  .ansiout {\n",
       "    display: block;\n",
       "    unicode-bidi: embed;\n",
       "    white-space: pre-wrap;\n",
       "    word-wrap: break-word;\n",
       "    word-break: break-all;\n",
       "    font-family: \"Source Code Pro\", \"Menlo\", monospace;;\n",
       "    font-size: 13px;\n",
       "    color: #555;\n",
       "    margin-left: 4px;\n",
       "    line-height: 19px;\n",
       "  }\n",
       "</style>\n",
       "<div class=\"ansiout\"></div>"
      ]
     },
     "metadata": {
      "application/vnd.databricks.v1+output": {
       "addedWidgets": {},
       "arguments": {},
       "data": "<div class=\"ansiout\"></div>",
       "datasetInfos": [],
       "metadata": {},
       "removedWidgets": [],
       "type": "html"
      }
     },
     "output_type": "display_data"
    }
   ],
   "source": [
    "iforest = IsolationForest(max_samples='auto',\n",
    "                          n_estimators=50, \n",
    "                          contamination=0.02,\n",
    "                          max_features=1.0)\n",
    "\n",
    "iforest_= iforest.fit(AnomalyX_np)"
   ]
  },
  {
   "cell_type": "code",
   "execution_count": 0,
   "metadata": {
    "application/vnd.databricks.v1+cell": {
     "inputWidgets": {},
     "nuid": "af1a2058-8a2b-4bc5-9d69-ef9cdabe26a9",
     "showTitle": false,
     "title": ""
    },
    "colab": {
     "base_uri": "https://localhost:8080/"
    },
    "id": "LLqpkOKdhRkj",
    "outputId": "030c0fd4-d26c-48aa-e100-570137a0cf0f"
   },
   "outputs": [
    {
     "data": {
      "text/html": [
       "<style scoped>\n",
       "  .ansiout {\n",
       "    display: block;\n",
       "    unicode-bidi: embed;\n",
       "    white-space: pre-wrap;\n",
       "    word-wrap: break-word;\n",
       "    word-break: break-all;\n",
       "    font-family: \"Source Code Pro\", \"Menlo\", monospace;;\n",
       "    font-size: 13px;\n",
       "    color: #555;\n",
       "    margin-left: 4px;\n",
       "    line-height: 19px;\n",
       "  }\n",
       "</style>\n",
       "<div class=\"ansiout\">&lt;command-1452363639079725&gt;:1: SettingWithCopyWarning: \n",
       "A value is trying to be set on a copy of a slice from a DataFrame.\n",
       "Try using .loc[row_indexer,col_indexer] = value instead\n",
       "\n",
       "See the caveats in the documentation: https://pandas.pydata.org/pandas-docs/stable/user_guide/indexing.html#returning-a-view-versus-a-copy\n",
       "  strat_train_set[&#39;scores&#39;] = iforest_.decision_function(AnomalyX_np)\n",
       "&lt;command-1452363639079725&gt;:2: SettingWithCopyWarning: \n",
       "A value is trying to be set on a copy of a slice from a DataFrame.\n",
       "Try using .loc[row_indexer,col_indexer] = value instead\n",
       "\n",
       "See the caveats in the documentation: https://pandas.pydata.org/pandas-docs/stable/user_guide/indexing.html#returning-a-view-versus-a-copy\n",
       "  strat_train_set[&#39;anomaly&#39;] = iforest_.predict(AnomalyX_np)\n",
       "</div>"
      ]
     },
     "metadata": {
      "application/vnd.databricks.v1+output": {
       "addedWidgets": {},
       "arguments": {},
       "data": "<div class=\"ansiout\">&lt;command-1452363639079725&gt;:1: SettingWithCopyWarning: \nA value is trying to be set on a copy of a slice from a DataFrame.\nTry using .loc[row_indexer,col_indexer] = value instead\n\nSee the caveats in the documentation: https://pandas.pydata.org/pandas-docs/stable/user_guide/indexing.html#returning-a-view-versus-a-copy\n  strat_train_set[&#39;scores&#39;] = iforest_.decision_function(AnomalyX_np)\n&lt;command-1452363639079725&gt;:2: SettingWithCopyWarning: \nA value is trying to be set on a copy of a slice from a DataFrame.\nTry using .loc[row_indexer,col_indexer] = value instead\n\nSee the caveats in the documentation: https://pandas.pydata.org/pandas-docs/stable/user_guide/indexing.html#returning-a-view-versus-a-copy\n  strat_train_set[&#39;anomaly&#39;] = iforest_.predict(AnomalyX_np)\n</div>",
       "datasetInfos": [],
       "metadata": {},
       "removedWidgets": [],
       "type": "html"
      }
     },
     "output_type": "display_data"
    }
   ],
   "source": [
    "strat_train_set['scores'] = iforest_.decision_function(AnomalyX_np)\n",
    "strat_train_set['anomaly'] = iforest_.predict(AnomalyX_np)"
   ]
  },
  {
   "cell_type": "code",
   "execution_count": 0,
   "metadata": {
    "application/vnd.databricks.v1+cell": {
     "inputWidgets": {},
     "nuid": "92df3998-1ca1-4ede-856a-2b87e0b84847",
     "showTitle": false,
     "title": ""
    },
    "colab": {
     "base_uri": "https://localhost:8080/",
     "height": 423
    },
    "id": "gP057OBLhRkj",
    "outputId": "afc43bf8-44d5-4d21-d37d-75d7e5fb2a37"
   },
   "outputs": [
    {
     "data": {
      "text/html": [
       "<style scoped>\n",
       "  .ansiout {\n",
       "    display: block;\n",
       "    unicode-bidi: embed;\n",
       "    white-space: pre-wrap;\n",
       "    word-wrap: break-word;\n",
       "    word-break: break-all;\n",
       "    font-family: \"Source Code Pro\", \"Menlo\", monospace;;\n",
       "    font-size: 13px;\n",
       "    color: #555;\n",
       "    margin-left: 4px;\n",
       "    line-height: 19px;\n",
       "  }\n",
       "</style>\n",
       "<div class=\"ansiout\">Out[36]: </div>"
      ]
     },
     "metadata": {
      "application/vnd.databricks.v1+output": {
       "addedWidgets": {},
       "arguments": {},
       "data": "<div class=\"ansiout\">Out[36]: </div>",
       "datasetInfos": [],
       "metadata": {},
       "removedWidgets": [],
       "type": "html"
      }
     },
     "output_type": "display_data"
    },
    {
     "data": {
      "text/html": [
       "<div>\n",
       "<style scoped>\n",
       "    .dataframe tbody tr th:only-of-type {\n",
       "        vertical-align: middle;\n",
       "    }\n",
       "\n",
       "    .dataframe tbody tr th {\n",
       "        vertical-align: top;\n",
       "    }\n",
       "\n",
       "    .dataframe thead th {\n",
       "        text-align: right;\n",
       "    }\n",
       "</style>\n",
       "<table border=\"1\" class=\"dataframe\">\n",
       "  <thead>\n",
       "    <tr style=\"text-align: right;\">\n",
       "      <th></th>\n",
       "      <th>tenure</th>\n",
       "      <th>Contract</th>\n",
       "      <th>MonthlyCharges</th>\n",
       "      <th>Churn</th>\n",
       "      <th>scores</th>\n",
       "      <th>anomaly</th>\n",
       "    </tr>\n",
       "  </thead>\n",
       "  <tbody>\n",
       "    <tr>\n",
       "      <th>1413</th>\n",
       "      <td>65</td>\n",
       "      <td>3</td>\n",
       "      <td>94.55</td>\n",
       "      <td>0</td>\n",
       "      <td>0.117505</td>\n",
       "      <td>1</td>\n",
       "    </tr>\n",
       "    <tr>\n",
       "      <th>7003</th>\n",
       "      <td>26</td>\n",
       "      <td>1</td>\n",
       "      <td>35.75</td>\n",
       "      <td>0</td>\n",
       "      <td>0.099800</td>\n",
       "      <td>1</td>\n",
       "    </tr>\n",
       "    <tr>\n",
       "      <th>3355</th>\n",
       "      <td>68</td>\n",
       "      <td>3</td>\n",
       "      <td>90.20</td>\n",
       "      <td>0</td>\n",
       "      <td>0.141129</td>\n",
       "      <td>1</td>\n",
       "    </tr>\n",
       "    <tr>\n",
       "      <th>4494</th>\n",
       "      <td>3</td>\n",
       "      <td>1</td>\n",
       "      <td>84.30</td>\n",
       "      <td>0</td>\n",
       "      <td>0.151634</td>\n",
       "      <td>1</td>\n",
       "    </tr>\n",
       "    <tr>\n",
       "      <th>3541</th>\n",
       "      <td>49</td>\n",
       "      <td>1</td>\n",
       "      <td>40.65</td>\n",
       "      <td>0</td>\n",
       "      <td>0.112138</td>\n",
       "      <td>1</td>\n",
       "    </tr>\n",
       "    <tr>\n",
       "      <th>...</th>\n",
       "      <td>...</td>\n",
       "      <td>...</td>\n",
       "      <td>...</td>\n",
       "      <td>...</td>\n",
       "      <td>...</td>\n",
       "      <td>...</td>\n",
       "    </tr>\n",
       "    <tr>\n",
       "      <th>3451</th>\n",
       "      <td>65</td>\n",
       "      <td>2</td>\n",
       "      <td>70.95</td>\n",
       "      <td>0</td>\n",
       "      <td>0.142802</td>\n",
       "      <td>1</td>\n",
       "    </tr>\n",
       "    <tr>\n",
       "      <th>5123</th>\n",
       "      <td>15</td>\n",
       "      <td>1</td>\n",
       "      <td>75.30</td>\n",
       "      <td>1</td>\n",
       "      <td>0.162792</td>\n",
       "      <td>1</td>\n",
       "    </tr>\n",
       "    <tr>\n",
       "      <th>4135</th>\n",
       "      <td>36</td>\n",
       "      <td>3</td>\n",
       "      <td>92.90</td>\n",
       "      <td>0</td>\n",
       "      <td>0.120129</td>\n",
       "      <td>1</td>\n",
       "    </tr>\n",
       "    <tr>\n",
       "      <th>4249</th>\n",
       "      <td>10</td>\n",
       "      <td>2</td>\n",
       "      <td>65.90</td>\n",
       "      <td>0</td>\n",
       "      <td>0.147786</td>\n",
       "      <td>1</td>\n",
       "    </tr>\n",
       "    <tr>\n",
       "      <th>1505</th>\n",
       "      <td>1</td>\n",
       "      <td>1</td>\n",
       "      <td>74.70</td>\n",
       "      <td>1</td>\n",
       "      <td>0.160140</td>\n",
       "      <td>1</td>\n",
       "    </tr>\n",
       "  </tbody>\n",
       "</table>\n",
       "<p>5625 rows × 6 columns</p>\n",
       "</div>"
      ]
     },
     "metadata": {
      "application/vnd.databricks.v1+output": {
       "addedWidgets": {},
       "arguments": {},
       "data": "<div>\n<style scoped>\n    .dataframe tbody tr th:only-of-type {\n        vertical-align: middle;\n    }\n\n    .dataframe tbody tr th {\n        vertical-align: top;\n    }\n\n    .dataframe thead th {\n        text-align: right;\n    }\n</style>\n<table border=\"1\" class=\"dataframe\">\n  <thead>\n    <tr style=\"text-align: right;\">\n      <th></th>\n      <th>tenure</th>\n      <th>Contract</th>\n      <th>MonthlyCharges</th>\n      <th>Churn</th>\n      <th>scores</th>\n      <th>anomaly</th>\n    </tr>\n  </thead>\n  <tbody>\n    <tr>\n      <th>1413</th>\n      <td>65</td>\n      <td>3</td>\n      <td>94.55</td>\n      <td>0</td>\n      <td>0.117505</td>\n      <td>1</td>\n    </tr>\n    <tr>\n      <th>7003</th>\n      <td>26</td>\n      <td>1</td>\n      <td>35.75</td>\n      <td>0</td>\n      <td>0.099800</td>\n      <td>1</td>\n    </tr>\n    <tr>\n      <th>3355</th>\n      <td>68</td>\n      <td>3</td>\n      <td>90.20</td>\n      <td>0</td>\n      <td>0.141129</td>\n      <td>1</td>\n    </tr>\n    <tr>\n      <th>4494</th>\n      <td>3</td>\n      <td>1</td>\n      <td>84.30</td>\n      <td>0</td>\n      <td>0.151634</td>\n      <td>1</td>\n    </tr>\n    <tr>\n      <th>3541</th>\n      <td>49</td>\n      <td>1</td>\n      <td>40.65</td>\n      <td>0</td>\n      <td>0.112138</td>\n      <td>1</td>\n    </tr>\n    <tr>\n      <th>...</th>\n      <td>...</td>\n      <td>...</td>\n      <td>...</td>\n      <td>...</td>\n      <td>...</td>\n      <td>...</td>\n    </tr>\n    <tr>\n      <th>3451</th>\n      <td>65</td>\n      <td>2</td>\n      <td>70.95</td>\n      <td>0</td>\n      <td>0.142802</td>\n      <td>1</td>\n    </tr>\n    <tr>\n      <th>5123</th>\n      <td>15</td>\n      <td>1</td>\n      <td>75.30</td>\n      <td>1</td>\n      <td>0.162792</td>\n      <td>1</td>\n    </tr>\n    <tr>\n      <th>4135</th>\n      <td>36</td>\n      <td>3</td>\n      <td>92.90</td>\n      <td>0</td>\n      <td>0.120129</td>\n      <td>1</td>\n    </tr>\n    <tr>\n      <th>4249</th>\n      <td>10</td>\n      <td>2</td>\n      <td>65.90</td>\n      <td>0</td>\n      <td>0.147786</td>\n      <td>1</td>\n    </tr>\n    <tr>\n      <th>1505</th>\n      <td>1</td>\n      <td>1</td>\n      <td>74.70</td>\n      <td>1</td>\n      <td>0.160140</td>\n      <td>1</td>\n    </tr>\n  </tbody>\n</table>\n<p>5625 rows × 6 columns</p>\n</div>",
       "datasetInfos": [],
       "metadata": {},
       "removedWidgets": [],
       "textData": null,
       "type": "htmlSandbox"
      }
     },
     "output_type": "display_data"
    }
   ],
   "source": [
    "strat_train_set"
   ]
  },
  {
   "cell_type": "code",
   "execution_count": 0,
   "metadata": {
    "application/vnd.databricks.v1+cell": {
     "inputWidgets": {},
     "nuid": "43865740-214d-4067-80ee-452eecb54e8b",
     "showTitle": false,
     "title": ""
    },
    "id": "_Q2DF4QthRkj"
   },
   "outputs": [
    {
     "data": {
      "text/html": [
       "<style scoped>\n",
       "  .ansiout {\n",
       "    display: block;\n",
       "    unicode-bidi: embed;\n",
       "    white-space: pre-wrap;\n",
       "    word-wrap: break-word;\n",
       "    word-break: break-all;\n",
       "    font-family: \"Source Code Pro\", \"Menlo\", monospace;;\n",
       "    font-size: 13px;\n",
       "    color: #555;\n",
       "    margin-left: 4px;\n",
       "    line-height: 19px;\n",
       "  }\n",
       "</style>\n",
       "<div class=\"ansiout\"></div>"
      ]
     },
     "metadata": {
      "application/vnd.databricks.v1+output": {
       "addedWidgets": {},
       "arguments": {},
       "data": "<div class=\"ansiout\"></div>",
       "datasetInfos": [],
       "metadata": {},
       "removedWidgets": [],
       "type": "html"
      }
     },
     "output_type": "display_data"
    }
   ],
   "source": [
    "strat_train_set = strat_train_set[strat_train_set['anomaly'] != -1]"
   ]
  },
  {
   "cell_type": "code",
   "execution_count": 0,
   "metadata": {
    "application/vnd.databricks.v1+cell": {
     "inputWidgets": {},
     "nuid": "ddfeca3e-6563-44c9-a123-43c88e450251",
     "showTitle": false,
     "title": ""
    },
    "colab": {
     "base_uri": "https://localhost:8080/",
     "height": 423
    },
    "id": "7Gf9sQishRkj",
    "outputId": "89101cba-13e3-4e82-b96a-86bd5f67e7d5"
   },
   "outputs": [
    {
     "data": {
      "text/html": [
       "<style scoped>\n",
       "  .ansiout {\n",
       "    display: block;\n",
       "    unicode-bidi: embed;\n",
       "    white-space: pre-wrap;\n",
       "    word-wrap: break-word;\n",
       "    word-break: break-all;\n",
       "    font-family: \"Source Code Pro\", \"Menlo\", monospace;;\n",
       "    font-size: 13px;\n",
       "    color: #555;\n",
       "    margin-left: 4px;\n",
       "    line-height: 19px;\n",
       "  }\n",
       "</style>\n",
       "<div class=\"ansiout\">Out[38]: </div>"
      ]
     },
     "metadata": {
      "application/vnd.databricks.v1+output": {
       "addedWidgets": {},
       "arguments": {},
       "data": "<div class=\"ansiout\">Out[38]: </div>",
       "datasetInfos": [],
       "metadata": {},
       "removedWidgets": [],
       "type": "html"
      }
     },
     "output_type": "display_data"
    },
    {
     "data": {
      "text/html": [
       "<div>\n",
       "<style scoped>\n",
       "    .dataframe tbody tr th:only-of-type {\n",
       "        vertical-align: middle;\n",
       "    }\n",
       "\n",
       "    .dataframe tbody tr th {\n",
       "        vertical-align: top;\n",
       "    }\n",
       "\n",
       "    .dataframe thead th {\n",
       "        text-align: right;\n",
       "    }\n",
       "</style>\n",
       "<table border=\"1\" class=\"dataframe\">\n",
       "  <thead>\n",
       "    <tr style=\"text-align: right;\">\n",
       "      <th></th>\n",
       "      <th>tenure</th>\n",
       "      <th>Contract</th>\n",
       "      <th>MonthlyCharges</th>\n",
       "      <th>Churn</th>\n",
       "      <th>scores</th>\n",
       "      <th>anomaly</th>\n",
       "    </tr>\n",
       "  </thead>\n",
       "  <tbody>\n",
       "    <tr>\n",
       "      <th>1413</th>\n",
       "      <td>65</td>\n",
       "      <td>3</td>\n",
       "      <td>94.55</td>\n",
       "      <td>0</td>\n",
       "      <td>0.117505</td>\n",
       "      <td>1</td>\n",
       "    </tr>\n",
       "    <tr>\n",
       "      <th>7003</th>\n",
       "      <td>26</td>\n",
       "      <td>1</td>\n",
       "      <td>35.75</td>\n",
       "      <td>0</td>\n",
       "      <td>0.099800</td>\n",
       "      <td>1</td>\n",
       "    </tr>\n",
       "    <tr>\n",
       "      <th>3355</th>\n",
       "      <td>68</td>\n",
       "      <td>3</td>\n",
       "      <td>90.20</td>\n",
       "      <td>0</td>\n",
       "      <td>0.141129</td>\n",
       "      <td>1</td>\n",
       "    </tr>\n",
       "    <tr>\n",
       "      <th>4494</th>\n",
       "      <td>3</td>\n",
       "      <td>1</td>\n",
       "      <td>84.30</td>\n",
       "      <td>0</td>\n",
       "      <td>0.151634</td>\n",
       "      <td>1</td>\n",
       "    </tr>\n",
       "    <tr>\n",
       "      <th>3541</th>\n",
       "      <td>49</td>\n",
       "      <td>1</td>\n",
       "      <td>40.65</td>\n",
       "      <td>0</td>\n",
       "      <td>0.112138</td>\n",
       "      <td>1</td>\n",
       "    </tr>\n",
       "    <tr>\n",
       "      <th>...</th>\n",
       "      <td>...</td>\n",
       "      <td>...</td>\n",
       "      <td>...</td>\n",
       "      <td>...</td>\n",
       "      <td>...</td>\n",
       "      <td>...</td>\n",
       "    </tr>\n",
       "    <tr>\n",
       "      <th>3451</th>\n",
       "      <td>65</td>\n",
       "      <td>2</td>\n",
       "      <td>70.95</td>\n",
       "      <td>0</td>\n",
       "      <td>0.142802</td>\n",
       "      <td>1</td>\n",
       "    </tr>\n",
       "    <tr>\n",
       "      <th>5123</th>\n",
       "      <td>15</td>\n",
       "      <td>1</td>\n",
       "      <td>75.30</td>\n",
       "      <td>1</td>\n",
       "      <td>0.162792</td>\n",
       "      <td>1</td>\n",
       "    </tr>\n",
       "    <tr>\n",
       "      <th>4135</th>\n",
       "      <td>36</td>\n",
       "      <td>3</td>\n",
       "      <td>92.90</td>\n",
       "      <td>0</td>\n",
       "      <td>0.120129</td>\n",
       "      <td>1</td>\n",
       "    </tr>\n",
       "    <tr>\n",
       "      <th>4249</th>\n",
       "      <td>10</td>\n",
       "      <td>2</td>\n",
       "      <td>65.90</td>\n",
       "      <td>0</td>\n",
       "      <td>0.147786</td>\n",
       "      <td>1</td>\n",
       "    </tr>\n",
       "    <tr>\n",
       "      <th>1505</th>\n",
       "      <td>1</td>\n",
       "      <td>1</td>\n",
       "      <td>74.70</td>\n",
       "      <td>1</td>\n",
       "      <td>0.160140</td>\n",
       "      <td>1</td>\n",
       "    </tr>\n",
       "  </tbody>\n",
       "</table>\n",
       "<p>5512 rows × 6 columns</p>\n",
       "</div>"
      ]
     },
     "metadata": {
      "application/vnd.databricks.v1+output": {
       "addedWidgets": {},
       "arguments": {},
       "data": "<div>\n<style scoped>\n    .dataframe tbody tr th:only-of-type {\n        vertical-align: middle;\n    }\n\n    .dataframe tbody tr th {\n        vertical-align: top;\n    }\n\n    .dataframe thead th {\n        text-align: right;\n    }\n</style>\n<table border=\"1\" class=\"dataframe\">\n  <thead>\n    <tr style=\"text-align: right;\">\n      <th></th>\n      <th>tenure</th>\n      <th>Contract</th>\n      <th>MonthlyCharges</th>\n      <th>Churn</th>\n      <th>scores</th>\n      <th>anomaly</th>\n    </tr>\n  </thead>\n  <tbody>\n    <tr>\n      <th>1413</th>\n      <td>65</td>\n      <td>3</td>\n      <td>94.55</td>\n      <td>0</td>\n      <td>0.117505</td>\n      <td>1</td>\n    </tr>\n    <tr>\n      <th>7003</th>\n      <td>26</td>\n      <td>1</td>\n      <td>35.75</td>\n      <td>0</td>\n      <td>0.099800</td>\n      <td>1</td>\n    </tr>\n    <tr>\n      <th>3355</th>\n      <td>68</td>\n      <td>3</td>\n      <td>90.20</td>\n      <td>0</td>\n      <td>0.141129</td>\n      <td>1</td>\n    </tr>\n    <tr>\n      <th>4494</th>\n      <td>3</td>\n      <td>1</td>\n      <td>84.30</td>\n      <td>0</td>\n      <td>0.151634</td>\n      <td>1</td>\n    </tr>\n    <tr>\n      <th>3541</th>\n      <td>49</td>\n      <td>1</td>\n      <td>40.65</td>\n      <td>0</td>\n      <td>0.112138</td>\n      <td>1</td>\n    </tr>\n    <tr>\n      <th>...</th>\n      <td>...</td>\n      <td>...</td>\n      <td>...</td>\n      <td>...</td>\n      <td>...</td>\n      <td>...</td>\n    </tr>\n    <tr>\n      <th>3451</th>\n      <td>65</td>\n      <td>2</td>\n      <td>70.95</td>\n      <td>0</td>\n      <td>0.142802</td>\n      <td>1</td>\n    </tr>\n    <tr>\n      <th>5123</th>\n      <td>15</td>\n      <td>1</td>\n      <td>75.30</td>\n      <td>1</td>\n      <td>0.162792</td>\n      <td>1</td>\n    </tr>\n    <tr>\n      <th>4135</th>\n      <td>36</td>\n      <td>3</td>\n      <td>92.90</td>\n      <td>0</td>\n      <td>0.120129</td>\n      <td>1</td>\n    </tr>\n    <tr>\n      <th>4249</th>\n      <td>10</td>\n      <td>2</td>\n      <td>65.90</td>\n      <td>0</td>\n      <td>0.147786</td>\n      <td>1</td>\n    </tr>\n    <tr>\n      <th>1505</th>\n      <td>1</td>\n      <td>1</td>\n      <td>74.70</td>\n      <td>1</td>\n      <td>0.160140</td>\n      <td>1</td>\n    </tr>\n  </tbody>\n</table>\n<p>5512 rows × 6 columns</p>\n</div>",
       "datasetInfos": [],
       "metadata": {},
       "removedWidgets": [],
       "textData": null,
       "type": "htmlSandbox"
      }
     },
     "output_type": "display_data"
    }
   ],
   "source": [
    "strat_train_set"
   ]
  },
  {
   "cell_type": "code",
   "execution_count": 0,
   "metadata": {
    "application/vnd.databricks.v1+cell": {
     "inputWidgets": {},
     "nuid": "ead01530-b4e4-4b0a-9e1d-faab7feb56a5",
     "showTitle": false,
     "title": ""
    },
    "id": "Te4AVTubhRkk"
   },
   "outputs": [
    {
     "data": {
      "text/html": [
       "<style scoped>\n",
       "  .ansiout {\n",
       "    display: block;\n",
       "    unicode-bidi: embed;\n",
       "    white-space: pre-wrap;\n",
       "    word-wrap: break-word;\n",
       "    word-break: break-all;\n",
       "    font-family: \"Source Code Pro\", \"Menlo\", monospace;;\n",
       "    font-size: 13px;\n",
       "    color: #555;\n",
       "    margin-left: 4px;\n",
       "    line-height: 19px;\n",
       "  }\n",
       "</style>\n",
       "<div class=\"ansiout\"></div>"
      ]
     },
     "metadata": {
      "application/vnd.databricks.v1+output": {
       "addedWidgets": {},
       "arguments": {},
       "data": "<div class=\"ansiout\"></div>",
       "datasetInfos": [],
       "metadata": {},
       "removedWidgets": [],
       "type": "html"
      }
     },
     "output_type": "display_data"
    }
   ],
   "source": [
    "strat_train_set = strat_train_set.drop(['scores','anomaly'], axis=1)"
   ]
  },
  {
   "cell_type": "markdown",
   "metadata": {
    "application/vnd.databricks.v1+cell": {
     "inputWidgets": {},
     "nuid": "8ae8b5c5-27bd-4ac1-a275-092daae85bf5",
     "showTitle": false,
     "title": ""
    },
    "id": "XuAdivzLhRkk"
   },
   "source": [
    "# Sampling Training Data\n",
    "Contributor(s): HishamSalem\n",
    "\n",
    "We try over-sampling and under-sampling methods as we have a significant class imbalance of *3:1*. Our predictive results are better with over-sampling the minority class."
   ]
  },
  {
   "cell_type": "markdown",
   "metadata": {
    "application/vnd.databricks.v1+cell": {
     "inputWidgets": {},
     "nuid": "0792f4c1-9864-4340-8ec5-f29cf6c106f7",
     "showTitle": false,
     "title": ""
    },
    "id": "WBB1vPwOhRkk"
   },
   "source": [
    "## X/Y Split"
   ]
  },
  {
   "cell_type": "code",
   "execution_count": 0,
   "metadata": {
    "application/vnd.databricks.v1+cell": {
     "inputWidgets": {},
     "nuid": "27f69c5d-0636-4b88-afa1-ca31900210b0",
     "showTitle": false,
     "title": ""
    },
    "id": "NZFHuYYBhRkk"
   },
   "outputs": [
    {
     "data": {
      "text/html": [
       "<style scoped>\n",
       "  .ansiout {\n",
       "    display: block;\n",
       "    unicode-bidi: embed;\n",
       "    white-space: pre-wrap;\n",
       "    word-wrap: break-word;\n",
       "    word-break: break-all;\n",
       "    font-family: \"Source Code Pro\", \"Menlo\", monospace;;\n",
       "    font-size: 13px;\n",
       "    color: #555;\n",
       "    margin-left: 4px;\n",
       "    line-height: 19px;\n",
       "  }\n",
       "</style>\n",
       "<div class=\"ansiout\"></div>"
      ]
     },
     "metadata": {
      "application/vnd.databricks.v1+output": {
       "addedWidgets": {},
       "arguments": {},
       "data": "<div class=\"ansiout\"></div>",
       "datasetInfos": [],
       "metadata": {},
       "removedWidgets": [],
       "type": "html"
      }
     },
     "output_type": "display_data"
    }
   ],
   "source": [
    "strat_train_set_y = strat_train_set['Churn'].copy()\n",
    "strat_train_set_x = strat_train_set.drop(['Churn'], axis=1)"
   ]
  },
  {
   "cell_type": "code",
   "execution_count": 0,
   "metadata": {
    "application/vnd.databricks.v1+cell": {
     "inputWidgets": {},
     "nuid": "5408a4cb-c1c3-4ba9-9063-9966d92377ef",
     "showTitle": false,
     "title": ""
    },
    "colab": {
     "base_uri": "https://localhost:8080/"
    },
    "id": "tqo6-cyyhRkk",
    "outputId": "ed443d20-06d7-463a-f25f-e89431a29ac2"
   },
   "outputs": [
    {
     "data": {
      "text/html": [
       "<style scoped>\n",
       "  .ansiout {\n",
       "    display: block;\n",
       "    unicode-bidi: embed;\n",
       "    white-space: pre-wrap;\n",
       "    word-wrap: break-word;\n",
       "    word-break: break-all;\n",
       "    font-family: \"Source Code Pro\", \"Menlo\", monospace;;\n",
       "    font-size: 13px;\n",
       "    color: #555;\n",
       "    margin-left: 4px;\n",
       "    line-height: 19px;\n",
       "  }\n",
       "</style>\n",
       "<div class=\"ansiout\">Out[41]: 0.25072568940493467</div>"
      ]
     },
     "metadata": {
      "application/vnd.databricks.v1+output": {
       "addedWidgets": {},
       "arguments": {},
       "data": "<div class=\"ansiout\">Out[41]: 0.25072568940493467</div>",
       "datasetInfos": [],
       "metadata": {},
       "removedWidgets": [],
       "type": "html"
      }
     },
     "output_type": "display_data"
    }
   ],
   "source": [
    "sum(strat_train_set_y)/len(strat_train_set_y)"
   ]
  },
  {
   "cell_type": "markdown",
   "metadata": {
    "application/vnd.databricks.v1+cell": {
     "inputWidgets": {},
     "nuid": "553c2922-870f-4cef-844c-9c8ec2f33dcd",
     "showTitle": false,
     "title": ""
    },
    "id": "tdcrwplDhRkk"
   },
   "source": [
    "## Oversampler"
   ]
  },
  {
   "cell_type": "code",
   "execution_count": 0,
   "metadata": {
    "application/vnd.databricks.v1+cell": {
     "inputWidgets": {},
     "nuid": "21a65c15-0572-4604-ac9a-7e9087a12103",
     "showTitle": false,
     "title": ""
    },
    "id": "4JbgoWVUhRkk"
   },
   "outputs": [
    {
     "data": {
      "text/html": [
       "<style scoped>\n",
       "  .ansiout {\n",
       "    display: block;\n",
       "    unicode-bidi: embed;\n",
       "    white-space: pre-wrap;\n",
       "    word-wrap: break-word;\n",
       "    word-break: break-all;\n",
       "    font-family: \"Source Code Pro\", \"Menlo\", monospace;;\n",
       "    font-size: 13px;\n",
       "    color: #555;\n",
       "    margin-left: 4px;\n",
       "    line-height: 19px;\n",
       "  }\n",
       "</style>\n",
       "<div class=\"ansiout\"></div>"
      ]
     },
     "metadata": {
      "application/vnd.databricks.v1+output": {
       "addedWidgets": {},
       "arguments": {},
       "data": "<div class=\"ansiout\"></div>",
       "datasetInfos": [],
       "metadata": {},
       "removedWidgets": [],
       "type": "html"
      }
     },
     "output_type": "display_data"
    }
   ],
   "source": [
    "oversample = SMOTE()\n",
    "sample_x_over, sample_y_over = oversample.fit_resample(strat_train_set_x, strat_train_set_y)"
   ]
  },
  {
   "cell_type": "code",
   "execution_count": 0,
   "metadata": {
    "application/vnd.databricks.v1+cell": {
     "inputWidgets": {},
     "nuid": "1a4c1fd5-9d42-4b69-9c80-b87870df3b48",
     "showTitle": false,
     "title": ""
    },
    "id": "3XDt5stlCn02"
   },
   "outputs": [
    {
     "data": {
      "text/html": [
       "<style scoped>\n",
       "  .ansiout {\n",
       "    display: block;\n",
       "    unicode-bidi: embed;\n",
       "    white-space: pre-wrap;\n",
       "    word-wrap: break-word;\n",
       "    word-break: break-all;\n",
       "    font-family: \"Source Code Pro\", \"Menlo\", monospace;;\n",
       "    font-size: 13px;\n",
       "    color: #555;\n",
       "    margin-left: 4px;\n",
       "    line-height: 19px;\n",
       "  }\n",
       "</style>\n",
       "<div class=\"ansiout\"></div>"
      ]
     },
     "metadata": {
      "application/vnd.databricks.v1+output": {
       "addedWidgets": {},
       "arguments": {},
       "data": "<div class=\"ansiout\"></div>",
       "datasetInfos": [],
       "metadata": {},
       "removedWidgets": [],
       "type": "html"
      }
     },
     "output_type": "display_data"
    }
   ],
   "source": [
    "strat_test_set_y = strat_test_set['Churn'].copy()\n",
    "strat_test_set_x = strat_test_set.drop(['Churn'], axis=1)"
   ]
  },
  {
   "cell_type": "markdown",
   "metadata": {
    "application/vnd.databricks.v1+cell": {
     "inputWidgets": {},
     "nuid": "ab2c4f7c-40cd-4f34-b09a-f5af21b817f5",
     "showTitle": false,
     "title": ""
    },
    "id": "C9cPO0_BhRkl"
   },
   "source": [
    "## Production Code Pickling & Logging\n",
    "Contributor(s): @HishamSalem, @rsoleimani"
   ]
  },
  {
   "cell_type": "markdown",
   "metadata": {
    "application/vnd.databricks.v1+cell": {
     "inputWidgets": {},
     "nuid": "791d719d-37c9-4cbb-83d9-e3f71b59a4ba",
     "showTitle": false,
     "title": ""
    },
    "id": "8gE9HOSpYdlp"
   },
   "source": [
    "Dependencies Pickle and Optuna TPESampler + base dependencies"
   ]
  },
  {
   "cell_type": "code",
   "execution_count": 0,
   "metadata": {
    "application/vnd.databricks.v1+cell": {
     "inputWidgets": {},
     "nuid": "f5d0e126-6537-4c48-93f7-c5ebe55a1dfd",
     "showTitle": false,
     "title": ""
    },
    "id": "u-e3462nYosT"
   },
   "outputs": [
    {
     "data": {
      "text/html": [
       "<style scoped>\n",
       "  .ansiout {\n",
       "    display: block;\n",
       "    unicode-bidi: embed;\n",
       "    white-space: pre-wrap;\n",
       "    word-wrap: break-word;\n",
       "    word-break: break-all;\n",
       "    font-family: \"Source Code Pro\", \"Menlo\", monospace;;\n",
       "    font-size: 13px;\n",
       "    color: #555;\n",
       "    margin-left: 4px;\n",
       "    line-height: 19px;\n",
       "  }\n",
       "</style>\n",
       "<div class=\"ansiout\"></div>"
      ]
     },
     "metadata": {
      "application/vnd.databricks.v1+output": {
       "addedWidgets": {},
       "arguments": {},
       "data": "<div class=\"ansiout\"></div>",
       "datasetInfos": [],
       "metadata": {},
       "removedWidgets": [],
       "type": "html"
      }
     },
     "output_type": "display_data"
    }
   ],
   "source": [
    "TrialNumber=20"
   ]
  },
  {
   "cell_type": "code",
   "execution_count": 0,
   "metadata": {
    "application/vnd.databricks.v1+cell": {
     "inputWidgets": {},
     "nuid": "ab7fee6b-02fb-4168-a9b1-907d3c6fd9a4",
     "showTitle": false,
     "title": ""
    },
    "colab": {
     "base_uri": "https://localhost:8080/"
    },
    "id": "7at7XJZl4NDt",
    "outputId": "74210893-5463-441d-c1d7-3c9212452419"
   },
   "outputs": [
    {
     "data": {
      "text/html": [
       "<style scoped>\n",
       "  .ansiout {\n",
       "    display: block;\n",
       "    unicode-bidi: embed;\n",
       "    white-space: pre-wrap;\n",
       "    word-wrap: break-word;\n",
       "    word-break: break-all;\n",
       "    font-family: \"Source Code Pro\", \"Menlo\", monospace;;\n",
       "    font-size: 13px;\n",
       "    color: #555;\n",
       "    margin-left: 4px;\n",
       "    line-height: 19px;\n",
       "  }\n",
       "</style>\n",
       "<div class=\"ansiout\"><span class=\"ansi-green-fg\">[I 2022-04-18 00:16:12,805]</span> A new study created in memory with name: no-name-18bab135-cb09-444b-b9ef-1cdca376dbf7\n",
       "/databricks/python/lib/python3.8/site-packages/optuna/distributions.py:545: UserWarning: The distribution is specified by [1e-08, 0.03] and q=0.005, but the range is not divisible by `q`. It will be replaced by [1e-08, 0.02500001].\n",
       "  warnings.warn(\n",
       "2022/04/18 00:16:13 WARNING mlflow.utils.autologging_utils: MLflow autologging encountered a warning: &#34;/databricks/python/lib/python3.8/site-packages/sklearn/utils/deprecation.py:87: FutureWarning: Function plot_confusion_matrix is deprecated; Function `plot_confusion_matrix` is deprecated in 1.0 and will be removed in 1.2. Use one of the class methods: ConfusionMatrixDisplay.from_predictions or ConfusionMatrixDisplay.from_estimator.&#34;\n",
       "2022/04/18 00:16:13 WARNING mlflow.utils.autologging_utils: MLflow autologging encountered a warning: &#34;/databricks/python/lib/python3.8/site-packages/sklearn/utils/deprecation.py:87: FutureWarning: Function plot_roc_curve is deprecated; Function :func:`plot_roc_curve` is deprecated in 1.0 and will be removed in 1.2. Use one of the class methods: :meth:`sklearn.metric.RocCurveDisplay.from_predictions` or :meth:`sklearn.metric.RocCurveDisplay.from_estimator`.&#34;\n",
       "2022/04/18 00:16:14 WARNING mlflow.utils.autologging_utils: MLflow autologging encountered a warning: &#34;/databricks/python/lib/python3.8/site-packages/sklearn/utils/deprecation.py:87: FutureWarning: Function plot_precision_recall_curve is deprecated; Function `plot_precision_recall_curve` is deprecated in 1.0 and will be removed in 1.2. Use one of the class methods: PrecisionRecallDisplay.from_predictions or PrecisionRecallDisplay.from_estimator.&#34;\n",
       "2022/04/18 00:16:14 WARNING mlflow.utils.autologging_utils: MLflow autologging encountered a warning: &#34;/databricks/python/lib/python3.8/site-packages/mlflow/models/signature.py:129: UserWarning: Hint: Inferred schema contains integer column(s). Integer columns in Python cannot represent missing values. If your input data contains missing values at inference time, it will be encoded as floats and will cause a schema enforcement error. The best way to avoid this problem is to infer the model schema based on a realistic data sample (training dataset) that includes missing values. Alternatively, you can declare integer columns as doubles (float64) whenever these columns may have missing values. See `Handling Integers With Missing Values &lt;https://www.mlflow.org/docs/latest/models.html#handling-integers-with-missing-values&gt;`_ for more details.&#34;\n",
       "/databricks/python/lib/python3.8/site-packages/mlflow/models/signature.py:129: UserWarning: Hint: Inferred schema contains integer column(s). Integer columns in Python cannot represent missing values. If your input data contains missing values at inference time, it will be encoded as floats and will cause a schema enforcement error. The best way to avoid this problem is to infer the model schema based on a realistic data sample (training dataset) that includes missing values. Alternatively, you can declare integer columns as doubles (float64) whenever these columns may have missing values. See `Handling Integers With Missing Values &lt;https://www.mlflow.org/docs/latest/models.html#handling-integers-with-missing-values&gt;`_ for more details.\n",
       "  inputs = _infer_schema(model_input)\n",
       "<span class=\"ansi-green-fg\">[I 2022-04-18 00:16:19,674]</span> Trial 0 finished with value: 0.5769603097773475 and parameters: {&#39;Classifier&#39;: &#39;gb&#39;, &#39;n_estimators_option_gb&#39;: 60, &#39;max_depth_option_gb&#39;: 1, &#39;max_features_option_gb&#39;: &#39;log2&#39;, &#39;loss_option_gb&#39;: &#39;exponential&#39;, &#39;learning_rate_option_gb&#39;: 1e-08}. Best is trial 0 with value: 0.5769603097773475.\n",
       "2022/04/18 00:16:19 WARNING mlflow.utils.autologging_utils: You are using an unsupported version of xgboost. If you encounter errors during autologging, try upgrading / downgrading xgboost to a supported version, or try upgrading MLflow.\n",
       "[00:16:20] WARNING: ../src/learner.cc:627: \n",
       "Parameters: { &#34;max_features&#34;, &#34;probability&#34; } might not be used.\n",
       "\n",
       "  This could be a false alarm, with some parameters getting used by language bindings but\n",
       "  then being mistakenly passed down to XGBoost core, or some parameter actually being used\n",
       "  but getting flagged wrongly here. Please open an issue if you find any such cases.\n",
       "\n",
       "\n",
       "2022/04/18 00:16:20 WARNING mlflow.utils.autologging_utils: MLflow autologging encountered a warning: &#34;/databricks/python/lib/python3.8/site-packages/mlflow/models/signature.py:129: UserWarning: Hint: Inferred schema contains integer column(s). Integer columns in Python cannot represent missing values. If your input data contains missing values at inference time, it will be encoded as floats and will cause a schema enforcement error. The best way to avoid this problem is to infer the model schema based on a realistic data sample (training dataset) that includes missing values. Alternatively, you can declare integer columns as doubles (float64) whenever these columns may have missing values. See `Handling Integers With Missing Values &lt;https://www.mlflow.org/docs/latest/models.html#handling-integers-with-missing-values&gt;`_ for more details.&#34;\n",
       "/databricks/python/lib/python3.8/site-packages/mlflow/models/signature.py:129: UserWarning: Hint: Inferred schema contains integer column(s). Integer columns in Python cannot represent missing values. If your input data contains missing values at inference time, it will be encoded as floats and will cause a schema enforcement error. The best way to avoid this problem is to infer the model schema based on a realistic data sample (training dataset) that includes missing values. Alternatively, you can declare integer columns as doubles (float64) whenever these columns may have missing values. See `Handling Integers With Missing Values &lt;https://www.mlflow.org/docs/latest/models.html#handling-integers-with-missing-values&gt;`_ for more details.\n",
       "  inputs = _infer_schema(model_input)\n",
       "<span class=\"ansi-green-fg\">[I 2022-04-18 00:16:24,949]</span> Trial 1 finished with value: 0.5601374570446735 and parameters: {&#39;Classifier&#39;: &#39;xgb&#39;, &#39;n_estimators_option_xgb&#39;: 19, &#39;max_features_option_xgb&#39;: 1, &#39;max_depth_option_xgb&#39;: 2, &#39;eval_metric_option_xgb&#39;: &#39;error@0.3&#39;, &#39;learning_rate_option_xgb&#39;: 0.015, &#39;tree_method_option_xgb&#39;: &#39;auto&#39;, &#39;scale_pos_weight_option_xgb&#39;: 50, &#39;max_delta_step_option_xgb&#39;: 61}. Best is trial 0 with value: 0.5769603097773475.\n",
       "/databricks/python/lib/python3.8/site-packages/optuna/distributions.py:545: UserWarning: The distribution is specified by [1e-08, 0.03] and q=0.005, but the range is not divisible by `q`. It will be replaced by [1e-08, 0.02500001].\n",
       "  warnings.warn(\n",
       "2022/04/18 00:16:26 WARNING mlflow.utils.autologging_utils: MLflow autologging encountered a warning: &#34;/databricks/python/lib/python3.8/site-packages/mlflow/models/signature.py:129: UserWarning: Hint: Inferred schema contains integer column(s). Integer columns in Python cannot represent missing values. If your input data contains missing values at inference time, it will be encoded as floats and will cause a schema enforcement error. The best way to avoid this problem is to infer the model schema based on a realistic data sample (training dataset) that includes missing values. Alternatively, you can declare integer columns as doubles (float64) whenever these columns may have missing values. See `Handling Integers With Missing Values &lt;https://www.mlflow.org/docs/latest/models.html#handling-integers-with-missing-values&gt;`_ for more details.&#34;\n",
       "/databricks/python/lib/python3.8/site-packages/mlflow/models/signature.py:129: UserWarning: Hint: Inferred schema contains integer column(s). Integer columns in Python cannot represent missing values. If your input data contains missing values at inference time, it will be encoded as floats and will cause a schema enforcement error. The best way to avoid this problem is to infer the model schema based on a realistic data sample (training dataset) that includes missing values. Alternatively, you can declare integer columns as doubles (float64) whenever these columns may have missing values. See `Handling Integers With Missing Values &lt;https://www.mlflow.org/docs/latest/models.html#handling-integers-with-missing-values&gt;`_ for more details.\n",
       "  inputs = _infer_schema(model_input)\n",
       "<span class=\"ansi-green-fg\">[I 2022-04-18 00:16:29,991]</span> Trial 2 finished with value: 0.6168421052631579 and parameters: {&#39;Classifier&#39;: &#39;lightGBM&#39;, &#39;n_estimators_option_lgbm&#39;: 97, &#39;max_depth_option_lgbm&#39;: 10, &#39;metric_option_lgbm&#39;: &#39;average_precision&#39;, &#39;learning_rate_option_lgbm&#39;: 0.00500001, &#39;scale_pos_weight_option_lgbm&#39;: 970, &#39;max_delta_step_option_lgbm&#39;: 78, &#39;tree_learner_option_lgbm&#39;: &#39;serial&#39;}. Best is trial 2 with value: 0.6168421052631579.\n",
       "/databricks/python/lib/python3.8/site-packages/optuna/distributions.py:545: UserWarning: The distribution is specified by [1e-08, 0.03] and q=0.005, but the range is not divisible by `q`. It will be replaced by [1e-08, 0.02500001].\n",
       "  warnings.warn(\n",
       "2022/04/18 00:16:30 WARNING mlflow.utils.autologging_utils: MLflow autologging encountered a warning: &#34;/databricks/python/lib/python3.8/site-packages/sklearn/utils/deprecation.py:87: FutureWarning: Function plot_confusion_matrix is deprecated; Function `plot_confusion_matrix` is deprecated in 1.0 and will be removed in 1.2. Use one of the class methods: ConfusionMatrixDisplay.from_predictions or ConfusionMatrixDisplay.from_estimator.&#34;\n",
       "2022/04/18 00:16:30 WARNING mlflow.utils.autologging_utils: MLflow autologging encountered a warning: &#34;/databricks/python/lib/python3.8/site-packages/sklearn/utils/deprecation.py:87: FutureWarning: Function plot_roc_curve is deprecated; Function :func:`plot_roc_curve` is deprecated in 1.0 and will be removed in 1.2. Use one of the class methods: :meth:`sklearn.metric.RocCurveDisplay.from_predictions` or :meth:`sklearn.metric.RocCurveDisplay.from_estimator`.&#34;\n",
       "2022/04/18 00:16:30 WARNING mlflow.utils.autologging_utils: MLflow autologging encountered a warning: &#34;/databricks/python/lib/python3.8/site-packages/sklearn/utils/deprecation.py:87: FutureWarning: Function plot_precision_recall_curve is deprecated; Function `plot_precision_recall_curve` is deprecated in 1.0 and will be removed in 1.2. Use one of the class methods: PrecisionRecallDisplay.from_predictions or PrecisionRecallDisplay.from_estimator.&#34;\n",
       "2022/04/18 00:16:31 WARNING mlflow.utils.autologging_utils: MLflow autologging encountered a warning: &#34;/databricks/python/lib/python3.8/site-packages/mlflow/models/signature.py:129: UserWarning: Hint: Inferred schema contains integer column(s). Integer columns in Python cannot represent missing values. If your input data contains missing values at inference time, it will be encoded as floats and will cause a schema enforcement error. The best way to avoid this problem is to infer the model schema based on a realistic data sample (training dataset) that includes missing values. Alternatively, you can declare integer columns as doubles (float64) whenever these columns may have missing values. See `Handling Integers With Missing Values &lt;https://www.mlflow.org/docs/latest/models.html#handling-integers-with-missing-values&gt;`_ for more details.&#34;\n",
       "/databricks/python/lib/python3.8/site-packages/mlflow/models/signature.py:129: UserWarning: Hint: Inferred schema contains integer column(s). Integer columns in Python cannot represent missing values. If your input data contains missing values at inference time, it will be encoded as floats and will cause a schema enforcement error. The best way to avoid this problem is to infer the model schema based on a realistic data sample (training dataset) that includes missing values. Alternatively, you can declare integer columns as doubles (float64) whenever these columns may have missing values. See `Handling Integers With Missing Values &lt;https://www.mlflow.org/docs/latest/models.html#handling-integers-with-missing-values&gt;`_ for more details.\n",
       "  inputs = _infer_schema(model_input)\n",
       "<span class=\"ansi-green-fg\">[I 2022-04-18 00:16:35,313]</span> Trial 3 finished with value: 0.6038114343029087 and parameters: {&#39;Classifier&#39;: &#39;gb&#39;, &#39;n_estimators_option_gb&#39;: 33, &#39;max_depth_option_gb&#39;: 2, &#39;max_features_option_gb&#39;: &#39;sqrt&#39;, &#39;loss_option_gb&#39;: &#39;exponential&#39;, &#39;learning_rate_option_gb&#39;: 1e-08}. Best is trial 2 with value: 0.6168421052631579.\n",
       "/databricks/python/lib/python3.8/site-packages/optuna/distributions.py:545: UserWarning: The distribution is specified by [1e-08, 0.03] and q=0.005, but the range is not divisible by `q`. It will be replaced by [1e-08, 0.02500001].\n",
       "  warnings.warn(\n",
       "2022/04/18 00:16:36 WARNING mlflow.utils.autologging_utils: MLflow autologging encountered a warning: &#34;/databricks/python/lib/python3.8/site-packages/mlflow/models/signature.py:129: UserWarning: Hint: Inferred schema contains integer column(s). Integer columns in Python cannot represent missing values. If your input data contains missing values at inference time, it will be encoded as floats and will cause a schema enforcement error. The best way to avoid this problem is to infer the model schema based on a realistic data sample (training dataset) that includes missing values. Alternatively, you can declare integer columns as doubles (float64) whenever these columns may have missing values. See `Handling Integers With Missing Values &lt;https://www.mlflow.org/docs/latest/models.html#handling-integers-with-missing-values&gt;`_ for more details.&#34;\n",
       "/databricks/python/lib/python3.8/site-packages/mlflow/models/signature.py:129: UserWarning: Hint: Inferred schema contains integer column(s). Integer columns in Python cannot represent missing values. If your input data contains missing values at inference time, it will be encoded as floats and will cause a schema enforcement error. The best way to avoid this problem is to infer the model schema based on a realistic data sample (training dataset) that includes missing values. Alternatively, you can declare integer columns as doubles (float64) whenever these columns may have missing values. See `Handling Integers With Missing Values &lt;https://www.mlflow.org/docs/latest/models.html#handling-integers-with-missing-values&gt;`_ for more details.\n",
       "  inputs = _infer_schema(model_input)\n",
       "<span class=\"ansi-green-fg\">[I 2022-04-18 00:16:40,378]</span> Trial 4 finished with value: 0.5601374570446735 and parameters: {&#39;Classifier&#39;: &#39;lightGBM&#39;, &#39;n_estimators_option_lgbm&#39;: 78, &#39;max_depth_option_lgbm&#39;: 1, &#39;metric_option_lgbm&#39;: &#39;binary_logloss&#39;, &#39;learning_rate_option_lgbm&#39;: 0.00500001, &#39;scale_pos_weight_option_lgbm&#39;: 730, &#39;max_delta_step_option_lgbm&#39;: 64, &#39;tree_learner_option_lgbm&#39;: &#39;serial&#39;}. Best is trial 2 with value: 0.6168421052631579.\n",
       "/databricks/python/lib/python3.8/site-packages/optuna/distributions.py:545: UserWarning: The distribution is specified by [1e-08, 0.03] and q=0.005, but the range is not divisible by `q`. It will be replaced by [1e-08, 0.02500001].\n",
       "  warnings.warn(\n",
       "2022/04/18 00:16:41 WARNING mlflow.utils.autologging_utils: MLflow autologging encountered a warning: &#34;/databricks/python/lib/python3.8/site-packages/mlflow/models/signature.py:129: UserWarning: Hint: Inferred schema contains integer column(s). Integer columns in Python cannot represent missing values. If your input data contains missing values at inference time, it will be encoded as floats and will cause a schema enforcement error. The best way to avoid this problem is to infer the model schema based on a realistic data sample (training dataset) that includes missing values. Alternatively, you can declare integer columns as doubles (float64) whenever these columns may have missing values. See `Handling Integers With Missing Values &lt;https://www.mlflow.org/docs/latest/models.html#handling-integers-with-missing-values&gt;`_ for more details.&#34;\n",
       "/databricks/python/lib/python3.8/site-packages/mlflow/models/signature.py:129: UserWarning: Hint: Inferred schema contains integer column(s). Integer columns in Python cannot represent missing values. If your input data contains missing values at inference time, it will be encoded as floats and will cause a schema enforcement error. The best way to avoid this problem is to infer the model schema based on a realistic data sample (training dataset) that includes missing values. Alternatively, you can declare integer columns as doubles (float64) whenever these columns may have missing values. See `Handling Integers With Missing Values &lt;https://www.mlflow.org/docs/latest/models.html#handling-integers-with-missing-values&gt;`_ for more details.\n",
       "  inputs = _infer_schema(model_input)\n",
       "<span class=\"ansi-green-fg\">[I 2022-04-18 00:16:45,454]</span> Trial 5 finished with value: 0.6004016064257027 and parameters: {&#39;Classifier&#39;: &#39;lightGBM&#39;, &#39;n_estimators_option_lgbm&#39;: 50, &#39;max_depth_option_lgbm&#39;: 3, &#39;metric_option_lgbm&#39;: &#39;average_precision&#39;, &#39;learning_rate_option_lgbm&#39;: 0.00500001, &#39;scale_pos_weight_option_lgbm&#39;: 170, &#39;max_delta_step_option_lgbm&#39;: 93, &#39;tree_learner_option_lgbm&#39;: &#39;data&#39;}. Best is trial 2 with value: 0.6168421052631579.\n",
       "/databricks/python/lib/python3.8/site-packages/optuna/distributions.py:545: UserWarning: The distribution is specified by [1e-08, 0.03] and q=0.005, but the range is not divisible by `q`. It will be replaced by [1e-08, 0.02500001].\n",
       "  warnings.warn(\n",
       "2022/04/18 00:16:49 WARNING mlflow.utils.autologging_utils: MLflow autologging encountered a warning: &#34;/databricks/python/lib/python3.8/site-packages/sklearn/utils/deprecation.py:87: FutureWarning: Function plot_confusion_matrix is deprecated; Function `plot_confusion_matrix` is deprecated in 1.0 and will be removed in 1.2. Use one of the class methods: ConfusionMatrixDisplay.from_predictions or ConfusionMatrixDisplay.from_estimator.&#34;\n",
       "2022/04/18 00:16:50 WARNING mlflow.utils.autologging_utils: MLflow autologging encountered a warning: &#34;/databricks/python/lib/python3.8/site-packages/sklearn/utils/deprecation.py:87: FutureWarning: Function plot_roc_curve is deprecated; Function :func:`plot_roc_curve` is deprecated in 1.0 and will be removed in 1.2. Use one of the class methods: :meth:`sklearn.metric.RocCurveDisplay.from_predictions` or :meth:`sklearn.metric.RocCurveDisplay.from_estimator`.&#34;\n",
       "2022/04/18 00:16:50 WARNING mlflow.utils.autologging_utils: MLflow autologging encountered a warning: &#34;/databricks/python/lib/python3.8/site-packages/sklearn/utils/deprecation.py:87: FutureWarning: Function plot_precision_recall_curve is deprecated; Function `plot_precision_recall_curve` is deprecated in 1.0 and will be removed in 1.2. Use one of the class methods: PrecisionRecallDisplay.from_predictions or PrecisionRecallDisplay.from_estimator.&#34;\n",
       "2022/04/18 00:16:50 WARNING mlflow.utils.autologging_utils: MLflow autologging encountered a warning: &#34;/databricks/python/lib/python3.8/site-packages/mlflow/models/signature.py:129: UserWarning: Hint: Inferred schema contains integer column(s). Integer columns in Python cannot represent missing values. If your input data contains missing values at inference time, it will be encoded as floats and will cause a schema enforcement error. The best way to avoid this problem is to infer the model schema based on a realistic data sample (training dataset) that includes missing values. Alternatively, you can declare integer columns as doubles (float64) whenever these columns may have missing values. See `Handling Integers With Missing Values &lt;https://www.mlflow.org/docs/latest/models.html#handling-integers-with-missing-values&gt;`_ for more details.&#34;\n",
       "&lt;command-1452363639079740&gt;:66: RuntimeWarning: invalid value encountered in true_divide\n",
       "  fscore = (2 * precision * recall) / (precision + recall)\n",
       "/databricks/python/lib/python3.8/site-packages/mlflow/models/signature.py:129: UserWarning: Hint: Inferred schema contains integer column(s). Integer columns in Python cannot represent missing values. If your input data contains missing values at inference time, it will be encoded as floats and will cause a schema enforcement error. The best way to avoid this problem is to infer the model schema based on a realistic data sample (training dataset) that includes missing values. Alternatively, you can declare integer columns as doubles (float64) whenever these columns may have missing values. See `Handling Integers With Missing Values &lt;https://www.mlflow.org/docs/latest/models.html#handling-integers-with-missing-values&gt;`_ for more details.\n",
       "  inputs = _infer_schema(model_input)\n",
       "<span class=\"ansi-yellow-fg\">[W 2022-04-18 00:16:55,102]</span> Trial 6 failed, because the objective function returned nan.\n",
       "/databricks/python/lib/python3.8/site-packages/optuna/distributions.py:545: UserWarning: The distribution is specified by [1e-08, 0.03] and q=0.005, but the range is not divisible by `q`. It will be replaced by [1e-08, 0.02500001].\n",
       "  warnings.warn(\n",
       "2022/04/18 00:16:55 WARNING mlflow.utils.autologging_utils: MLflow autologging encountered a warning: &#34;/databricks/python/lib/python3.8/site-packages/sklearn/utils/deprecation.py:87: FutureWarning: Function plot_confusion_matrix is deprecated; Function `plot_confusion_matrix` is deprecated in 1.0 and will be removed in 1.2. Use one of the class methods: ConfusionMatrixDisplay.from_predictions or ConfusionMatrixDisplay.from_estimator.&#34;\n",
       "2022/04/18 00:16:55 WARNING mlflow.utils.autologging_utils: MLflow autologging encountered a warning: &#34;/databricks/python/lib/python3.8/site-packages/sklearn/utils/deprecation.py:87: FutureWarning: Function plot_roc_curve is deprecated; Function :func:`plot_roc_curve` is deprecated in 1.0 and will be removed in 1.2. Use one of the class methods: :meth:`sklearn.metric.RocCurveDisplay.from_predictions` or :meth:`sklearn.metric.RocCurveDisplay.from_estimator`.&#34;\n",
       "2022/04/18 00:16:55 WARNING mlflow.utils.autologging_utils: MLflow autologging encountered a warning: &#34;/databricks/python/lib/python3.8/site-packages/sklearn/utils/deprecation.py:87: FutureWarning: Function plot_precision_recall_curve is deprecated; Function `plot_precision_recall_curve` is deprecated in 1.0 and will be removed in 1.2. Use one of the class methods: PrecisionRecallDisplay.from_predictions or PrecisionRecallDisplay.from_estimator.&#34;\n",
       "2022/04/18 00:16:56 WARNING mlflow.utils.autologging_utils: MLflow autologging encountered a warning: &#34;/databricks/python/lib/python3.8/site-packages/mlflow/models/signature.py:129: UserWarning: Hint: Inferred schema contains integer column(s). Integer columns in Python cannot represent missing values. If your input data contains missing values at inference time, it will be encoded as floats and will cause a schema enforcement error. The best way to avoid this problem is to infer the model schema based on a realistic data sample (training dataset) that includes missing values. Alternatively, you can declare integer columns as doubles (float64) whenever these columns may have missing values. See `Handling Integers With Missing Values &lt;https://www.mlflow.org/docs/latest/models.html#handling-integers-with-missing-values&gt;`_ for more details.&#34;\n",
       "/databricks/python/lib/python3.8/site-packages/mlflow/models/signature.py:129: UserWarning: Hint: Inferred schema contains integer column(s). Integer columns in Python cannot represent missing values. If your input data contains missing values at inference time, it will be encoded as floats and will cause a schema enforcement error. The best way to avoid this problem is to infer the model schema based on a realistic data sample (training dataset) that includes missing values. Alternatively, you can declare integer columns as doubles (float64) whenever these columns may have missing values. See `Handling Integers With Missing Values &lt;https://www.mlflow.org/docs/latest/models.html#handling-integers-with-missing-values&gt;`_ for more details.\n",
       "  inputs = _infer_schema(model_input)\n",
       "<span class=\"ansi-green-fg\">[I 2022-04-18 00:17:00,367]</span> Trial 7 finished with value: 0.5769603097773475 and parameters: {&#39;Classifier&#39;: &#39;gb&#39;, &#39;n_estimators_option_gb&#39;: 23, &#39;max_depth_option_gb&#39;: 1, &#39;max_features_option_gb&#39;: &#39;sqrt&#39;, &#39;loss_option_gb&#39;: &#39;exponential&#39;, &#39;learning_rate_option_gb&#39;: 0.01000001}. Best is trial 2 with value: 0.6168421052631579.\n",
       "2022/04/18 00:17:00 WARNING mlflow.utils.autologging_utils: You are using an unsupported version of xgboost. If you encounter errors during autologging, try upgrading / downgrading xgboost to a supported version, or try upgrading MLflow.\n",
       "[00:17:00] WARNING: ../src/learner.cc:627: \n",
       "Parameters: { &#34;max_features&#34;, &#34;probability&#34; } might not be used.\n",
       "\n",
       "  This could be a false alarm, with some parameters getting used by language bindings but\n",
       "  then being mistakenly passed down to XGBoost core, or some parameter actually being used\n",
       "  but getting flagged wrongly here. Please open an issue if you find any such cases.\n",
       "\n",
       "\n",
       "2022/04/18 00:17:01 WARNING mlflow.utils.autologging_utils: MLflow autologging encountered a warning: &#34;/databricks/python/lib/python3.8/site-packages/mlflow/models/signature.py:129: UserWarning: Hint: Inferred schema contains integer column(s). Integer columns in Python cannot represent missing values. If your input data contains missing values at inference time, it will be encoded as floats and will cause a schema enforcement error. The best way to avoid this problem is to infer the model schema based on a realistic data sample (training dataset) that includes missing values. Alternatively, you can declare integer columns as doubles (float64) whenever these columns may have missing values. See `Handling Integers With Missing Values &lt;https://www.mlflow.org/docs/latest/models.html#handling-integers-with-missing-values&gt;`_ for more details.&#34;\n",
       "\n",
       "*** WARNING: skipped 4604 bytes of output ***\n",
       "\n",
       "2022/04/18 00:17:16 WARNING mlflow.utils.autologging_utils: MLflow autologging encountered a warning: &#34;/databricks/python/lib/python3.8/site-packages/sklearn/utils/deprecation.py:87: FutureWarning: Function plot_roc_curve is deprecated; Function :func:`plot_roc_curve` is deprecated in 1.0 and will be removed in 1.2. Use one of the class methods: :meth:`sklearn.metric.RocCurveDisplay.from_predictions` or :meth:`sklearn.metric.RocCurveDisplay.from_estimator`.&#34;\n",
       "2022/04/18 00:17:16 WARNING mlflow.utils.autologging_utils: MLflow autologging encountered a warning: &#34;/databricks/python/lib/python3.8/site-packages/sklearn/utils/deprecation.py:87: FutureWarning: Function plot_precision_recall_curve is deprecated; Function `plot_precision_recall_curve` is deprecated in 1.0 and will be removed in 1.2. Use one of the class methods: PrecisionRecallDisplay.from_predictions or PrecisionRecallDisplay.from_estimator.&#34;\n",
       "2022/04/18 00:17:17 WARNING mlflow.utils.autologging_utils: MLflow autologging encountered a warning: &#34;/databricks/python/lib/python3.8/site-packages/mlflow/models/signature.py:129: UserWarning: Hint: Inferred schema contains integer column(s). Integer columns in Python cannot represent missing values. If your input data contains missing values at inference time, it will be encoded as floats and will cause a schema enforcement error. The best way to avoid this problem is to infer the model schema based on a realistic data sample (training dataset) that includes missing values. Alternatively, you can declare integer columns as doubles (float64) whenever these columns may have missing values. See `Handling Integers With Missing Values &lt;https://www.mlflow.org/docs/latest/models.html#handling-integers-with-missing-values&gt;`_ for more details.&#34;\n",
       "/databricks/python/lib/python3.8/site-packages/mlflow/models/signature.py:129: UserWarning: Hint: Inferred schema contains integer column(s). Integer columns in Python cannot represent missing values. If your input data contains missing values at inference time, it will be encoded as floats and will cause a schema enforcement error. The best way to avoid this problem is to infer the model schema based on a realistic data sample (training dataset) that includes missing values. Alternatively, you can declare integer columns as doubles (float64) whenever these columns may have missing values. See `Handling Integers With Missing Values &lt;https://www.mlflow.org/docs/latest/models.html#handling-integers-with-missing-values&gt;`_ for more details.\n",
       "  inputs = _infer_schema(model_input)\n",
       "<span class=\"ansi-green-fg\">[I 2022-04-18 00:17:21,773]</span> Trial 10 finished with value: 0.5985844287158746 and parameters: {&#39;Classifier&#39;: &#39;gb&#39;, &#39;n_estimators_option_gb&#39;: 93, &#39;max_depth_option_gb&#39;: 13, &#39;max_features_option_gb&#39;: &#39;log2&#39;, &#39;loss_option_gb&#39;: &#39;deviance&#39;, &#39;learning_rate_option_gb&#39;: 0.00500001}. Best is trial 2 with value: 0.6168421052631579.\n",
       "/databricks/python/lib/python3.8/site-packages/optuna/distributions.py:545: UserWarning: The distribution is specified by [1e-08, 0.03] and q=0.005, but the range is not divisible by `q`. It will be replaced by [1e-08, 0.02500001].\n",
       "  warnings.warn(\n",
       "2022/04/18 00:17:22 WARNING mlflow.utils.autologging_utils: MLflow autologging encountered a warning: &#34;/databricks/python/lib/python3.8/site-packages/mlflow/models/signature.py:129: UserWarning: Hint: Inferred schema contains integer column(s). Integer columns in Python cannot represent missing values. If your input data contains missing values at inference time, it will be encoded as floats and will cause a schema enforcement error. The best way to avoid this problem is to infer the model schema based on a realistic data sample (training dataset) that includes missing values. Alternatively, you can declare integer columns as doubles (float64) whenever these columns may have missing values. See `Handling Integers With Missing Values &lt;https://www.mlflow.org/docs/latest/models.html#handling-integers-with-missing-values&gt;`_ for more details.&#34;\n",
       "/databricks/python/lib/python3.8/site-packages/mlflow/models/signature.py:129: UserWarning: Hint: Inferred schema contains integer column(s). Integer columns in Python cannot represent missing values. If your input data contains missing values at inference time, it will be encoded as floats and will cause a schema enforcement error. The best way to avoid this problem is to infer the model schema based on a realistic data sample (training dataset) that includes missing values. Alternatively, you can declare integer columns as doubles (float64) whenever these columns may have missing values. See `Handling Integers With Missing Values &lt;https://www.mlflow.org/docs/latest/models.html#handling-integers-with-missing-values&gt;`_ for more details.\n",
       "  inputs = _infer_schema(model_input)\n",
       "<span class=\"ansi-green-fg\">[I 2022-04-18 00:17:26,726]</span> Trial 11 finished with value: 0.619718309859155 and parameters: {&#39;Classifier&#39;: &#39;lightGBM&#39;, &#39;n_estimators_option_lgbm&#39;: 1, &#39;max_depth_option_lgbm&#39;: 18, &#39;metric_option_lgbm&#39;: &#39;average_precision&#39;, &#39;learning_rate_option_lgbm&#39;: 0.02500001, &#39;scale_pos_weight_option_lgbm&#39;: 910, &#39;max_delta_step_option_lgbm&#39;: 2, &#39;tree_learner_option_lgbm&#39;: &#39;feature&#39;}. Best is trial 11 with value: 0.619718309859155.\n",
       "/databricks/python/lib/python3.8/site-packages/optuna/distributions.py:545: UserWarning: The distribution is specified by [1e-08, 0.03] and q=0.005, but the range is not divisible by `q`. It will be replaced by [1e-08, 0.02500001].\n",
       "  warnings.warn(\n",
       "2022/04/18 00:17:27 WARNING mlflow.utils.autologging_utils: MLflow autologging encountered a warning: &#34;/databricks/python/lib/python3.8/site-packages/mlflow/models/signature.py:129: UserWarning: Hint: Inferred schema contains integer column(s). Integer columns in Python cannot represent missing values. If your input data contains missing values at inference time, it will be encoded as floats and will cause a schema enforcement error. The best way to avoid this problem is to infer the model schema based on a realistic data sample (training dataset) that includes missing values. Alternatively, you can declare integer columns as doubles (float64) whenever these columns may have missing values. See `Handling Integers With Missing Values &lt;https://www.mlflow.org/docs/latest/models.html#handling-integers-with-missing-values&gt;`_ for more details.&#34;\n",
       "/databricks/python/lib/python3.8/site-packages/mlflow/models/signature.py:129: UserWarning: Hint: Inferred schema contains integer column(s). Integer columns in Python cannot represent missing values. If your input data contains missing values at inference time, it will be encoded as floats and will cause a schema enforcement error. The best way to avoid this problem is to infer the model schema based on a realistic data sample (training dataset) that includes missing values. Alternatively, you can declare integer columns as doubles (float64) whenever these columns may have missing values. See `Handling Integers With Missing Values &lt;https://www.mlflow.org/docs/latest/models.html#handling-integers-with-missing-values&gt;`_ for more details.\n",
       "  inputs = _infer_schema(model_input)\n",
       "<span class=\"ansi-green-fg\">[I 2022-04-18 00:17:31,601]</span> Trial 12 finished with value: 0.619718309859155 and parameters: {&#39;Classifier&#39;: &#39;lightGBM&#39;, &#39;n_estimators_option_lgbm&#39;: 1, &#39;max_depth_option_lgbm&#39;: 20, &#39;metric_option_lgbm&#39;: &#39;average_precision&#39;, &#39;learning_rate_option_lgbm&#39;: 0.02500001, &#39;scale_pos_weight_option_lgbm&#39;: 1000, &#39;max_delta_step_option_lgbm&#39;: 4, &#39;tree_learner_option_lgbm&#39;: &#39;feature&#39;}. Best is trial 11 with value: 0.619718309859155.\n",
       "/databricks/python/lib/python3.8/site-packages/optuna/distributions.py:545: UserWarning: The distribution is specified by [1e-08, 0.03] and q=0.005, but the range is not divisible by `q`. It will be replaced by [1e-08, 0.02500001].\n",
       "  warnings.warn(\n",
       "2022/04/18 00:17:32 WARNING mlflow.utils.autologging_utils: MLflow autologging encountered a warning: &#34;/databricks/python/lib/python3.8/site-packages/mlflow/models/signature.py:129: UserWarning: Hint: Inferred schema contains integer column(s). Integer columns in Python cannot represent missing values. If your input data contains missing values at inference time, it will be encoded as floats and will cause a schema enforcement error. The best way to avoid this problem is to infer the model schema based on a realistic data sample (training dataset) that includes missing values. Alternatively, you can declare integer columns as doubles (float64) whenever these columns may have missing values. See `Handling Integers With Missing Values &lt;https://www.mlflow.org/docs/latest/models.html#handling-integers-with-missing-values&gt;`_ for more details.&#34;\n",
       "/databricks/python/lib/python3.8/site-packages/mlflow/models/signature.py:129: UserWarning: Hint: Inferred schema contains integer column(s). Integer columns in Python cannot represent missing values. If your input data contains missing values at inference time, it will be encoded as floats and will cause a schema enforcement error. The best way to avoid this problem is to infer the model schema based on a realistic data sample (training dataset) that includes missing values. Alternatively, you can declare integer columns as doubles (float64) whenever these columns may have missing values. See `Handling Integers With Missing Values &lt;https://www.mlflow.org/docs/latest/models.html#handling-integers-with-missing-values&gt;`_ for more details.\n",
       "  inputs = _infer_schema(model_input)\n",
       "<span class=\"ansi-green-fg\">[I 2022-04-18 00:17:36,588]</span> Trial 13 finished with value: 0.619718309859155 and parameters: {&#39;Classifier&#39;: &#39;lightGBM&#39;, &#39;n_estimators_option_lgbm&#39;: 1, &#39;max_depth_option_lgbm&#39;: 18, &#39;metric_option_lgbm&#39;: &#39;mape&#39;, &#39;learning_rate_option_lgbm&#39;: 0.02500001, &#39;scale_pos_weight_option_lgbm&#39;: 1000, &#39;max_delta_step_option_lgbm&#39;: 4, &#39;tree_learner_option_lgbm&#39;: &#39;feature&#39;}. Best is trial 11 with value: 0.619718309859155.\n",
       "/databricks/python/lib/python3.8/site-packages/optuna/distributions.py:545: UserWarning: The distribution is specified by [1e-08, 0.03] and q=0.005, but the range is not divisible by `q`. It will be replaced by [1e-08, 0.02500001].\n",
       "  warnings.warn(\n",
       "2022/04/18 00:17:37 WARNING mlflow.utils.autologging_utils: MLflow autologging encountered a warning: &#34;/databricks/python/lib/python3.8/site-packages/mlflow/models/signature.py:129: UserWarning: Hint: Inferred schema contains integer column(s). Integer columns in Python cannot represent missing values. If your input data contains missing values at inference time, it will be encoded as floats and will cause a schema enforcement error. The best way to avoid this problem is to infer the model schema based on a realistic data sample (training dataset) that includes missing values. Alternatively, you can declare integer columns as doubles (float64) whenever these columns may have missing values. See `Handling Integers With Missing Values &lt;https://www.mlflow.org/docs/latest/models.html#handling-integers-with-missing-values&gt;`_ for more details.&#34;\n",
       "/databricks/python/lib/python3.8/site-packages/mlflow/models/signature.py:129: UserWarning: Hint: Inferred schema contains integer column(s). Integer columns in Python cannot represent missing values. If your input data contains missing values at inference time, it will be encoded as floats and will cause a schema enforcement error. The best way to avoid this problem is to infer the model schema based on a realistic data sample (training dataset) that includes missing values. Alternatively, you can declare integer columns as doubles (float64) whenever these columns may have missing values. See `Handling Integers With Missing Values &lt;https://www.mlflow.org/docs/latest/models.html#handling-integers-with-missing-values&gt;`_ for more details.\n",
       "  inputs = _infer_schema(model_input)\n",
       "<span class=\"ansi-green-fg\">[I 2022-04-18 00:17:41,492]</span> Trial 14 finished with value: 0.4199887703537339 and parameters: {&#39;Classifier&#39;: &#39;lightGBM&#39;, &#39;n_estimators_option_lgbm&#39;: 4, &#39;max_depth_option_lgbm&#39;: 20, &#39;metric_option_lgbm&#39;: &#39;l2&#39;, &#39;learning_rate_option_lgbm&#39;: 0.02500001, &#39;scale_pos_weight_option_lgbm&#39;: 620, &#39;max_delta_step_option_lgbm&#39;: 1, &#39;tree_learner_option_lgbm&#39;: &#39;feature&#39;}. Best is trial 11 with value: 0.619718309859155.\n",
       "/databricks/python/lib/python3.8/site-packages/optuna/distributions.py:545: UserWarning: The distribution is specified by [1e-08, 0.03] and q=0.005, but the range is not divisible by `q`. It will be replaced by [1e-08, 0.02500001].\n",
       "  warnings.warn(\n",
       "2022/04/18 00:17:42 WARNING mlflow.utils.autologging_utils: MLflow autologging encountered a warning: &#34;/databricks/python/lib/python3.8/site-packages/mlflow/models/signature.py:129: UserWarning: Hint: Inferred schema contains integer column(s). Integer columns in Python cannot represent missing values. If your input data contains missing values at inference time, it will be encoded as floats and will cause a schema enforcement error. The best way to avoid this problem is to infer the model schema based on a realistic data sample (training dataset) that includes missing values. Alternatively, you can declare integer columns as doubles (float64) whenever these columns may have missing values. See `Handling Integers With Missing Values &lt;https://www.mlflow.org/docs/latest/models.html#handling-integers-with-missing-values&gt;`_ for more details.&#34;\n",
       "/databricks/python/lib/python3.8/site-packages/mlflow/models/signature.py:129: UserWarning: Hint: Inferred schema contains integer column(s). Integer columns in Python cannot represent missing values. If your input data contains missing values at inference time, it will be encoded as floats and will cause a schema enforcement error. The best way to avoid this problem is to infer the model schema based on a realistic data sample (training dataset) that includes missing values. Alternatively, you can declare integer columns as doubles (float64) whenever these columns may have missing values. See `Handling Integers With Missing Values &lt;https://www.mlflow.org/docs/latest/models.html#handling-integers-with-missing-values&gt;`_ for more details.\n",
       "  inputs = _infer_schema(model_input)\n",
       "<span class=\"ansi-green-fg\">[I 2022-04-18 00:17:46,537]</span> Trial 15 finished with value: 0.6150178784266984 and parameters: {&#39;Classifier&#39;: &#39;lightGBM&#39;, &#39;n_estimators_option_lgbm&#39;: 29, &#39;max_depth_option_lgbm&#39;: 6, &#39;metric_option_lgbm&#39;: &#39;huber&#39;, &#39;learning_rate_option_lgbm&#39;: 0.020000010000000002, &#39;scale_pos_weight_option_lgbm&#39;: 870, &#39;max_delta_step_option_lgbm&#39;: 32, &#39;tree_learner_option_lgbm&#39;: &#39;voting&#39;}. Best is trial 11 with value: 0.619718309859155.\n",
       "/databricks/python/lib/python3.8/site-packages/optuna/distributions.py:545: UserWarning: The distribution is specified by [1e-08, 0.03] and q=0.005, but the range is not divisible by `q`. It will be replaced by [1e-08, 0.02500001].\n",
       "  warnings.warn(\n",
       "2022/04/18 00:17:47 WARNING mlflow.utils.autologging_utils: MLflow autologging encountered a warning: &#34;/databricks/python/lib/python3.8/site-packages/mlflow/models/signature.py:129: UserWarning: Hint: Inferred schema contains integer column(s). Integer columns in Python cannot represent missing values. If your input data contains missing values at inference time, it will be encoded as floats and will cause a schema enforcement error. The best way to avoid this problem is to infer the model schema based on a realistic data sample (training dataset) that includes missing values. Alternatively, you can declare integer columns as doubles (float64) whenever these columns may have missing values. See `Handling Integers With Missing Values &lt;https://www.mlflow.org/docs/latest/models.html#handling-integers-with-missing-values&gt;`_ for more details.&#34;\n",
       "/databricks/python/lib/python3.8/site-packages/mlflow/models/signature.py:129: UserWarning: Hint: Inferred schema contains integer column(s). Integer columns in Python cannot represent missing values. If your input data contains missing values at inference time, it will be encoded as floats and will cause a schema enforcement error. The best way to avoid this problem is to infer the model schema based on a realistic data sample (training dataset) that includes missing values. Alternatively, you can declare integer columns as doubles (float64) whenever these columns may have missing values. See `Handling Integers With Missing Values &lt;https://www.mlflow.org/docs/latest/models.html#handling-integers-with-missing-values&gt;`_ for more details.\n",
       "  inputs = _infer_schema(model_input)\n",
       "<span class=\"ansi-green-fg\">[I 2022-04-18 00:17:51,505]</span> Trial 16 finished with value: 0.6173708920187794 and parameters: {&#39;Classifier&#39;: &#39;lightGBM&#39;, &#39;n_estimators_option_lgbm&#39;: 26, &#39;max_depth_option_lgbm&#39;: 6, &#39;metric_option_lgbm&#39;: &#39;cross_entropy&#39;, &#39;learning_rate_option_lgbm&#39;: 0.01500001, &#39;scale_pos_weight_option_lgbm&#39;: 390, &#39;max_delta_step_option_lgbm&#39;: 26, &#39;tree_learner_option_lgbm&#39;: &#39;feature&#39;}. Best is trial 11 with value: 0.619718309859155.\n",
       "/databricks/python/lib/python3.8/site-packages/optuna/distributions.py:545: UserWarning: The distribution is specified by [1e-08, 0.03] and q=0.005, but the range is not divisible by `q`. It will be replaced by [1e-08, 0.02500001].\n",
       "  warnings.warn(\n",
       "2022/04/18 00:17:52 WARNING mlflow.utils.autologging_utils: MLflow autologging encountered a warning: &#34;/databricks/python/lib/python3.8/site-packages/mlflow/models/signature.py:129: UserWarning: Hint: Inferred schema contains integer column(s). Integer columns in Python cannot represent missing values. If your input data contains missing values at inference time, it will be encoded as floats and will cause a schema enforcement error. The best way to avoid this problem is to infer the model schema based on a realistic data sample (training dataset) that includes missing values. Alternatively, you can declare integer columns as doubles (float64) whenever these columns may have missing values. See `Handling Integers With Missing Values &lt;https://www.mlflow.org/docs/latest/models.html#handling-integers-with-missing-values&gt;`_ for more details.&#34;\n",
       "/databricks/python/lib/python3.8/site-packages/mlflow/models/signature.py:129: UserWarning: Hint: Inferred schema contains integer column(s). Integer columns in Python cannot represent missing values. If your input data contains missing values at inference time, it will be encoded as floats and will cause a schema enforcement error. The best way to avoid this problem is to infer the model schema based on a realistic data sample (training dataset) that includes missing values. Alternatively, you can declare integer columns as doubles (float64) whenever these columns may have missing values. See `Handling Integers With Missing Values &lt;https://www.mlflow.org/docs/latest/models.html#handling-integers-with-missing-values&gt;`_ for more details.\n",
       "  inputs = _infer_schema(model_input)\n",
       "<span class=\"ansi-green-fg\">[I 2022-04-18 00:17:56,648]</span> Trial 17 finished with value: 0.5738317757009346 and parameters: {&#39;Classifier&#39;: &#39;lightGBM&#39;, &#39;n_estimators_option_lgbm&#39;: 23, &#39;max_depth_option_lgbm&#39;: 2, &#39;metric_option_lgbm&#39;: &#39;cross_entropy_lambda&#39;, &#39;learning_rate_option_lgbm&#39;: 0.01500001, &#39;scale_pos_weight_option_lgbm&#39;: 750, &#39;max_delta_step_option_lgbm&#39;: 25, &#39;tree_learner_option_lgbm&#39;: &#39;feature&#39;}. Best is trial 11 with value: 0.619718309859155.\n",
       "/databricks/python/lib/python3.8/site-packages/optuna/distributions.py:545: UserWarning: The distribution is specified by [1e-08, 0.03] and q=0.005, but the range is not divisible by `q`. It will be replaced by [1e-08, 0.02500001].\n",
       "  warnings.warn(\n",
       "2022/04/18 00:17:57 WARNING mlflow.utils.autologging_utils: MLflow autologging encountered a warning: &#34;/databricks/python/lib/python3.8/site-packages/mlflow/models/signature.py:129: UserWarning: Hint: Inferred schema contains integer column(s). Integer columns in Python cannot represent missing values. If your input data contains missing values at inference time, it will be encoded as floats and will cause a schema enforcement error. The best way to avoid this problem is to infer the model schema based on a realistic data sample (training dataset) that includes missing values. Alternatively, you can declare integer columns as doubles (float64) whenever these columns may have missing values. See `Handling Integers With Missing Values &lt;https://www.mlflow.org/docs/latest/models.html#handling-integers-with-missing-values&gt;`_ for more details.&#34;\n",
       "/databricks/python/lib/python3.8/site-packages/mlflow/models/signature.py:129: UserWarning: Hint: Inferred schema contains integer column(s). Integer columns in Python cannot represent missing values. If your input data contains missing values at inference time, it will be encoded as floats and will cause a schema enforcement error. The best way to avoid this problem is to infer the model schema based on a realistic data sample (training dataset) that includes missing values. Alternatively, you can declare integer columns as doubles (float64) whenever these columns may have missing values. See `Handling Integers With Missing Values &lt;https://www.mlflow.org/docs/latest/models.html#handling-integers-with-missing-values&gt;`_ for more details.\n",
       "  inputs = _infer_schema(model_input)\n",
       "<span class=\"ansi-green-fg\">[I 2022-04-18 00:18:01,655]</span> Trial 18 finished with value: 0.619718309859155 and parameters: {&#39;Classifier&#39;: &#39;lightGBM&#39;, &#39;n_estimators_option_lgbm&#39;: 1, &#39;max_depth_option_lgbm&#39;: 11, &#39;metric_option_lgbm&#39;: &#39;mape&#39;, &#39;learning_rate_option_lgbm&#39;: 0.02500001, &#39;scale_pos_weight_option_lgbm&#39;: 990, &#39;max_delta_step_option_lgbm&#39;: 16, &#39;tree_learner_option_lgbm&#39;: &#39;feature&#39;}. Best is trial 11 with value: 0.619718309859155.\n",
       "/databricks/python/lib/python3.8/site-packages/optuna/distributions.py:545: UserWarning: The distribution is specified by [1e-08, 0.03] and q=0.005, but the range is not divisible by `q`. It will be replaced by [1e-08, 0.02500001].\n",
       "  warnings.warn(\n",
       "2022/04/18 00:18:02 WARNING mlflow.utils.autologging_utils: MLflow autologging encountered a warning: &#34;/databricks/python/lib/python3.8/site-packages/mlflow/models/signature.py:129: UserWarning: Hint: Inferred schema contains integer column(s). Integer columns in Python cannot represent missing values. If your input data contains missing values at inference time, it will be encoded as floats and will cause a schema enforcement error. The best way to avoid this problem is to infer the model schema based on a realistic data sample (training dataset) that includes missing values. Alternatively, you can declare integer columns as doubles (float64) whenever these columns may have missing values. See `Handling Integers With Missing Values &lt;https://www.mlflow.org/docs/latest/models.html#handling-integers-with-missing-values&gt;`_ for more details.&#34;\n",
       "/databricks/python/lib/python3.8/site-packages/mlflow/models/signature.py:129: UserWarning: Hint: Inferred schema contains integer column(s). Integer columns in Python cannot represent missing values. If your input data contains missing values at inference time, it will be encoded as floats and will cause a schema enforcement error. The best way to avoid this problem is to infer the model schema based on a realistic data sample (training dataset) that includes missing values. Alternatively, you can declare integer columns as doubles (float64) whenever these columns may have missing values. See `Handling Integers With Missing Values &lt;https://www.mlflow.org/docs/latest/models.html#handling-integers-with-missing-values&gt;`_ for more details.\n",
       "  inputs = _infer_schema(model_input)\n",
       "<span class=\"ansi-green-fg\">[I 2022-04-18 00:18:06,770]</span> Trial 19 finished with value: 0.615546218487395 and parameters: {&#39;Classifier&#39;: &#39;lightGBM&#39;, &#39;n_estimators_option_lgbm&#39;: 46, &#39;max_depth_option_lgbm&#39;: 9, &#39;metric_option_lgbm&#39;: &#39;mape&#39;, &#39;learning_rate_option_lgbm&#39;: 0.020000010000000002, &#39;scale_pos_weight_option_lgbm&#39;: 420, &#39;max_delta_step_option_lgbm&#39;: 44, &#39;tree_learner_option_lgbm&#39;: &#39;data&#39;}. Best is trial 11 with value: 0.619718309859155.\n",
       "2022/04/18 00:18:07 INFO mlflow.utils.autologging_utils: Created MLflow autologging run with ID &#39;1770d7bb58bd442a9e4fb7c37374a01e&#39;, which will track hyperparameters, performance metrics, model artifacts, and lineage information for the current lightgbm workflow\n",
       "2022/04/18 00:18:07 WARNING mlflow.utils.autologging_utils: MLflow autologging encountered a warning: &#34;/databricks/python/lib/python3.8/site-packages/mlflow/models/signature.py:129: UserWarning: Hint: Inferred schema contains integer column(s). Integer columns in Python cannot represent missing values. If your input data contains missing values at inference time, it will be encoded as floats and will cause a schema enforcement error. The best way to avoid this problem is to infer the model schema based on a realistic data sample (training dataset) that includes missing values. Alternatively, you can declare integer columns as doubles (float64) whenever these columns may have missing values. See `Handling Integers With Missing Values &lt;https://www.mlflow.org/docs/latest/models.html#handling-integers-with-missing-values&gt;`_ for more details.&#34;\n",
       "</div>"
      ]
     },
     "metadata": {
      "application/vnd.databricks.v1+output": {
       "addedWidgets": {},
       "arguments": {},
       "data": "<div class=\"ansiout\"><span class=\"ansi-green-fg\">[I 2022-04-18 00:16:12,805]</span> A new study created in memory with name: no-name-18bab135-cb09-444b-b9ef-1cdca376dbf7\n/databricks/python/lib/python3.8/site-packages/optuna/distributions.py:545: UserWarning: The distribution is specified by [1e-08, 0.03] and q=0.005, but the range is not divisible by `q`. It will be replaced by [1e-08, 0.02500001].\n  warnings.warn(\n2022/04/18 00:16:13 WARNING mlflow.utils.autologging_utils: MLflow autologging encountered a warning: &#34;/databricks/python/lib/python3.8/site-packages/sklearn/utils/deprecation.py:87: FutureWarning: Function plot_confusion_matrix is deprecated; Function `plot_confusion_matrix` is deprecated in 1.0 and will be removed in 1.2. Use one of the class methods: ConfusionMatrixDisplay.from_predictions or ConfusionMatrixDisplay.from_estimator.&#34;\n2022/04/18 00:16:13 WARNING mlflow.utils.autologging_utils: MLflow autologging encountered a warning: &#34;/databricks/python/lib/python3.8/site-packages/sklearn/utils/deprecation.py:87: FutureWarning: Function plot_roc_curve is deprecated; Function :func:`plot_roc_curve` is deprecated in 1.0 and will be removed in 1.2. Use one of the class methods: :meth:`sklearn.metric.RocCurveDisplay.from_predictions` or :meth:`sklearn.metric.RocCurveDisplay.from_estimator`.&#34;\n2022/04/18 00:16:14 WARNING mlflow.utils.autologging_utils: MLflow autologging encountered a warning: &#34;/databricks/python/lib/python3.8/site-packages/sklearn/utils/deprecation.py:87: FutureWarning: Function plot_precision_recall_curve is deprecated; Function `plot_precision_recall_curve` is deprecated in 1.0 and will be removed in 1.2. Use one of the class methods: PrecisionRecallDisplay.from_predictions or PrecisionRecallDisplay.from_estimator.&#34;\n2022/04/18 00:16:14 WARNING mlflow.utils.autologging_utils: MLflow autologging encountered a warning: &#34;/databricks/python/lib/python3.8/site-packages/mlflow/models/signature.py:129: UserWarning: Hint: Inferred schema contains integer column(s). Integer columns in Python cannot represent missing values. If your input data contains missing values at inference time, it will be encoded as floats and will cause a schema enforcement error. The best way to avoid this problem is to infer the model schema based on a realistic data sample (training dataset) that includes missing values. Alternatively, you can declare integer columns as doubles (float64) whenever these columns may have missing values. See `Handling Integers With Missing Values &lt;https://www.mlflow.org/docs/latest/models.html#handling-integers-with-missing-values&gt;`_ for more details.&#34;\n/databricks/python/lib/python3.8/site-packages/mlflow/models/signature.py:129: UserWarning: Hint: Inferred schema contains integer column(s). Integer columns in Python cannot represent missing values. If your input data contains missing values at inference time, it will be encoded as floats and will cause a schema enforcement error. The best way to avoid this problem is to infer the model schema based on a realistic data sample (training dataset) that includes missing values. Alternatively, you can declare integer columns as doubles (float64) whenever these columns may have missing values. See `Handling Integers With Missing Values &lt;https://www.mlflow.org/docs/latest/models.html#handling-integers-with-missing-values&gt;`_ for more details.\n  inputs = _infer_schema(model_input)\n<span class=\"ansi-green-fg\">[I 2022-04-18 00:16:19,674]</span> Trial 0 finished with value: 0.5769603097773475 and parameters: {&#39;Classifier&#39;: &#39;gb&#39;, &#39;n_estimators_option_gb&#39;: 60, &#39;max_depth_option_gb&#39;: 1, &#39;max_features_option_gb&#39;: &#39;log2&#39;, &#39;loss_option_gb&#39;: &#39;exponential&#39;, &#39;learning_rate_option_gb&#39;: 1e-08}. Best is trial 0 with value: 0.5769603097773475.\n2022/04/18 00:16:19 WARNING mlflow.utils.autologging_utils: You are using an unsupported version of xgboost. If you encounter errors during autologging, try upgrading / downgrading xgboost to a supported version, or try upgrading MLflow.\n[00:16:20] WARNING: ../src/learner.cc:627: \nParameters: { &#34;max_features&#34;, &#34;probability&#34; } might not be used.\n\n  This could be a false alarm, with some parameters getting used by language bindings but\n  then being mistakenly passed down to XGBoost core, or some parameter actually being used\n  but getting flagged wrongly here. Please open an issue if you find any such cases.\n\n\n2022/04/18 00:16:20 WARNING mlflow.utils.autologging_utils: MLflow autologging encountered a warning: &#34;/databricks/python/lib/python3.8/site-packages/mlflow/models/signature.py:129: UserWarning: Hint: Inferred schema contains integer column(s). Integer columns in Python cannot represent missing values. If your input data contains missing values at inference time, it will be encoded as floats and will cause a schema enforcement error. The best way to avoid this problem is to infer the model schema based on a realistic data sample (training dataset) that includes missing values. Alternatively, you can declare integer columns as doubles (float64) whenever these columns may have missing values. See `Handling Integers With Missing Values &lt;https://www.mlflow.org/docs/latest/models.html#handling-integers-with-missing-values&gt;`_ for more details.&#34;\n/databricks/python/lib/python3.8/site-packages/mlflow/models/signature.py:129: UserWarning: Hint: Inferred schema contains integer column(s). Integer columns in Python cannot represent missing values. If your input data contains missing values at inference time, it will be encoded as floats and will cause a schema enforcement error. The best way to avoid this problem is to infer the model schema based on a realistic data sample (training dataset) that includes missing values. Alternatively, you can declare integer columns as doubles (float64) whenever these columns may have missing values. See `Handling Integers With Missing Values &lt;https://www.mlflow.org/docs/latest/models.html#handling-integers-with-missing-values&gt;`_ for more details.\n  inputs = _infer_schema(model_input)\n<span class=\"ansi-green-fg\">[I 2022-04-18 00:16:24,949]</span> Trial 1 finished with value: 0.5601374570446735 and parameters: {&#39;Classifier&#39;: &#39;xgb&#39;, &#39;n_estimators_option_xgb&#39;: 19, &#39;max_features_option_xgb&#39;: 1, &#39;max_depth_option_xgb&#39;: 2, &#39;eval_metric_option_xgb&#39;: &#39;error@0.3&#39;, &#39;learning_rate_option_xgb&#39;: 0.015, &#39;tree_method_option_xgb&#39;: &#39;auto&#39;, &#39;scale_pos_weight_option_xgb&#39;: 50, &#39;max_delta_step_option_xgb&#39;: 61}. Best is trial 0 with value: 0.5769603097773475.\n/databricks/python/lib/python3.8/site-packages/optuna/distributions.py:545: UserWarning: The distribution is specified by [1e-08, 0.03] and q=0.005, but the range is not divisible by `q`. It will be replaced by [1e-08, 0.02500001].\n  warnings.warn(\n2022/04/18 00:16:26 WARNING mlflow.utils.autologging_utils: MLflow autologging encountered a warning: &#34;/databricks/python/lib/python3.8/site-packages/mlflow/models/signature.py:129: UserWarning: Hint: Inferred schema contains integer column(s). Integer columns in Python cannot represent missing values. If your input data contains missing values at inference time, it will be encoded as floats and will cause a schema enforcement error. The best way to avoid this problem is to infer the model schema based on a realistic data sample (training dataset) that includes missing values. Alternatively, you can declare integer columns as doubles (float64) whenever these columns may have missing values. See `Handling Integers With Missing Values &lt;https://www.mlflow.org/docs/latest/models.html#handling-integers-with-missing-values&gt;`_ for more details.&#34;\n/databricks/python/lib/python3.8/site-packages/mlflow/models/signature.py:129: UserWarning: Hint: Inferred schema contains integer column(s). Integer columns in Python cannot represent missing values. If your input data contains missing values at inference time, it will be encoded as floats and will cause a schema enforcement error. The best way to avoid this problem is to infer the model schema based on a realistic data sample (training dataset) that includes missing values. Alternatively, you can declare integer columns as doubles (float64) whenever these columns may have missing values. See `Handling Integers With Missing Values &lt;https://www.mlflow.org/docs/latest/models.html#handling-integers-with-missing-values&gt;`_ for more details.\n  inputs = _infer_schema(model_input)\n<span class=\"ansi-green-fg\">[I 2022-04-18 00:16:29,991]</span> Trial 2 finished with value: 0.6168421052631579 and parameters: {&#39;Classifier&#39;: &#39;lightGBM&#39;, &#39;n_estimators_option_lgbm&#39;: 97, &#39;max_depth_option_lgbm&#39;: 10, &#39;metric_option_lgbm&#39;: &#39;average_precision&#39;, &#39;learning_rate_option_lgbm&#39;: 0.00500001, &#39;scale_pos_weight_option_lgbm&#39;: 970, &#39;max_delta_step_option_lgbm&#39;: 78, &#39;tree_learner_option_lgbm&#39;: &#39;serial&#39;}. Best is trial 2 with value: 0.6168421052631579.\n/databricks/python/lib/python3.8/site-packages/optuna/distributions.py:545: UserWarning: The distribution is specified by [1e-08, 0.03] and q=0.005, but the range is not divisible by `q`. It will be replaced by [1e-08, 0.02500001].\n  warnings.warn(\n2022/04/18 00:16:30 WARNING mlflow.utils.autologging_utils: MLflow autologging encountered a warning: &#34;/databricks/python/lib/python3.8/site-packages/sklearn/utils/deprecation.py:87: FutureWarning: Function plot_confusion_matrix is deprecated; Function `plot_confusion_matrix` is deprecated in 1.0 and will be removed in 1.2. Use one of the class methods: ConfusionMatrixDisplay.from_predictions or ConfusionMatrixDisplay.from_estimator.&#34;\n2022/04/18 00:16:30 WARNING mlflow.utils.autologging_utils: MLflow autologging encountered a warning: &#34;/databricks/python/lib/python3.8/site-packages/sklearn/utils/deprecation.py:87: FutureWarning: Function plot_roc_curve is deprecated; Function :func:`plot_roc_curve` is deprecated in 1.0 and will be removed in 1.2. Use one of the class methods: :meth:`sklearn.metric.RocCurveDisplay.from_predictions` or :meth:`sklearn.metric.RocCurveDisplay.from_estimator`.&#34;\n2022/04/18 00:16:30 WARNING mlflow.utils.autologging_utils: MLflow autologging encountered a warning: &#34;/databricks/python/lib/python3.8/site-packages/sklearn/utils/deprecation.py:87: FutureWarning: Function plot_precision_recall_curve is deprecated; Function `plot_precision_recall_curve` is deprecated in 1.0 and will be removed in 1.2. Use one of the class methods: PrecisionRecallDisplay.from_predictions or PrecisionRecallDisplay.from_estimator.&#34;\n2022/04/18 00:16:31 WARNING mlflow.utils.autologging_utils: MLflow autologging encountered a warning: &#34;/databricks/python/lib/python3.8/site-packages/mlflow/models/signature.py:129: UserWarning: Hint: Inferred schema contains integer column(s). Integer columns in Python cannot represent missing values. If your input data contains missing values at inference time, it will be encoded as floats and will cause a schema enforcement error. The best way to avoid this problem is to infer the model schema based on a realistic data sample (training dataset) that includes missing values. Alternatively, you can declare integer columns as doubles (float64) whenever these columns may have missing values. See `Handling Integers With Missing Values &lt;https://www.mlflow.org/docs/latest/models.html#handling-integers-with-missing-values&gt;`_ for more details.&#34;\n/databricks/python/lib/python3.8/site-packages/mlflow/models/signature.py:129: UserWarning: Hint: Inferred schema contains integer column(s). Integer columns in Python cannot represent missing values. If your input data contains missing values at inference time, it will be encoded as floats and will cause a schema enforcement error. The best way to avoid this problem is to infer the model schema based on a realistic data sample (training dataset) that includes missing values. Alternatively, you can declare integer columns as doubles (float64) whenever these columns may have missing values. See `Handling Integers With Missing Values &lt;https://www.mlflow.org/docs/latest/models.html#handling-integers-with-missing-values&gt;`_ for more details.\n  inputs = _infer_schema(model_input)\n<span class=\"ansi-green-fg\">[I 2022-04-18 00:16:35,313]</span> Trial 3 finished with value: 0.6038114343029087 and parameters: {&#39;Classifier&#39;: &#39;gb&#39;, &#39;n_estimators_option_gb&#39;: 33, &#39;max_depth_option_gb&#39;: 2, &#39;max_features_option_gb&#39;: &#39;sqrt&#39;, &#39;loss_option_gb&#39;: &#39;exponential&#39;, &#39;learning_rate_option_gb&#39;: 1e-08}. Best is trial 2 with value: 0.6168421052631579.\n/databricks/python/lib/python3.8/site-packages/optuna/distributions.py:545: UserWarning: The distribution is specified by [1e-08, 0.03] and q=0.005, but the range is not divisible by `q`. It will be replaced by [1e-08, 0.02500001].\n  warnings.warn(\n2022/04/18 00:16:36 WARNING mlflow.utils.autologging_utils: MLflow autologging encountered a warning: &#34;/databricks/python/lib/python3.8/site-packages/mlflow/models/signature.py:129: UserWarning: Hint: Inferred schema contains integer column(s). Integer columns in Python cannot represent missing values. If your input data contains missing values at inference time, it will be encoded as floats and will cause a schema enforcement error. The best way to avoid this problem is to infer the model schema based on a realistic data sample (training dataset) that includes missing values. Alternatively, you can declare integer columns as doubles (float64) whenever these columns may have missing values. See `Handling Integers With Missing Values &lt;https://www.mlflow.org/docs/latest/models.html#handling-integers-with-missing-values&gt;`_ for more details.&#34;\n/databricks/python/lib/python3.8/site-packages/mlflow/models/signature.py:129: UserWarning: Hint: Inferred schema contains integer column(s). Integer columns in Python cannot represent missing values. If your input data contains missing values at inference time, it will be encoded as floats and will cause a schema enforcement error. The best way to avoid this problem is to infer the model schema based on a realistic data sample (training dataset) that includes missing values. Alternatively, you can declare integer columns as doubles (float64) whenever these columns may have missing values. See `Handling Integers With Missing Values &lt;https://www.mlflow.org/docs/latest/models.html#handling-integers-with-missing-values&gt;`_ for more details.\n  inputs = _infer_schema(model_input)\n<span class=\"ansi-green-fg\">[I 2022-04-18 00:16:40,378]</span> Trial 4 finished with value: 0.5601374570446735 and parameters: {&#39;Classifier&#39;: &#39;lightGBM&#39;, &#39;n_estimators_option_lgbm&#39;: 78, &#39;max_depth_option_lgbm&#39;: 1, &#39;metric_option_lgbm&#39;: &#39;binary_logloss&#39;, &#39;learning_rate_option_lgbm&#39;: 0.00500001, &#39;scale_pos_weight_option_lgbm&#39;: 730, &#39;max_delta_step_option_lgbm&#39;: 64, &#39;tree_learner_option_lgbm&#39;: &#39;serial&#39;}. Best is trial 2 with value: 0.6168421052631579.\n/databricks/python/lib/python3.8/site-packages/optuna/distributions.py:545: UserWarning: The distribution is specified by [1e-08, 0.03] and q=0.005, but the range is not divisible by `q`. It will be replaced by [1e-08, 0.02500001].\n  warnings.warn(\n2022/04/18 00:16:41 WARNING mlflow.utils.autologging_utils: MLflow autologging encountered a warning: &#34;/databricks/python/lib/python3.8/site-packages/mlflow/models/signature.py:129: UserWarning: Hint: Inferred schema contains integer column(s). Integer columns in Python cannot represent missing values. If your input data contains missing values at inference time, it will be encoded as floats and will cause a schema enforcement error. The best way to avoid this problem is to infer the model schema based on a realistic data sample (training dataset) that includes missing values. Alternatively, you can declare integer columns as doubles (float64) whenever these columns may have missing values. See `Handling Integers With Missing Values &lt;https://www.mlflow.org/docs/latest/models.html#handling-integers-with-missing-values&gt;`_ for more details.&#34;\n/databricks/python/lib/python3.8/site-packages/mlflow/models/signature.py:129: UserWarning: Hint: Inferred schema contains integer column(s). Integer columns in Python cannot represent missing values. If your input data contains missing values at inference time, it will be encoded as floats and will cause a schema enforcement error. The best way to avoid this problem is to infer the model schema based on a realistic data sample (training dataset) that includes missing values. Alternatively, you can declare integer columns as doubles (float64) whenever these columns may have missing values. See `Handling Integers With Missing Values &lt;https://www.mlflow.org/docs/latest/models.html#handling-integers-with-missing-values&gt;`_ for more details.\n  inputs = _infer_schema(model_input)\n<span class=\"ansi-green-fg\">[I 2022-04-18 00:16:45,454]</span> Trial 5 finished with value: 0.6004016064257027 and parameters: {&#39;Classifier&#39;: &#39;lightGBM&#39;, &#39;n_estimators_option_lgbm&#39;: 50, &#39;max_depth_option_lgbm&#39;: 3, &#39;metric_option_lgbm&#39;: &#39;average_precision&#39;, &#39;learning_rate_option_lgbm&#39;: 0.00500001, &#39;scale_pos_weight_option_lgbm&#39;: 170, &#39;max_delta_step_option_lgbm&#39;: 93, &#39;tree_learner_option_lgbm&#39;: &#39;data&#39;}. Best is trial 2 with value: 0.6168421052631579.\n/databricks/python/lib/python3.8/site-packages/optuna/distributions.py:545: UserWarning: The distribution is specified by [1e-08, 0.03] and q=0.005, but the range is not divisible by `q`. It will be replaced by [1e-08, 0.02500001].\n  warnings.warn(\n2022/04/18 00:16:49 WARNING mlflow.utils.autologging_utils: MLflow autologging encountered a warning: &#34;/databricks/python/lib/python3.8/site-packages/sklearn/utils/deprecation.py:87: FutureWarning: Function plot_confusion_matrix is deprecated; Function `plot_confusion_matrix` is deprecated in 1.0 and will be removed in 1.2. Use one of the class methods: ConfusionMatrixDisplay.from_predictions or ConfusionMatrixDisplay.from_estimator.&#34;\n2022/04/18 00:16:50 WARNING mlflow.utils.autologging_utils: MLflow autologging encountered a warning: &#34;/databricks/python/lib/python3.8/site-packages/sklearn/utils/deprecation.py:87: FutureWarning: Function plot_roc_curve is deprecated; Function :func:`plot_roc_curve` is deprecated in 1.0 and will be removed in 1.2. Use one of the class methods: :meth:`sklearn.metric.RocCurveDisplay.from_predictions` or :meth:`sklearn.metric.RocCurveDisplay.from_estimator`.&#34;\n2022/04/18 00:16:50 WARNING mlflow.utils.autologging_utils: MLflow autologging encountered a warning: &#34;/databricks/python/lib/python3.8/site-packages/sklearn/utils/deprecation.py:87: FutureWarning: Function plot_precision_recall_curve is deprecated; Function `plot_precision_recall_curve` is deprecated in 1.0 and will be removed in 1.2. Use one of the class methods: PrecisionRecallDisplay.from_predictions or PrecisionRecallDisplay.from_estimator.&#34;\n2022/04/18 00:16:50 WARNING mlflow.utils.autologging_utils: MLflow autologging encountered a warning: &#34;/databricks/python/lib/python3.8/site-packages/mlflow/models/signature.py:129: UserWarning: Hint: Inferred schema contains integer column(s). Integer columns in Python cannot represent missing values. If your input data contains missing values at inference time, it will be encoded as floats and will cause a schema enforcement error. The best way to avoid this problem is to infer the model schema based on a realistic data sample (training dataset) that includes missing values. Alternatively, you can declare integer columns as doubles (float64) whenever these columns may have missing values. See `Handling Integers With Missing Values &lt;https://www.mlflow.org/docs/latest/models.html#handling-integers-with-missing-values&gt;`_ for more details.&#34;\n&lt;command-1452363639079740&gt;:66: RuntimeWarning: invalid value encountered in true_divide\n  fscore = (2 * precision * recall) / (precision + recall)\n/databricks/python/lib/python3.8/site-packages/mlflow/models/signature.py:129: UserWarning: Hint: Inferred schema contains integer column(s). Integer columns in Python cannot represent missing values. If your input data contains missing values at inference time, it will be encoded as floats and will cause a schema enforcement error. The best way to avoid this problem is to infer the model schema based on a realistic data sample (training dataset) that includes missing values. Alternatively, you can declare integer columns as doubles (float64) whenever these columns may have missing values. See `Handling Integers With Missing Values &lt;https://www.mlflow.org/docs/latest/models.html#handling-integers-with-missing-values&gt;`_ for more details.\n  inputs = _infer_schema(model_input)\n<span class=\"ansi-yellow-fg\">[W 2022-04-18 00:16:55,102]</span> Trial 6 failed, because the objective function returned nan.\n/databricks/python/lib/python3.8/site-packages/optuna/distributions.py:545: UserWarning: The distribution is specified by [1e-08, 0.03] and q=0.005, but the range is not divisible by `q`. It will be replaced by [1e-08, 0.02500001].\n  warnings.warn(\n2022/04/18 00:16:55 WARNING mlflow.utils.autologging_utils: MLflow autologging encountered a warning: &#34;/databricks/python/lib/python3.8/site-packages/sklearn/utils/deprecation.py:87: FutureWarning: Function plot_confusion_matrix is deprecated; Function `plot_confusion_matrix` is deprecated in 1.0 and will be removed in 1.2. Use one of the class methods: ConfusionMatrixDisplay.from_predictions or ConfusionMatrixDisplay.from_estimator.&#34;\n2022/04/18 00:16:55 WARNING mlflow.utils.autologging_utils: MLflow autologging encountered a warning: &#34;/databricks/python/lib/python3.8/site-packages/sklearn/utils/deprecation.py:87: FutureWarning: Function plot_roc_curve is deprecated; Function :func:`plot_roc_curve` is deprecated in 1.0 and will be removed in 1.2. Use one of the class methods: :meth:`sklearn.metric.RocCurveDisplay.from_predictions` or :meth:`sklearn.metric.RocCurveDisplay.from_estimator`.&#34;\n2022/04/18 00:16:55 WARNING mlflow.utils.autologging_utils: MLflow autologging encountered a warning: &#34;/databricks/python/lib/python3.8/site-packages/sklearn/utils/deprecation.py:87: FutureWarning: Function plot_precision_recall_curve is deprecated; Function `plot_precision_recall_curve` is deprecated in 1.0 and will be removed in 1.2. Use one of the class methods: PrecisionRecallDisplay.from_predictions or PrecisionRecallDisplay.from_estimator.&#34;\n2022/04/18 00:16:56 WARNING mlflow.utils.autologging_utils: MLflow autologging encountered a warning: &#34;/databricks/python/lib/python3.8/site-packages/mlflow/models/signature.py:129: UserWarning: Hint: Inferred schema contains integer column(s). Integer columns in Python cannot represent missing values. If your input data contains missing values at inference time, it will be encoded as floats and will cause a schema enforcement error. The best way to avoid this problem is to infer the model schema based on a realistic data sample (training dataset) that includes missing values. Alternatively, you can declare integer columns as doubles (float64) whenever these columns may have missing values. See `Handling Integers With Missing Values &lt;https://www.mlflow.org/docs/latest/models.html#handling-integers-with-missing-values&gt;`_ for more details.&#34;\n/databricks/python/lib/python3.8/site-packages/mlflow/models/signature.py:129: UserWarning: Hint: Inferred schema contains integer column(s). Integer columns in Python cannot represent missing values. If your input data contains missing values at inference time, it will be encoded as floats and will cause a schema enforcement error. The best way to avoid this problem is to infer the model schema based on a realistic data sample (training dataset) that includes missing values. Alternatively, you can declare integer columns as doubles (float64) whenever these columns may have missing values. See `Handling Integers With Missing Values &lt;https://www.mlflow.org/docs/latest/models.html#handling-integers-with-missing-values&gt;`_ for more details.\n  inputs = _infer_schema(model_input)\n<span class=\"ansi-green-fg\">[I 2022-04-18 00:17:00,367]</span> Trial 7 finished with value: 0.5769603097773475 and parameters: {&#39;Classifier&#39;: &#39;gb&#39;, &#39;n_estimators_option_gb&#39;: 23, &#39;max_depth_option_gb&#39;: 1, &#39;max_features_option_gb&#39;: &#39;sqrt&#39;, &#39;loss_option_gb&#39;: &#39;exponential&#39;, &#39;learning_rate_option_gb&#39;: 0.01000001}. Best is trial 2 with value: 0.6168421052631579.\n2022/04/18 00:17:00 WARNING mlflow.utils.autologging_utils: You are using an unsupported version of xgboost. If you encounter errors during autologging, try upgrading / downgrading xgboost to a supported version, or try upgrading MLflow.\n[00:17:00] WARNING: ../src/learner.cc:627: \nParameters: { &#34;max_features&#34;, &#34;probability&#34; } might not be used.\n\n  This could be a false alarm, with some parameters getting used by language bindings but\n  then being mistakenly passed down to XGBoost core, or some parameter actually being used\n  but getting flagged wrongly here. Please open an issue if you find any such cases.\n\n\n2022/04/18 00:17:01 WARNING mlflow.utils.autologging_utils: MLflow autologging encountered a warning: &#34;/databricks/python/lib/python3.8/site-packages/mlflow/models/signature.py:129: UserWarning: Hint: Inferred schema contains integer column(s). Integer columns in Python cannot represent missing values. If your input data contains missing values at inference time, it will be encoded as floats and will cause a schema enforcement error. The best way to avoid this problem is to infer the model schema based on a realistic data sample (training dataset) that includes missing values. Alternatively, you can declare integer columns as doubles (float64) whenever these columns may have missing values. See `Handling Integers With Missing Values &lt;https://www.mlflow.org/docs/latest/models.html#handling-integers-with-missing-values&gt;`_ for more details.&#34;\n\n*** WARNING: skipped 4604 bytes of output ***\n\n2022/04/18 00:17:16 WARNING mlflow.utils.autologging_utils: MLflow autologging encountered a warning: &#34;/databricks/python/lib/python3.8/site-packages/sklearn/utils/deprecation.py:87: FutureWarning: Function plot_roc_curve is deprecated; Function :func:`plot_roc_curve` is deprecated in 1.0 and will be removed in 1.2. Use one of the class methods: :meth:`sklearn.metric.RocCurveDisplay.from_predictions` or :meth:`sklearn.metric.RocCurveDisplay.from_estimator`.&#34;\n2022/04/18 00:17:16 WARNING mlflow.utils.autologging_utils: MLflow autologging encountered a warning: &#34;/databricks/python/lib/python3.8/site-packages/sklearn/utils/deprecation.py:87: FutureWarning: Function plot_precision_recall_curve is deprecated; Function `plot_precision_recall_curve` is deprecated in 1.0 and will be removed in 1.2. Use one of the class methods: PrecisionRecallDisplay.from_predictions or PrecisionRecallDisplay.from_estimator.&#34;\n2022/04/18 00:17:17 WARNING mlflow.utils.autologging_utils: MLflow autologging encountered a warning: &#34;/databricks/python/lib/python3.8/site-packages/mlflow/models/signature.py:129: UserWarning: Hint: Inferred schema contains integer column(s). Integer columns in Python cannot represent missing values. If your input data contains missing values at inference time, it will be encoded as floats and will cause a schema enforcement error. The best way to avoid this problem is to infer the model schema based on a realistic data sample (training dataset) that includes missing values. Alternatively, you can declare integer columns as doubles (float64) whenever these columns may have missing values. See `Handling Integers With Missing Values &lt;https://www.mlflow.org/docs/latest/models.html#handling-integers-with-missing-values&gt;`_ for more details.&#34;\n/databricks/python/lib/python3.8/site-packages/mlflow/models/signature.py:129: UserWarning: Hint: Inferred schema contains integer column(s). Integer columns in Python cannot represent missing values. If your input data contains missing values at inference time, it will be encoded as floats and will cause a schema enforcement error. The best way to avoid this problem is to infer the model schema based on a realistic data sample (training dataset) that includes missing values. Alternatively, you can declare integer columns as doubles (float64) whenever these columns may have missing values. See `Handling Integers With Missing Values &lt;https://www.mlflow.org/docs/latest/models.html#handling-integers-with-missing-values&gt;`_ for more details.\n  inputs = _infer_schema(model_input)\n<span class=\"ansi-green-fg\">[I 2022-04-18 00:17:21,773]</span> Trial 10 finished with value: 0.5985844287158746 and parameters: {&#39;Classifier&#39;: &#39;gb&#39;, &#39;n_estimators_option_gb&#39;: 93, &#39;max_depth_option_gb&#39;: 13, &#39;max_features_option_gb&#39;: &#39;log2&#39;, &#39;loss_option_gb&#39;: &#39;deviance&#39;, &#39;learning_rate_option_gb&#39;: 0.00500001}. Best is trial 2 with value: 0.6168421052631579.\n/databricks/python/lib/python3.8/site-packages/optuna/distributions.py:545: UserWarning: The distribution is specified by [1e-08, 0.03] and q=0.005, but the range is not divisible by `q`. It will be replaced by [1e-08, 0.02500001].\n  warnings.warn(\n2022/04/18 00:17:22 WARNING mlflow.utils.autologging_utils: MLflow autologging encountered a warning: &#34;/databricks/python/lib/python3.8/site-packages/mlflow/models/signature.py:129: UserWarning: Hint: Inferred schema contains integer column(s). Integer columns in Python cannot represent missing values. If your input data contains missing values at inference time, it will be encoded as floats and will cause a schema enforcement error. The best way to avoid this problem is to infer the model schema based on a realistic data sample (training dataset) that includes missing values. Alternatively, you can declare integer columns as doubles (float64) whenever these columns may have missing values. See `Handling Integers With Missing Values &lt;https://www.mlflow.org/docs/latest/models.html#handling-integers-with-missing-values&gt;`_ for more details.&#34;\n/databricks/python/lib/python3.8/site-packages/mlflow/models/signature.py:129: UserWarning: Hint: Inferred schema contains integer column(s). Integer columns in Python cannot represent missing values. If your input data contains missing values at inference time, it will be encoded as floats and will cause a schema enforcement error. The best way to avoid this problem is to infer the model schema based on a realistic data sample (training dataset) that includes missing values. Alternatively, you can declare integer columns as doubles (float64) whenever these columns may have missing values. See `Handling Integers With Missing Values &lt;https://www.mlflow.org/docs/latest/models.html#handling-integers-with-missing-values&gt;`_ for more details.\n  inputs = _infer_schema(model_input)\n<span class=\"ansi-green-fg\">[I 2022-04-18 00:17:26,726]</span> Trial 11 finished with value: 0.619718309859155 and parameters: {&#39;Classifier&#39;: &#39;lightGBM&#39;, &#39;n_estimators_option_lgbm&#39;: 1, &#39;max_depth_option_lgbm&#39;: 18, &#39;metric_option_lgbm&#39;: &#39;average_precision&#39;, &#39;learning_rate_option_lgbm&#39;: 0.02500001, &#39;scale_pos_weight_option_lgbm&#39;: 910, &#39;max_delta_step_option_lgbm&#39;: 2, &#39;tree_learner_option_lgbm&#39;: &#39;feature&#39;}. Best is trial 11 with value: 0.619718309859155.\n/databricks/python/lib/python3.8/site-packages/optuna/distributions.py:545: UserWarning: The distribution is specified by [1e-08, 0.03] and q=0.005, but the range is not divisible by `q`. It will be replaced by [1e-08, 0.02500001].\n  warnings.warn(\n2022/04/18 00:17:27 WARNING mlflow.utils.autologging_utils: MLflow autologging encountered a warning: &#34;/databricks/python/lib/python3.8/site-packages/mlflow/models/signature.py:129: UserWarning: Hint: Inferred schema contains integer column(s). Integer columns in Python cannot represent missing values. If your input data contains missing values at inference time, it will be encoded as floats and will cause a schema enforcement error. The best way to avoid this problem is to infer the model schema based on a realistic data sample (training dataset) that includes missing values. Alternatively, you can declare integer columns as doubles (float64) whenever these columns may have missing values. See `Handling Integers With Missing Values &lt;https://www.mlflow.org/docs/latest/models.html#handling-integers-with-missing-values&gt;`_ for more details.&#34;\n/databricks/python/lib/python3.8/site-packages/mlflow/models/signature.py:129: UserWarning: Hint: Inferred schema contains integer column(s). Integer columns in Python cannot represent missing values. If your input data contains missing values at inference time, it will be encoded as floats and will cause a schema enforcement error. The best way to avoid this problem is to infer the model schema based on a realistic data sample (training dataset) that includes missing values. Alternatively, you can declare integer columns as doubles (float64) whenever these columns may have missing values. See `Handling Integers With Missing Values &lt;https://www.mlflow.org/docs/latest/models.html#handling-integers-with-missing-values&gt;`_ for more details.\n  inputs = _infer_schema(model_input)\n<span class=\"ansi-green-fg\">[I 2022-04-18 00:17:31,601]</span> Trial 12 finished with value: 0.619718309859155 and parameters: {&#39;Classifier&#39;: &#39;lightGBM&#39;, &#39;n_estimators_option_lgbm&#39;: 1, &#39;max_depth_option_lgbm&#39;: 20, &#39;metric_option_lgbm&#39;: &#39;average_precision&#39;, &#39;learning_rate_option_lgbm&#39;: 0.02500001, &#39;scale_pos_weight_option_lgbm&#39;: 1000, &#39;max_delta_step_option_lgbm&#39;: 4, &#39;tree_learner_option_lgbm&#39;: &#39;feature&#39;}. Best is trial 11 with value: 0.619718309859155.\n/databricks/python/lib/python3.8/site-packages/optuna/distributions.py:545: UserWarning: The distribution is specified by [1e-08, 0.03] and q=0.005, but the range is not divisible by `q`. It will be replaced by [1e-08, 0.02500001].\n  warnings.warn(\n2022/04/18 00:17:32 WARNING mlflow.utils.autologging_utils: MLflow autologging encountered a warning: &#34;/databricks/python/lib/python3.8/site-packages/mlflow/models/signature.py:129: UserWarning: Hint: Inferred schema contains integer column(s). Integer columns in Python cannot represent missing values. If your input data contains missing values at inference time, it will be encoded as floats and will cause a schema enforcement error. The best way to avoid this problem is to infer the model schema based on a realistic data sample (training dataset) that includes missing values. Alternatively, you can declare integer columns as doubles (float64) whenever these columns may have missing values. See `Handling Integers With Missing Values &lt;https://www.mlflow.org/docs/latest/models.html#handling-integers-with-missing-values&gt;`_ for more details.&#34;\n/databricks/python/lib/python3.8/site-packages/mlflow/models/signature.py:129: UserWarning: Hint: Inferred schema contains integer column(s). Integer columns in Python cannot represent missing values. If your input data contains missing values at inference time, it will be encoded as floats and will cause a schema enforcement error. The best way to avoid this problem is to infer the model schema based on a realistic data sample (training dataset) that includes missing values. Alternatively, you can declare integer columns as doubles (float64) whenever these columns may have missing values. See `Handling Integers With Missing Values &lt;https://www.mlflow.org/docs/latest/models.html#handling-integers-with-missing-values&gt;`_ for more details.\n  inputs = _infer_schema(model_input)\n<span class=\"ansi-green-fg\">[I 2022-04-18 00:17:36,588]</span> Trial 13 finished with value: 0.619718309859155 and parameters: {&#39;Classifier&#39;: &#39;lightGBM&#39;, &#39;n_estimators_option_lgbm&#39;: 1, &#39;max_depth_option_lgbm&#39;: 18, &#39;metric_option_lgbm&#39;: &#39;mape&#39;, &#39;learning_rate_option_lgbm&#39;: 0.02500001, &#39;scale_pos_weight_option_lgbm&#39;: 1000, &#39;max_delta_step_option_lgbm&#39;: 4, &#39;tree_learner_option_lgbm&#39;: &#39;feature&#39;}. Best is trial 11 with value: 0.619718309859155.\n/databricks/python/lib/python3.8/site-packages/optuna/distributions.py:545: UserWarning: The distribution is specified by [1e-08, 0.03] and q=0.005, but the range is not divisible by `q`. It will be replaced by [1e-08, 0.02500001].\n  warnings.warn(\n2022/04/18 00:17:37 WARNING mlflow.utils.autologging_utils: MLflow autologging encountered a warning: &#34;/databricks/python/lib/python3.8/site-packages/mlflow/models/signature.py:129: UserWarning: Hint: Inferred schema contains integer column(s). Integer columns in Python cannot represent missing values. If your input data contains missing values at inference time, it will be encoded as floats and will cause a schema enforcement error. The best way to avoid this problem is to infer the model schema based on a realistic data sample (training dataset) that includes missing values. Alternatively, you can declare integer columns as doubles (float64) whenever these columns may have missing values. See `Handling Integers With Missing Values &lt;https://www.mlflow.org/docs/latest/models.html#handling-integers-with-missing-values&gt;`_ for more details.&#34;\n/databricks/python/lib/python3.8/site-packages/mlflow/models/signature.py:129: UserWarning: Hint: Inferred schema contains integer column(s). Integer columns in Python cannot represent missing values. If your input data contains missing values at inference time, it will be encoded as floats and will cause a schema enforcement error. The best way to avoid this problem is to infer the model schema based on a realistic data sample (training dataset) that includes missing values. Alternatively, you can declare integer columns as doubles (float64) whenever these columns may have missing values. See `Handling Integers With Missing Values &lt;https://www.mlflow.org/docs/latest/models.html#handling-integers-with-missing-values&gt;`_ for more details.\n  inputs = _infer_schema(model_input)\n<span class=\"ansi-green-fg\">[I 2022-04-18 00:17:41,492]</span> Trial 14 finished with value: 0.4199887703537339 and parameters: {&#39;Classifier&#39;: &#39;lightGBM&#39;, &#39;n_estimators_option_lgbm&#39;: 4, &#39;max_depth_option_lgbm&#39;: 20, &#39;metric_option_lgbm&#39;: &#39;l2&#39;, &#39;learning_rate_option_lgbm&#39;: 0.02500001, &#39;scale_pos_weight_option_lgbm&#39;: 620, &#39;max_delta_step_option_lgbm&#39;: 1, &#39;tree_learner_option_lgbm&#39;: &#39;feature&#39;}. Best is trial 11 with value: 0.619718309859155.\n/databricks/python/lib/python3.8/site-packages/optuna/distributions.py:545: UserWarning: The distribution is specified by [1e-08, 0.03] and q=0.005, but the range is not divisible by `q`. It will be replaced by [1e-08, 0.02500001].\n  warnings.warn(\n2022/04/18 00:17:42 WARNING mlflow.utils.autologging_utils: MLflow autologging encountered a warning: &#34;/databricks/python/lib/python3.8/site-packages/mlflow/models/signature.py:129: UserWarning: Hint: Inferred schema contains integer column(s). Integer columns in Python cannot represent missing values. If your input data contains missing values at inference time, it will be encoded as floats and will cause a schema enforcement error. The best way to avoid this problem is to infer the model schema based on a realistic data sample (training dataset) that includes missing values. Alternatively, you can declare integer columns as doubles (float64) whenever these columns may have missing values. See `Handling Integers With Missing Values &lt;https://www.mlflow.org/docs/latest/models.html#handling-integers-with-missing-values&gt;`_ for more details.&#34;\n/databricks/python/lib/python3.8/site-packages/mlflow/models/signature.py:129: UserWarning: Hint: Inferred schema contains integer column(s). Integer columns in Python cannot represent missing values. If your input data contains missing values at inference time, it will be encoded as floats and will cause a schema enforcement error. The best way to avoid this problem is to infer the model schema based on a realistic data sample (training dataset) that includes missing values. Alternatively, you can declare integer columns as doubles (float64) whenever these columns may have missing values. See `Handling Integers With Missing Values &lt;https://www.mlflow.org/docs/latest/models.html#handling-integers-with-missing-values&gt;`_ for more details.\n  inputs = _infer_schema(model_input)\n<span class=\"ansi-green-fg\">[I 2022-04-18 00:17:46,537]</span> Trial 15 finished with value: 0.6150178784266984 and parameters: {&#39;Classifier&#39;: &#39;lightGBM&#39;, &#39;n_estimators_option_lgbm&#39;: 29, &#39;max_depth_option_lgbm&#39;: 6, &#39;metric_option_lgbm&#39;: &#39;huber&#39;, &#39;learning_rate_option_lgbm&#39;: 0.020000010000000002, &#39;scale_pos_weight_option_lgbm&#39;: 870, &#39;max_delta_step_option_lgbm&#39;: 32, &#39;tree_learner_option_lgbm&#39;: &#39;voting&#39;}. Best is trial 11 with value: 0.619718309859155.\n/databricks/python/lib/python3.8/site-packages/optuna/distributions.py:545: UserWarning: The distribution is specified by [1e-08, 0.03] and q=0.005, but the range is not divisible by `q`. It will be replaced by [1e-08, 0.02500001].\n  warnings.warn(\n2022/04/18 00:17:47 WARNING mlflow.utils.autologging_utils: MLflow autologging encountered a warning: &#34;/databricks/python/lib/python3.8/site-packages/mlflow/models/signature.py:129: UserWarning: Hint: Inferred schema contains integer column(s). Integer columns in Python cannot represent missing values. If your input data contains missing values at inference time, it will be encoded as floats and will cause a schema enforcement error. The best way to avoid this problem is to infer the model schema based on a realistic data sample (training dataset) that includes missing values. Alternatively, you can declare integer columns as doubles (float64) whenever these columns may have missing values. See `Handling Integers With Missing Values &lt;https://www.mlflow.org/docs/latest/models.html#handling-integers-with-missing-values&gt;`_ for more details.&#34;\n/databricks/python/lib/python3.8/site-packages/mlflow/models/signature.py:129: UserWarning: Hint: Inferred schema contains integer column(s). Integer columns in Python cannot represent missing values. If your input data contains missing values at inference time, it will be encoded as floats and will cause a schema enforcement error. The best way to avoid this problem is to infer the model schema based on a realistic data sample (training dataset) that includes missing values. Alternatively, you can declare integer columns as doubles (float64) whenever these columns may have missing values. See `Handling Integers With Missing Values &lt;https://www.mlflow.org/docs/latest/models.html#handling-integers-with-missing-values&gt;`_ for more details.\n  inputs = _infer_schema(model_input)\n<span class=\"ansi-green-fg\">[I 2022-04-18 00:17:51,505]</span> Trial 16 finished with value: 0.6173708920187794 and parameters: {&#39;Classifier&#39;: &#39;lightGBM&#39;, &#39;n_estimators_option_lgbm&#39;: 26, &#39;max_depth_option_lgbm&#39;: 6, &#39;metric_option_lgbm&#39;: &#39;cross_entropy&#39;, &#39;learning_rate_option_lgbm&#39;: 0.01500001, &#39;scale_pos_weight_option_lgbm&#39;: 390, &#39;max_delta_step_option_lgbm&#39;: 26, &#39;tree_learner_option_lgbm&#39;: &#39;feature&#39;}. Best is trial 11 with value: 0.619718309859155.\n/databricks/python/lib/python3.8/site-packages/optuna/distributions.py:545: UserWarning: The distribution is specified by [1e-08, 0.03] and q=0.005, but the range is not divisible by `q`. It will be replaced by [1e-08, 0.02500001].\n  warnings.warn(\n2022/04/18 00:17:52 WARNING mlflow.utils.autologging_utils: MLflow autologging encountered a warning: &#34;/databricks/python/lib/python3.8/site-packages/mlflow/models/signature.py:129: UserWarning: Hint: Inferred schema contains integer column(s). Integer columns in Python cannot represent missing values. If your input data contains missing values at inference time, it will be encoded as floats and will cause a schema enforcement error. The best way to avoid this problem is to infer the model schema based on a realistic data sample (training dataset) that includes missing values. Alternatively, you can declare integer columns as doubles (float64) whenever these columns may have missing values. See `Handling Integers With Missing Values &lt;https://www.mlflow.org/docs/latest/models.html#handling-integers-with-missing-values&gt;`_ for more details.&#34;\n/databricks/python/lib/python3.8/site-packages/mlflow/models/signature.py:129: UserWarning: Hint: Inferred schema contains integer column(s). Integer columns in Python cannot represent missing values. If your input data contains missing values at inference time, it will be encoded as floats and will cause a schema enforcement error. The best way to avoid this problem is to infer the model schema based on a realistic data sample (training dataset) that includes missing values. Alternatively, you can declare integer columns as doubles (float64) whenever these columns may have missing values. See `Handling Integers With Missing Values &lt;https://www.mlflow.org/docs/latest/models.html#handling-integers-with-missing-values&gt;`_ for more details.\n  inputs = _infer_schema(model_input)\n<span class=\"ansi-green-fg\">[I 2022-04-18 00:17:56,648]</span> Trial 17 finished with value: 0.5738317757009346 and parameters: {&#39;Classifier&#39;: &#39;lightGBM&#39;, &#39;n_estimators_option_lgbm&#39;: 23, &#39;max_depth_option_lgbm&#39;: 2, &#39;metric_option_lgbm&#39;: &#39;cross_entropy_lambda&#39;, &#39;learning_rate_option_lgbm&#39;: 0.01500001, &#39;scale_pos_weight_option_lgbm&#39;: 750, &#39;max_delta_step_option_lgbm&#39;: 25, &#39;tree_learner_option_lgbm&#39;: &#39;feature&#39;}. Best is trial 11 with value: 0.619718309859155.\n/databricks/python/lib/python3.8/site-packages/optuna/distributions.py:545: UserWarning: The distribution is specified by [1e-08, 0.03] and q=0.005, but the range is not divisible by `q`. It will be replaced by [1e-08, 0.02500001].\n  warnings.warn(\n2022/04/18 00:17:57 WARNING mlflow.utils.autologging_utils: MLflow autologging encountered a warning: &#34;/databricks/python/lib/python3.8/site-packages/mlflow/models/signature.py:129: UserWarning: Hint: Inferred schema contains integer column(s). Integer columns in Python cannot represent missing values. If your input data contains missing values at inference time, it will be encoded as floats and will cause a schema enforcement error. The best way to avoid this problem is to infer the model schema based on a realistic data sample (training dataset) that includes missing values. Alternatively, you can declare integer columns as doubles (float64) whenever these columns may have missing values. See `Handling Integers With Missing Values &lt;https://www.mlflow.org/docs/latest/models.html#handling-integers-with-missing-values&gt;`_ for more details.&#34;\n/databricks/python/lib/python3.8/site-packages/mlflow/models/signature.py:129: UserWarning: Hint: Inferred schema contains integer column(s). Integer columns in Python cannot represent missing values. If your input data contains missing values at inference time, it will be encoded as floats and will cause a schema enforcement error. The best way to avoid this problem is to infer the model schema based on a realistic data sample (training dataset) that includes missing values. Alternatively, you can declare integer columns as doubles (float64) whenever these columns may have missing values. See `Handling Integers With Missing Values &lt;https://www.mlflow.org/docs/latest/models.html#handling-integers-with-missing-values&gt;`_ for more details.\n  inputs = _infer_schema(model_input)\n<span class=\"ansi-green-fg\">[I 2022-04-18 00:18:01,655]</span> Trial 18 finished with value: 0.619718309859155 and parameters: {&#39;Classifier&#39;: &#39;lightGBM&#39;, &#39;n_estimators_option_lgbm&#39;: 1, &#39;max_depth_option_lgbm&#39;: 11, &#39;metric_option_lgbm&#39;: &#39;mape&#39;, &#39;learning_rate_option_lgbm&#39;: 0.02500001, &#39;scale_pos_weight_option_lgbm&#39;: 990, &#39;max_delta_step_option_lgbm&#39;: 16, &#39;tree_learner_option_lgbm&#39;: &#39;feature&#39;}. Best is trial 11 with value: 0.619718309859155.\n/databricks/python/lib/python3.8/site-packages/optuna/distributions.py:545: UserWarning: The distribution is specified by [1e-08, 0.03] and q=0.005, but the range is not divisible by `q`. It will be replaced by [1e-08, 0.02500001].\n  warnings.warn(\n2022/04/18 00:18:02 WARNING mlflow.utils.autologging_utils: MLflow autologging encountered a warning: &#34;/databricks/python/lib/python3.8/site-packages/mlflow/models/signature.py:129: UserWarning: Hint: Inferred schema contains integer column(s). Integer columns in Python cannot represent missing values. If your input data contains missing values at inference time, it will be encoded as floats and will cause a schema enforcement error. The best way to avoid this problem is to infer the model schema based on a realistic data sample (training dataset) that includes missing values. Alternatively, you can declare integer columns as doubles (float64) whenever these columns may have missing values. See `Handling Integers With Missing Values &lt;https://www.mlflow.org/docs/latest/models.html#handling-integers-with-missing-values&gt;`_ for more details.&#34;\n/databricks/python/lib/python3.8/site-packages/mlflow/models/signature.py:129: UserWarning: Hint: Inferred schema contains integer column(s). Integer columns in Python cannot represent missing values. If your input data contains missing values at inference time, it will be encoded as floats and will cause a schema enforcement error. The best way to avoid this problem is to infer the model schema based on a realistic data sample (training dataset) that includes missing values. Alternatively, you can declare integer columns as doubles (float64) whenever these columns may have missing values. See `Handling Integers With Missing Values &lt;https://www.mlflow.org/docs/latest/models.html#handling-integers-with-missing-values&gt;`_ for more details.\n  inputs = _infer_schema(model_input)\n<span class=\"ansi-green-fg\">[I 2022-04-18 00:18:06,770]</span> Trial 19 finished with value: 0.615546218487395 and parameters: {&#39;Classifier&#39;: &#39;lightGBM&#39;, &#39;n_estimators_option_lgbm&#39;: 46, &#39;max_depth_option_lgbm&#39;: 9, &#39;metric_option_lgbm&#39;: &#39;mape&#39;, &#39;learning_rate_option_lgbm&#39;: 0.020000010000000002, &#39;scale_pos_weight_option_lgbm&#39;: 420, &#39;max_delta_step_option_lgbm&#39;: 44, &#39;tree_learner_option_lgbm&#39;: &#39;data&#39;}. Best is trial 11 with value: 0.619718309859155.\n2022/04/18 00:18:07 INFO mlflow.utils.autologging_utils: Created MLflow autologging run with ID &#39;1770d7bb58bd442a9e4fb7c37374a01e&#39;, which will track hyperparameters, performance metrics, model artifacts, and lineage information for the current lightgbm workflow\n2022/04/18 00:18:07 WARNING mlflow.utils.autologging_utils: MLflow autologging encountered a warning: &#34;/databricks/python/lib/python3.8/site-packages/mlflow/models/signature.py:129: UserWarning: Hint: Inferred schema contains integer column(s). Integer columns in Python cannot represent missing values. If your input data contains missing values at inference time, it will be encoded as floats and will cause a schema enforcement error. The best way to avoid this problem is to infer the model schema based on a realistic data sample (training dataset) that includes missing values. Alternatively, you can declare integer columns as doubles (float64) whenever these columns may have missing values. See `Handling Integers With Missing Values &lt;https://www.mlflow.org/docs/latest/models.html#handling-integers-with-missing-values&gt;`_ for more details.&#34;\n</div>",
       "datasetInfos": [],
       "metadata": {},
       "removedWidgets": [],
       "type": "html"
      }
     },
     "output_type": "display_data"
    }
   ],
   "source": [
    "from optuna.samplers import TPESampler\n",
    "import pickle\n",
    "def ChampionModelOptimization(trial):\n",
    "    Classifier=trial.suggest_categorical(\"Classifier\", ['xgb','gb','lightGBM'])\n",
    "    if Classifier=='xgb':\n",
    "        n_estimators_option_xgb=trial.suggest_int(\"n_estimators_option_xgb\", 1, 100, step=1)\n",
    "        max_features_option_xgb=trial.suggest_int('max_features_option_xgb',1,15,step=1,log=True)    \n",
    "        max_depth_option_xgb=trial.suggest_int('max_depth_option_xgb', 1, 20,step=1, log=True)\n",
    "        eval_metric_option_xgb=trial.suggest_categorical(\"eval_metric_option_xgb\", ['aucpr','map','error@0.1','error@0.3','error@0.5','error@0.7','error@0.8'])\n",
    "        learning_rate_option_xgb=trial.suggest_float(\"learning_rate_option_xgb\", 0, 0.03,step=0.005)\n",
    "        tree_method_option_xgb=trial.suggest_categorical(\"tree_method_option_xgb\", ['auto','exact','approx','hist'])\n",
    "        scale_pos_weight_option_xgb=trial.suggest_int(\"scale_pos_weight_option_xgb\", 10, 1000, step=10)\n",
    "        max_delta_step_option_xgb=trial.suggest_int(\"max_delta_step_option_xgb\", 0, 100, step=1)    \n",
    "\n",
    "        Classifier_obj =  XGBClassifier(n_estimators=n_estimators_option_xgb,\n",
    "                                    max_features=max_features_option_xgb,\n",
    "                                    max_depth=max_depth_option_xgb,\n",
    "                                    eval_metric=eval_metric_option_xgb,\n",
    "                                    learning_rate=learning_rate_option_xgb,\n",
    "                                    tree_method=tree_method_option_xgb,\n",
    "                                    scale_pos_weight=scale_pos_weight_option_xgb,\n",
    "                                    max_delta_step=max_delta_step_option_xgb,\n",
    "                                    probability=True)\n",
    "        mlflow.xgboost.autolog()\n",
    "        with mlflow.start_run():\n",
    "            Classifier_obj.fit(sample_x_over, sample_y_over)\n",
    "            y_scores = Classifier_obj.predict_proba(strat_test_set_x)\n",
    "            # Keep probabilities for the positive outcome only\n",
    "            y_scores = y_scores[:, 1]\n",
    "            # Calculate p/r curves\n",
    "            precision, recall, thresholds = precision_recall_curve(strat_test_set_y, y_scores)\n",
    "            # Convert to f-score\n",
    "            fscore = (2 * precision * recall) / (precision + recall)\n",
    "            # Locate the index of the largest f-score\n",
    "            ix = argmax(fscore)\n",
    "            ModelThreshold=thresholds[ix]\n",
    "            Modelrecall=recall[ix]\n",
    "            Modelprecision=precision[ix]\n",
    "            Modelfscore=fscore[ix]\n",
    "            signature = infer_signature(sample_x_over, Classifier_obj.predict(sample_x_over))\n",
    "            mlflow.xgboost.log_model(Classifier_obj, \"xgb_model\", signature=signature)\n",
    "            mlflow.log_metric('recall', Modelrecall)\n",
    "    \n",
    "    elif Classifier=='gb':\n",
    "        n_estimators_option_gb=trial.suggest_int(\"n_estimators_option_gb\", 1, 100, step=1)      \n",
    "        max_depth_option_gb=trial.suggest_int('max_depth_option_gb', 1, 20,step=1, log=True)\n",
    "        max_features_option_gb=trial.suggest_categorical('max_features_option_gb',['auto', 'sqrt', 'log2'])\n",
    "        loss_option_gb=trial.suggest_categorical('loss_option_gb',['deviance', 'exponential'])\n",
    "        learning_rate_option_gb=trial.suggest_float(\"learning_rate_option_gb\", 0.00000001, 0.03,step=0.005)\n",
    "\n",
    "\n",
    "        Classifier_obj =  GradientBoostingClassifier(n_estimators=n_estimators_option_gb,\n",
    "                                                 max_depth=max_depth_option_gb,\n",
    "                                                 max_features=max_features_option_gb,\n",
    "                                                 loss=loss_option_gb,\n",
    "                                                 learning_rate=learning_rate_option_gb)  \n",
    "        mlflow.sklearn.autolog()\n",
    "        with mlflow.start_run():\n",
    "            Classifier_obj.fit(sample_x_over, sample_y_over)\n",
    "            y_scores = Classifier_obj.predict_proba(strat_test_set_x)\n",
    "            # Keep probabilities for the positive outcome only\n",
    "            y_scores = y_scores[:, 1]\n",
    "            # Calculate p/r curves\n",
    "            precision, recall, thresholds = precision_recall_curve(strat_test_set_y, y_scores)\n",
    "            # Convert to f-score\n",
    "            fscore = (2 * precision * recall) / (precision + recall)\n",
    "            # Locate the index of the largest f-score\n",
    "            ix = argmax(fscore)\n",
    "            ModelThreshold=thresholds[ix]\n",
    "            Modelrecall=recall[ix]\n",
    "            Modelprecision=precision[ix]\n",
    "            Modelfscore=fscore[ix]\n",
    "            signature = infer_signature(sample_x_over, Classifier_obj.predict(sample_x_over))\n",
    "            mlflow.sklearn.log_model(Classifier_obj, \"gb_model\", signature=signature)\n",
    "            mlflow.log_metric('recall', Modelrecall)    \n",
    "    else:\n",
    "        n_estimators_option_lgbm=trial.suggest_int(\"n_estimators_option_lgbm\", 1, 100, step=1)    \n",
    "        max_depth_option_lgbm=trial.suggest_int('max_depth_option_lgbm', 1, 20,step=1, log=True)\n",
    "        metric_option_lgbm=trial.suggest_categorical(\"metric_option_lgbm\", ['mape','huber','l1','l2','fair','poisson','auc','average_precision','binary_logloss','binary_error','cross_entropy','cross_entropy_lambda','kullback_leibler'])\n",
    "        learning_rate_option_lgbm=trial.suggest_float(\"learning_rate_option_lgbm\", 0.00000001, 0.03,step=0.005)\n",
    "        scale_pos_weight_option_lgbm=trial.suggest_int(\"scale_pos_weight_option_lgbm\", 10, 1000, step=10)\n",
    "        max_delta_step_option_lgbm=trial.suggest_int(\"max_delta_step_option_lgbm\", 1, 100, step=1)\n",
    "        tree_learner_option_lgbm=trial.suggest_categorical('tree_learner_option_lgbm',['serial', 'feature', 'data', 'voting'])\n",
    "\n",
    "\n",
    "        Classifier_obj =  lgb.LGBMClassifier(n_estimators=n_estimators_option_lgbm,\n",
    "                                         max_depth=max_depth_option_lgbm,\n",
    "                                         metric=metric_option_lgbm,\n",
    "                                         learning_rate=learning_rate_option_lgbm,\n",
    "                                         scale_pos_weight=scale_pos_weight_option_lgbm,\n",
    "                                         max_delta_step=max_delta_step_option_lgbm,\n",
    "                                         tree_learner=tree_learner_option_lgbm)   #scale_pos_weight=25\n",
    "  \n",
    "        mlflow.lightgbm.autolog()\n",
    "        with mlflow.start_run():\n",
    "            Classifier_obj.fit(sample_x_over, sample_y_over)\n",
    "            y_scores = Classifier_obj.predict_proba(strat_test_set_x)\n",
    "            # Keep probabilities for the positive outcome only\n",
    "            y_scores = y_scores[:, 1]\n",
    "            # Calculate p/r curves\n",
    "            precision, recall, thresholds = precision_recall_curve(strat_test_set_y, y_scores)\n",
    "            # Convert to f-score\n",
    "            fscore = (2 * precision * recall) / (precision + recall)\n",
    "            # Locate the index of the largest f-score\n",
    "            ix = argmax(fscore)\n",
    "            ModelThreshold=thresholds[ix]\n",
    "            Modelrecall=recall[ix]\n",
    "            Modelprecision=precision[ix]\n",
    "            Modelfscore=fscore[ix]\n",
    "            signature = infer_signature(sample_x_over, Classifier_obj.predict(sample_x_over))\n",
    "            mlflow.lightgbm.log_model(Classifier_obj, \"lightgbm_model\", signature=signature)\n",
    "            mlflow.log_metric('recall', Modelrecall)  \n",
    "    return Modelfscore\n",
    "\n",
    "  \n",
    "sampler = TPESampler(seed=42)\n",
    "study = optuna.create_study(directions=['maximize'],sampler=sampler)\n",
    "study.optimize(lambda trial: ChampionModelOptimization(trial), n_trials=TrialNumber)\n",
    "\n",
    "if study.best_params['Classifier']=='xgb':\n",
    "    model=XGBClassifier(n_estimators=study.best_params['n_estimators_option_xgb'],\n",
    "                                            max_features=study.best_params['max_features_option_xgb'],\n",
    "                                            max_depth=study.best_params['max_depth_option_xgb'],\n",
    "                                            eval_metric=study.best_params['eval_metric_option_xgb'],\n",
    "                                            learning_rate=study.best_params['learning_rate_option_xgb'],\n",
    "                                            tree_method=study.best_params['tree_method_option_xgb'],\n",
    "                                            scale_pos_weight=study.best_params['scale_pos_weight_option_xgb'],\n",
    "                                            max_delta_step=study.best_params['max_delta_step_option_xgb'],\n",
    "                                            probability=True)\n",
    "    model.fit(sample_x_over, sample_y_over)\n",
    "    with open(\"BestModel{}.pickle\".format(study.best_params['Classifier']), \"wb\") as fout:\n",
    "        pickle.dump(model, fout)\n",
    "\n",
    "elif study.best_params['Classifier']=='gb':\n",
    "    model=GradientBoostingClassifier(n_estimators=study.best_params['n_estimators_option_gb'],\n",
    "                                                 max_depth=study.best_params['max_depth_option_gb'],\n",
    "                                                 max_features=study.best_params['max_features_option_gb'],\n",
    "                                                 loss=study.best_params['loss_option_gb'],\n",
    "                                                 learning_rate=study.best_params['learning_rate_option_gb'])\n",
    "    model.fit(sample_x_over, sample_y_over)\n",
    "    with open(\"BestModel{}.pickle\".format(study.best_params['Classifier']), \"wb\") as fout:\n",
    "        pickle.dump(model, fout)  \n",
    "else:\n",
    "    model=lgb.LGBMClassifier(n_estimators=study.best_params['n_estimators_option_lgbm'],\n",
    "                                            max_depth=study.best_params['max_depth_option_lgbm'],\n",
    "                                            metric=study.best_params['metric_option_lgbm'],\n",
    "                                            learning_rate=study.best_params['learning_rate_option_lgbm'],\n",
    "                                            scale_pos_weight=study.best_params['scale_pos_weight_option_lgbm'],\n",
    "                                            max_delta_step=study.best_params['max_delta_step_option_lgbm'],\n",
    "                                            tree_learner=study.best_params['tree_learner_option_lgbm'])\n",
    "    model.fit(sample_x_over, sample_y_over)\n",
    "    with open(\"BestModel{}.pickle\".format(study.best_params['Classifier']), \"wb\") as fout:\n",
    "        pickle.dump(model, fout)"
   ]
  },
  {
   "cell_type": "code",
   "execution_count": 0,
   "metadata": {
    "application/vnd.databricks.v1+cell": {
     "inputWidgets": {},
     "nuid": "e17f8173-331a-487e-89b4-838e9027ea9d",
     "showTitle": false,
     "title": ""
    },
    "id": "SnB3jhW4RDlr"
   },
   "outputs": [
    {
     "data": {
      "text/html": [
       "<style scoped>\n",
       "  .ansiout {\n",
       "    display: block;\n",
       "    unicode-bidi: embed;\n",
       "    white-space: pre-wrap;\n",
       "    word-wrap: break-word;\n",
       "    word-break: break-all;\n",
       "    font-family: \"Source Code Pro\", \"Menlo\", monospace;;\n",
       "    font-size: 13px;\n",
       "    color: #555;\n",
       "    margin-left: 4px;\n",
       "    line-height: 19px;\n",
       "  }\n",
       "</style>\n",
       "<div class=\"ansiout\"></div>"
      ]
     },
     "metadata": {
      "application/vnd.databricks.v1+output": {
       "addedWidgets": {},
       "arguments": {},
       "data": "<div class=\"ansiout\"></div>",
       "datasetInfos": [],
       "metadata": {},
       "removedWidgets": [],
       "type": "html"
      }
     },
     "output_type": "display_data"
    }
   ],
   "source": [
    "with open(\"BestModel{}.pickle\".format(study.best_params['Classifier']), \"rb\") as fin:\n",
    "    Best_Model = pickle.load(fin)\n",
    "y_scores = Best_Model.predict_proba(strat_test_set_x)\n",
    "# Keep probabilities for the positive outcome only\n",
    "y_scores = y_scores[:, 1]\n",
    "# Calculate p/r curves\n",
    "precision, recall, thresholds = precision_recall_curve(strat_test_set_y, y_scores)\n",
    "# Convert to f-score\n",
    "fscore = (2 * precision * recall) / (precision + recall)\n",
    "# Locate the index of the largest f-score\n",
    "ix = argmax(fscore)\n",
    "ModelThreshold=thresholds[ix]\n",
    "Modelrecall=recall[ix]\n",
    "Modelprecision=precision[ix]\n",
    "Modelfscore=fscore[ix]\n",
    "with open(\"Threshold.pickle\", \"wb\") as fout:\n",
    "    pickle.dump(ModelThreshold, fout)"
   ]
  },
  {
   "cell_type": "code",
   "execution_count": 0,
   "metadata": {
    "application/vnd.databricks.v1+cell": {
     "inputWidgets": {},
     "nuid": "971971ae-7d6b-4b62-ba2d-815d6111de39",
     "showTitle": false,
     "title": ""
    },
    "id": "Bl4VX4GfRv9N"
   },
   "outputs": [
    {
     "data": {
      "text/html": [
       "<style scoped>\n",
       "  .ansiout {\n",
       "    display: block;\n",
       "    unicode-bidi: embed;\n",
       "    white-space: pre-wrap;\n",
       "    word-wrap: break-word;\n",
       "    word-break: break-all;\n",
       "    font-family: \"Source Code Pro\", \"Menlo\", monospace;;\n",
       "    font-size: 13px;\n",
       "    color: #555;\n",
       "    margin-left: 4px;\n",
       "    line-height: 19px;\n",
       "  }\n",
       "</style>\n",
       "<div class=\"ansiout\"></div>"
      ]
     },
     "metadata": {
      "application/vnd.databricks.v1+output": {
       "addedWidgets": {},
       "arguments": {},
       "data": "<div class=\"ansiout\"></div>",
       "datasetInfos": [],
       "metadata": {},
       "removedWidgets": [],
       "type": "html"
      }
     },
     "output_type": "display_data"
    }
   ],
   "source": [
    "with open(\"Threshold.pickle\", \"rb\") as fin:\n",
    "    ModelThreshold = pickle.load(fin)\n",
    "for i in range(len(y_scores)):\n",
    "    if y_scores[i]>=ModelThreshold:\n",
    "        y_scores[i]=1\n",
    "    else:\n",
    "        y_scores[i]=0"
   ]
  },
  {
   "cell_type": "code",
   "execution_count": 0,
   "metadata": {
    "application/vnd.databricks.v1+cell": {
     "inputWidgets": {},
     "nuid": "7bfe9b73-f75c-4648-94b4-949a86e53481",
     "showTitle": false,
     "title": ""
    },
    "colab": {
     "base_uri": "https://localhost:8080/",
     "height": 16
    },
    "id": "m4YisEk5R7gL",
    "outputId": "c63edb53-77f2-45de-a177-8665dc4e2eb3"
   },
   "outputs": [
    {
     "data": {
      "text/html": [
       "<style scoped>\n",
       "  .ansiout {\n",
       "    display: block;\n",
       "    unicode-bidi: embed;\n",
       "    white-space: pre-wrap;\n",
       "    word-wrap: break-word;\n",
       "    word-break: break-all;\n",
       "    font-family: \"Source Code Pro\", \"Menlo\", monospace;;\n",
       "    font-size: 13px;\n",
       "    color: #555;\n",
       "    margin-left: 4px;\n",
       "    line-height: 19px;\n",
       "  }\n",
       "</style>\n",
       "<div class=\"ansiout\"></div>"
      ]
     },
     "metadata": {
      "application/vnd.databricks.v1+output": {
       "addedWidgets": {},
       "arguments": {},
       "data": "<div class=\"ansiout\"></div>",
       "datasetInfos": [],
       "metadata": {},
       "removedWidgets": [],
       "type": "html"
      }
     },
     "output_type": "display_data"
    }
   ],
   "source": [
    "#from google.colab import files\n",
    "#files.download(\"BestModel{}.pickle\".format(study.best_params['Classifier']))\n",
    "#files.download(\"Threshold.pickle\")"
   ]
  },
  {
   "cell_type": "markdown",
   "metadata": {
    "application/vnd.databricks.v1+cell": {
     "inputWidgets": {},
     "nuid": "ba9095ca-c783-420c-824a-b65cf8010c67",
     "showTitle": false,
     "title": ""
    },
    "id": "TwH_7AGQ4QL9"
   },
   "source": [
    "## Details of All Runs\n",
    "Contributor(s): @NathanMurstein\n",
    "\n",
    "Status of all our experiments."
   ]
  },
  {
   "cell_type": "code",
   "execution_count": 0,
   "metadata": {
    "application/vnd.databricks.v1+cell": {
     "inputWidgets": {},
     "nuid": "d73b761c-2cd6-4868-974e-a0b7954e0e56",
     "showTitle": false,
     "title": ""
    },
    "colab": {
     "base_uri": "https://localhost:8080/",
     "height": 647
    },
    "id": "AdOF7orH4SCn",
    "outputId": "6505dfb5-c2b4-43b3-b311-e5f58d036425"
   },
   "outputs": [
    {
     "data": {
      "text/html": [
       "<style scoped>\n",
       "  .ansiout {\n",
       "    display: block;\n",
       "    unicode-bidi: embed;\n",
       "    white-space: pre-wrap;\n",
       "    word-wrap: break-word;\n",
       "    word-break: break-all;\n",
       "    font-family: \"Source Code Pro\", \"Menlo\", monospace;;\n",
       "    font-size: 13px;\n",
       "    color: #555;\n",
       "    margin-left: 4px;\n",
       "    line-height: 19px;\n",
       "  }\n",
       "</style>\n",
       "<div class=\"ansiout\">Total experiments ran: 87\n",
       "Out[49]: </div>"
      ]
     },
     "metadata": {
      "application/vnd.databricks.v1+output": {
       "addedWidgets": {},
       "arguments": {},
       "data": "<div class=\"ansiout\">Total experiments ran: 87\nOut[49]: </div>",
       "datasetInfos": [],
       "metadata": {},
       "removedWidgets": [],
       "type": "html"
      }
     },
     "output_type": "display_data"
    },
    {
     "data": {
      "text/html": [
       "<div>\n",
       "<style scoped>\n",
       "    .dataframe tbody tr th:only-of-type {\n",
       "        vertical-align: middle;\n",
       "    }\n",
       "\n",
       "    .dataframe tbody tr th {\n",
       "        vertical-align: top;\n",
       "    }\n",
       "\n",
       "    .dataframe thead th {\n",
       "        text-align: right;\n",
       "    }\n",
       "</style>\n",
       "<table border=\"1\" class=\"dataframe\">\n",
       "  <thead>\n",
       "    <tr style=\"text-align: right;\">\n",
       "      <th></th>\n",
       "      <th>run_id</th>\n",
       "      <th>experiment_id</th>\n",
       "      <th>status</th>\n",
       "      <th>artifact_uri</th>\n",
       "      <th>start_time</th>\n",
       "      <th>end_time</th>\n",
       "      <th>metrics.recall</th>\n",
       "      <th>metrics.training_recall_score</th>\n",
       "      <th>metrics.training_precision_score</th>\n",
       "      <th>metrics.training_f1_score</th>\n",
       "      <th>metrics.training_score</th>\n",
       "      <th>metrics.training_roc_auc_score</th>\n",
       "      <th>metrics.training_accuracy_score</th>\n",
       "      <th>metrics.training_log_loss</th>\n",
       "      <th>params.subsample_for_bin</th>\n",
       "      <th>params.verbose</th>\n",
       "      <th>params.boosting_type</th>\n",
       "      <th>params.keep_training_booster</th>\n",
       "      <th>params.random_state</th>\n",
       "      <th>params.subsample_freq</th>\n",
       "      <th>params.evals_result</th>\n",
       "      <th>params.colsample_bytree</th>\n",
       "      <th>params.num_boost_round</th>\n",
       "      <th>params.min_child_weight</th>\n",
       "      <th>params.min_split_gain</th>\n",
       "      <th>params.min_child_samples</th>\n",
       "      <th>params.scale_pos_weight</th>\n",
       "      <th>params.tree_learner</th>\n",
       "      <th>params.categorical_feature</th>\n",
       "      <th>params.max_delta_step</th>\n",
       "      <th>params.metric</th>\n",
       "      <th>params.n_jobs</th>\n",
       "      <th>params.verbose_eval</th>\n",
       "      <th>params.reg_alpha</th>\n",
       "      <th>params.subsample</th>\n",
       "      <th>params.objective</th>\n",
       "      <th>params.early_stopping_rounds</th>\n",
       "      <th>params.feature_name</th>\n",
       "      <th>params.max_depth</th>\n",
       "      <th>params.learning_rate</th>\n",
       "      <th>...</th>\n",
       "      <th>params.verbosity</th>\n",
       "      <th>params.probability</th>\n",
       "      <th>params.gpu_id</th>\n",
       "      <th>params.grow_policy</th>\n",
       "      <th>params.eval_metric</th>\n",
       "      <th>params.booster</th>\n",
       "      <th>params.maximize</th>\n",
       "      <th>params.predictor</th>\n",
       "      <th>params.max_cat_to_onehot</th>\n",
       "      <th>params.validate_parameters</th>\n",
       "      <th>params.sampling_method</th>\n",
       "      <th>params.max_bin</th>\n",
       "      <th>params.metric_params</th>\n",
       "      <th>params.algorithm</th>\n",
       "      <th>params.n_neighbors</th>\n",
       "      <th>params.p</th>\n",
       "      <th>params.leaf_size</th>\n",
       "      <th>params.radius</th>\n",
       "      <th>params.bootstrap</th>\n",
       "      <th>params.max_samples</th>\n",
       "      <th>params.contamination</th>\n",
       "      <th>params.class_weight</th>\n",
       "      <th>params.oob_score</th>\n",
       "      <th>tags.mlflow.databricks.cluster.id</th>\n",
       "      <th>tags.mlflow.user</th>\n",
       "      <th>tags.mlflow.databricks.workspaceID</th>\n",
       "      <th>tags.mlflow.databricks.workspaceURL</th>\n",
       "      <th>tags.mlflow.databricks.notebookPath</th>\n",
       "      <th>tags.mlflow.source.name</th>\n",
       "      <th>tags.mlflow.databricks.notebookID</th>\n",
       "      <th>tags.mlflow.source.type</th>\n",
       "      <th>tags.mlflow.autologging</th>\n",
       "      <th>tags.mlflow.log-model.history</th>\n",
       "      <th>tags.mlflow.databricks.cluster.info</th>\n",
       "      <th>tags.mlflow.databricks.notebook.commandID</th>\n",
       "      <th>tags.mlflow.databricks.webappURL</th>\n",
       "      <th>tags.mlflow.databricks.cluster.libraries</th>\n",
       "      <th>tags.mlflow.databricks.notebookRevisionID</th>\n",
       "      <th>tags.estimator_class</th>\n",
       "      <th>tags.estimator_name</th>\n",
       "    </tr>\n",
       "  </thead>\n",
       "  <tbody>\n",
       "    <tr>\n",
       "      <th>0</th>\n",
       "      <td>1770d7bb58bd442a9e4fb7c37374a01e</td>\n",
       "      <td>1452363639079685</td>\n",
       "      <td>FINISHED</td>\n",
       "      <td>dbfs:/databricks/mlflow-tracking/1452363639079...</td>\n",
       "      <td>2022-04-18 00:18:06.774000+00:00</td>\n",
       "      <td>2022-04-18 00:18:09.476000+00:00</td>\n",
       "      <td>NaN</td>\n",
       "      <td>NaN</td>\n",
       "      <td>NaN</td>\n",
       "      <td>NaN</td>\n",
       "      <td>NaN</td>\n",
       "      <td>NaN</td>\n",
       "      <td>NaN</td>\n",
       "      <td>NaN</td>\n",
       "      <td>200000</td>\n",
       "      <td>-1</td>\n",
       "      <td>gbdt</td>\n",
       "      <td>False</td>\n",
       "      <td>None</td>\n",
       "      <td>0</td>\n",
       "      <td>None</td>\n",
       "      <td>1.0</td>\n",
       "      <td>1</td>\n",
       "      <td>0.001</td>\n",
       "      <td>0.0</td>\n",
       "      <td>20</td>\n",
       "      <td>910</td>\n",
       "      <td>feature</td>\n",
       "      <td>auto</td>\n",
       "      <td>2</td>\n",
       "      <td>['average_precision']</td>\n",
       "      <td>-1</td>\n",
       "      <td>warn</td>\n",
       "      <td>0.0</td>\n",
       "      <td>1.0</td>\n",
       "      <td>binary</td>\n",
       "      <td>None</td>\n",
       "      <td>auto</td>\n",
       "      <td>18</td>\n",
       "      <td>0.02500001</td>\n",
       "      <td>...</td>\n",
       "      <td>None</td>\n",
       "      <td>None</td>\n",
       "      <td>None</td>\n",
       "      <td>None</td>\n",
       "      <td>None</td>\n",
       "      <td>None</td>\n",
       "      <td>None</td>\n",
       "      <td>None</td>\n",
       "      <td>None</td>\n",
       "      <td>None</td>\n",
       "      <td>None</td>\n",
       "      <td>None</td>\n",
       "      <td>None</td>\n",
       "      <td>None</td>\n",
       "      <td>None</td>\n",
       "      <td>None</td>\n",
       "      <td>None</td>\n",
       "      <td>None</td>\n",
       "      <td>None</td>\n",
       "      <td>None</td>\n",
       "      <td>None</td>\n",
       "      <td>None</td>\n",
       "      <td>None</td>\n",
       "      <td>0417-225212-v1ch2xxi</td>\n",
       "      <td>dany.stefan@mail.mcgill.ca</td>\n",
       "      <td>1962064964953307</td>\n",
       "      <td>adb-1962064964953307.7.azuredatabricks.net</td>\n",
       "      <td>/Users/dany.stefan@mail.mcgill.ca/ProductionCo...</td>\n",
       "      <td>/Users/dany.stefan@mail.mcgill.ca/ProductionCo...</td>\n",
       "      <td>1452363639079685</td>\n",
       "      <td>NOTEBOOK</td>\n",
       "      <td>lightgbm</td>\n",
       "      <td>[{\"artifact_path\":\"model\",\"signature\":{\"inputs...</td>\n",
       "      <td>{\"cluster_name\":\"INSY_695_cluster\",\"spark_vers...</td>\n",
       "      <td>2323102042788931009_7549896367611906941_046585...</td>\n",
       "      <td>https://canadacentral.azuredatabricks.net</td>\n",
       "      <td>{\"installable\":[{\"pypi\":{\"package\":\"mlflow\"}},...</td>\n",
       "      <td>None</td>\n",
       "      <td>None</td>\n",
       "      <td>None</td>\n",
       "    </tr>\n",
       "    <tr>\n",
       "      <th>1</th>\n",
       "      <td>23b0297d90864d7f8308d2d6c39ece01</td>\n",
       "      <td>1452363639079685</td>\n",
       "      <td>FINISHED</td>\n",
       "      <td>dbfs:/databricks/mlflow-tracking/1452363639079...</td>\n",
       "      <td>2022-04-18 00:18:01.694000+00:00</td>\n",
       "      <td>2022-04-18 00:18:06.659000+00:00</td>\n",
       "      <td>0.783422</td>\n",
       "      <td>NaN</td>\n",
       "      <td>NaN</td>\n",
       "      <td>NaN</td>\n",
       "      <td>NaN</td>\n",
       "      <td>NaN</td>\n",
       "      <td>NaN</td>\n",
       "      <td>NaN</td>\n",
       "      <td>200000</td>\n",
       "      <td>-1</td>\n",
       "      <td>gbdt</td>\n",
       "      <td>False</td>\n",
       "      <td>None</td>\n",
       "      <td>0</td>\n",
       "      <td>None</td>\n",
       "      <td>1.0</td>\n",
       "      <td>46</td>\n",
       "      <td>0.001</td>\n",
       "      <td>0.0</td>\n",
       "      <td>20</td>\n",
       "      <td>420</td>\n",
       "      <td>data</td>\n",
       "      <td>auto</td>\n",
       "      <td>44</td>\n",
       "      <td>['mape']</td>\n",
       "      <td>-1</td>\n",
       "      <td>warn</td>\n",
       "      <td>0.0</td>\n",
       "      <td>1.0</td>\n",
       "      <td>binary</td>\n",
       "      <td>None</td>\n",
       "      <td>auto</td>\n",
       "      <td>9</td>\n",
       "      <td>0.020000010000000002</td>\n",
       "      <td>...</td>\n",
       "      <td>None</td>\n",
       "      <td>None</td>\n",
       "      <td>None</td>\n",
       "      <td>None</td>\n",
       "      <td>None</td>\n",
       "      <td>None</td>\n",
       "      <td>None</td>\n",
       "      <td>None</td>\n",
       "      <td>None</td>\n",
       "      <td>None</td>\n",
       "      <td>None</td>\n",
       "      <td>None</td>\n",
       "      <td>None</td>\n",
       "      <td>None</td>\n",
       "      <td>None</td>\n",
       "      <td>None</td>\n",
       "      <td>None</td>\n",
       "      <td>None</td>\n",
       "      <td>None</td>\n",
       "      <td>None</td>\n",
       "      <td>None</td>\n",
       "      <td>None</td>\n",
       "      <td>None</td>\n",
       "      <td>0417-225212-v1ch2xxi</td>\n",
       "      <td>dany.stefan@mail.mcgill.ca</td>\n",
       "      <td>1962064964953307</td>\n",
       "      <td>adb-1962064964953307.7.azuredatabricks.net</td>\n",
       "      <td>/Users/dany.stefan@mail.mcgill.ca/ProductionCo...</td>\n",
       "      <td>/Users/dany.stefan@mail.mcgill.ca/ProductionCo...</td>\n",
       "      <td>1452363639079685</td>\n",
       "      <td>NOTEBOOK</td>\n",
       "      <td>None</td>\n",
       "      <td>[{\"artifact_path\":\"model\",\"signature\":{\"inputs...</td>\n",
       "      <td>{\"cluster_name\":\"INSY_695_cluster\",\"spark_vers...</td>\n",
       "      <td>2323102042788931009_7549896367611906941_046585...</td>\n",
       "      <td>https://canadacentral.azuredatabricks.net</td>\n",
       "      <td>{\"installable\":[{\"pypi\":{\"package\":\"mlflow\"}},...</td>\n",
       "      <td>1650241086813</td>\n",
       "      <td>None</td>\n",
       "      <td>None</td>\n",
       "    </tr>\n",
       "    <tr>\n",
       "      <th>2</th>\n",
       "      <td>208df67fb8fb4c64be2a8676ab87cec5</td>\n",
       "      <td>1452363639079685</td>\n",
       "      <td>FINISHED</td>\n",
       "      <td>dbfs:/databricks/mlflow-tracking/1452363639079...</td>\n",
       "      <td>2022-04-18 00:17:56.684000+00:00</td>\n",
       "      <td>2022-04-18 00:18:01.540000+00:00</td>\n",
       "      <td>0.764706</td>\n",
       "      <td>NaN</td>\n",
       "      <td>NaN</td>\n",
       "      <td>NaN</td>\n",
       "      <td>NaN</td>\n",
       "      <td>NaN</td>\n",
       "      <td>NaN</td>\n",
       "      <td>NaN</td>\n",
       "      <td>200000</td>\n",
       "      <td>-1</td>\n",
       "      <td>gbdt</td>\n",
       "      <td>False</td>\n",
       "      <td>None</td>\n",
       "      <td>0</td>\n",
       "      <td>None</td>\n",
       "      <td>1.0</td>\n",
       "      <td>1</td>\n",
       "      <td>0.001</td>\n",
       "      <td>0.0</td>\n",
       "      <td>20</td>\n",
       "      <td>990</td>\n",
       "      <td>feature</td>\n",
       "      <td>auto</td>\n",
       "      <td>16</td>\n",
       "      <td>['mape']</td>\n",
       "      <td>-1</td>\n",
       "      <td>warn</td>\n",
       "      <td>0.0</td>\n",
       "      <td>1.0</td>\n",
       "      <td>binary</td>\n",
       "      <td>None</td>\n",
       "      <td>auto</td>\n",
       "      <td>11</td>\n",
       "      <td>0.02500001</td>\n",
       "      <td>...</td>\n",
       "      <td>None</td>\n",
       "      <td>None</td>\n",
       "      <td>None</td>\n",
       "      <td>None</td>\n",
       "      <td>None</td>\n",
       "      <td>None</td>\n",
       "      <td>None</td>\n",
       "      <td>None</td>\n",
       "      <td>None</td>\n",
       "      <td>None</td>\n",
       "      <td>None</td>\n",
       "      <td>None</td>\n",
       "      <td>None</td>\n",
       "      <td>None</td>\n",
       "      <td>None</td>\n",
       "      <td>None</td>\n",
       "      <td>None</td>\n",
       "      <td>None</td>\n",
       "      <td>None</td>\n",
       "      <td>None</td>\n",
       "      <td>None</td>\n",
       "      <td>None</td>\n",
       "      <td>None</td>\n",
       "      <td>0417-225212-v1ch2xxi</td>\n",
       "      <td>dany.stefan@mail.mcgill.ca</td>\n",
       "      <td>1962064964953307</td>\n",
       "      <td>adb-1962064964953307.7.azuredatabricks.net</td>\n",
       "      <td>/Users/dany.stefan@mail.mcgill.ca/ProductionCo...</td>\n",
       "      <td>/Users/dany.stefan@mail.mcgill.ca/ProductionCo...</td>\n",
       "      <td>1452363639079685</td>\n",
       "      <td>NOTEBOOK</td>\n",
       "      <td>None</td>\n",
       "      <td>[{\"artifact_path\":\"model\",\"signature\":{\"inputs...</td>\n",
       "      <td>{\"cluster_name\":\"INSY_695_cluster\",\"spark_vers...</td>\n",
       "      <td>2323102042788931009_7549896367611906941_046585...</td>\n",
       "      <td>https://canadacentral.azuredatabricks.net</td>\n",
       "      <td>{\"installable\":[{\"pypi\":{\"package\":\"mlflow\"}},...</td>\n",
       "      <td>1650241081672</td>\n",
       "      <td>None</td>\n",
       "      <td>None</td>\n",
       "    </tr>\n",
       "    <tr>\n",
       "      <th>3</th>\n",
       "      <td>414fe4d2bedf4e4096ea47f703e72a00</td>\n",
       "      <td>1452363639079685</td>\n",
       "      <td>FINISHED</td>\n",
       "      <td>dbfs:/databricks/mlflow-tracking/1452363639079...</td>\n",
       "      <td>2022-04-18 00:17:51.544000+00:00</td>\n",
       "      <td>2022-04-18 00:17:56.540000+00:00</td>\n",
       "      <td>0.820856</td>\n",
       "      <td>NaN</td>\n",
       "      <td>NaN</td>\n",
       "      <td>NaN</td>\n",
       "      <td>NaN</td>\n",
       "      <td>NaN</td>\n",
       "      <td>NaN</td>\n",
       "      <td>NaN</td>\n",
       "      <td>200000</td>\n",
       "      <td>-1</td>\n",
       "      <td>gbdt</td>\n",
       "      <td>False</td>\n",
       "      <td>None</td>\n",
       "      <td>0</td>\n",
       "      <td>None</td>\n",
       "      <td>1.0</td>\n",
       "      <td>23</td>\n",
       "      <td>0.001</td>\n",
       "      <td>0.0</td>\n",
       "      <td>20</td>\n",
       "      <td>750</td>\n",
       "      <td>feature</td>\n",
       "      <td>auto</td>\n",
       "      <td>25</td>\n",
       "      <td>['cross_entropy_lambda']</td>\n",
       "      <td>-1</td>\n",
       "      <td>warn</td>\n",
       "      <td>0.0</td>\n",
       "      <td>1.0</td>\n",
       "      <td>binary</td>\n",
       "      <td>None</td>\n",
       "      <td>auto</td>\n",
       "      <td>2</td>\n",
       "      <td>0.01500001</td>\n",
       "      <td>...</td>\n",
       "      <td>None</td>\n",
       "      <td>None</td>\n",
       "      <td>None</td>\n",
       "      <td>None</td>\n",
       "      <td>None</td>\n",
       "      <td>None</td>\n",
       "      <td>None</td>\n",
       "      <td>None</td>\n",
       "      <td>None</td>\n",
       "      <td>None</td>\n",
       "      <td>None</td>\n",
       "      <td>None</td>\n",
       "      <td>None</td>\n",
       "      <td>None</td>\n",
       "      <td>None</td>\n",
       "      <td>None</td>\n",
       "      <td>None</td>\n",
       "      <td>None</td>\n",
       "      <td>None</td>\n",
       "      <td>None</td>\n",
       "      <td>None</td>\n",
       "      <td>None</td>\n",
       "      <td>None</td>\n",
       "      <td>0417-225212-v1ch2xxi</td>\n",
       "      <td>dany.stefan@mail.mcgill.ca</td>\n",
       "      <td>1962064964953307</td>\n",
       "      <td>adb-1962064964953307.7.azuredatabricks.net</td>\n",
       "      <td>/Users/dany.stefan@mail.mcgill.ca/ProductionCo...</td>\n",
       "      <td>/Users/dany.stefan@mail.mcgill.ca/ProductionCo...</td>\n",
       "      <td>1452363639079685</td>\n",
       "      <td>NOTEBOOK</td>\n",
       "      <td>None</td>\n",
       "      <td>[{\"artifact_path\":\"model\",\"signature\":{\"inputs...</td>\n",
       "      <td>{\"cluster_name\":\"INSY_695_cluster\",\"spark_vers...</td>\n",
       "      <td>2323102042788931009_7549896367611906941_046585...</td>\n",
       "      <td>https://canadacentral.azuredatabricks.net</td>\n",
       "      <td>{\"installable\":[{\"pypi\":{\"package\":\"mlflow\"}},...</td>\n",
       "      <td>1650241076693</td>\n",
       "      <td>None</td>\n",
       "      <td>None</td>\n",
       "    </tr>\n",
       "    <tr>\n",
       "      <th>4</th>\n",
       "      <td>43d56886779243ccb461512ea566e26b</td>\n",
       "      <td>1452363639079685</td>\n",
       "      <td>FINISHED</td>\n",
       "      <td>dbfs:/databricks/mlflow-tracking/1452363639079...</td>\n",
       "      <td>2022-04-18 00:17:46.573000+00:00</td>\n",
       "      <td>2022-04-18 00:17:51.392000+00:00</td>\n",
       "      <td>0.703209</td>\n",
       "      <td>NaN</td>\n",
       "      <td>NaN</td>\n",
       "      <td>NaN</td>\n",
       "      <td>NaN</td>\n",
       "      <td>NaN</td>\n",
       "      <td>NaN</td>\n",
       "      <td>NaN</td>\n",
       "      <td>200000</td>\n",
       "      <td>-1</td>\n",
       "      <td>gbdt</td>\n",
       "      <td>False</td>\n",
       "      <td>None</td>\n",
       "      <td>0</td>\n",
       "      <td>None</td>\n",
       "      <td>1.0</td>\n",
       "      <td>26</td>\n",
       "      <td>0.001</td>\n",
       "      <td>0.0</td>\n",
       "      <td>20</td>\n",
       "      <td>390</td>\n",
       "      <td>feature</td>\n",
       "      <td>auto</td>\n",
       "      <td>26</td>\n",
       "      <td>['cross_entropy']</td>\n",
       "      <td>-1</td>\n",
       "      <td>warn</td>\n",
       "      <td>0.0</td>\n",
       "      <td>1.0</td>\n",
       "      <td>binary</td>\n",
       "      <td>None</td>\n",
       "      <td>auto</td>\n",
       "      <td>6</td>\n",
       "      <td>0.01500001</td>\n",
       "      <td>...</td>\n",
       "      <td>None</td>\n",
       "      <td>None</td>\n",
       "      <td>None</td>\n",
       "      <td>None</td>\n",
       "      <td>None</td>\n",
       "      <td>None</td>\n",
       "      <td>None</td>\n",
       "      <td>None</td>\n",
       "      <td>None</td>\n",
       "      <td>None</td>\n",
       "      <td>None</td>\n",
       "      <td>None</td>\n",
       "      <td>None</td>\n",
       "      <td>None</td>\n",
       "      <td>None</td>\n",
       "      <td>None</td>\n",
       "      <td>None</td>\n",
       "      <td>None</td>\n",
       "      <td>None</td>\n",
       "      <td>None</td>\n",
       "      <td>None</td>\n",
       "      <td>None</td>\n",
       "      <td>None</td>\n",
       "      <td>0417-225212-v1ch2xxi</td>\n",
       "      <td>dany.stefan@mail.mcgill.ca</td>\n",
       "      <td>1962064964953307</td>\n",
       "      <td>adb-1962064964953307.7.azuredatabricks.net</td>\n",
       "      <td>/Users/dany.stefan@mail.mcgill.ca/ProductionCo...</td>\n",
       "      <td>/Users/dany.stefan@mail.mcgill.ca/ProductionCo...</td>\n",
       "      <td>1452363639079685</td>\n",
       "      <td>NOTEBOOK</td>\n",
       "      <td>None</td>\n",
       "      <td>[{\"artifact_path\":\"model\",\"signature\":{\"inputs...</td>\n",
       "      <td>{\"cluster_name\":\"INSY_695_cluster\",\"spark_vers...</td>\n",
       "      <td>2323102042788931009_7549896367611906941_046585...</td>\n",
       "      <td>https://canadacentral.azuredatabricks.net</td>\n",
       "      <td>{\"installable\":[{\"pypi\":{\"package\":\"mlflow\"}},...</td>\n",
       "      <td>1650241071516</td>\n",
       "      <td>None</td>\n",
       "      <td>None</td>\n",
       "    </tr>\n",
       "    <tr>\n",
       "      <th>5</th>\n",
       "      <td>e6d73c1f21b249208cb646c917fadf39</td>\n",
       "      <td>1452363639079685</td>\n",
       "      <td>FINISHED</td>\n",
       "      <td>dbfs:/databricks/mlflow-tracking/1452363639079...</td>\n",
       "      <td>2022-04-18 00:17:41.530000+00:00</td>\n",
       "      <td>2022-04-18 00:17:46.425000+00:00</td>\n",
       "      <td>0.689840</td>\n",
       "      <td>NaN</td>\n",
       "      <td>NaN</td>\n",
       "      <td>NaN</td>\n",
       "      <td>NaN</td>\n",
       "      <td>NaN</td>\n",
       "      <td>NaN</td>\n",
       "      <td>NaN</td>\n",
       "      <td>200000</td>\n",
       "      <td>-1</td>\n",
       "      <td>gbdt</td>\n",
       "      <td>False</td>\n",
       "      <td>None</td>\n",
       "      <td>0</td>\n",
       "      <td>None</td>\n",
       "      <td>1.0</td>\n",
       "      <td>29</td>\n",
       "      <td>0.001</td>\n",
       "      <td>0.0</td>\n",
       "      <td>20</td>\n",
       "      <td>870</td>\n",
       "      <td>voting</td>\n",
       "      <td>auto</td>\n",
       "      <td>32</td>\n",
       "      <td>['huber']</td>\n",
       "      <td>-1</td>\n",
       "      <td>warn</td>\n",
       "      <td>0.0</td>\n",
       "      <td>1.0</td>\n",
       "      <td>binary</td>\n",
       "      <td>None</td>\n",
       "      <td>auto</td>\n",
       "      <td>6</td>\n",
       "      <td>0.020000010000000002</td>\n",
       "      <td>...</td>\n",
       "      <td>None</td>\n",
       "      <td>None</td>\n",
       "      <td>None</td>\n",
       "      <td>None</td>\n",
       "      <td>None</td>\n",
       "      <td>None</td>\n",
       "      <td>None</td>\n",
       "      <td>None</td>\n",
       "      <td>None</td>\n",
       "      <td>None</td>\n",
       "      <td>None</td>\n",
       "      <td>None</td>\n",
       "      <td>None</td>\n",
       "      <td>None</td>\n",
       "      <td>None</td>\n",
       "      <td>None</td>\n",
       "      <td>None</td>\n",
       "      <td>None</td>\n",
       "      <td>None</td>\n",
       "      <td>None</td>\n",
       "      <td>None</td>\n",
       "      <td>None</td>\n",
       "      <td>None</td>\n",
       "      <td>0417-225212-v1ch2xxi</td>\n",
       "      <td>dany.stefan@mail.mcgill.ca</td>\n",
       "      <td>1962064964953307</td>\n",
       "      <td>adb-1962064964953307.7.azuredatabricks.net</td>\n",
       "      <td>/Users/dany.stefan@mail.mcgill.ca/ProductionCo...</td>\n",
       "      <td>/Users/dany.stefan@mail.mcgill.ca/ProductionCo...</td>\n",
       "      <td>1452363639079685</td>\n",
       "      <td>NOTEBOOK</td>\n",
       "      <td>None</td>\n",
       "      <td>[{\"artifact_path\":\"model\",\"signature\":{\"inputs...</td>\n",
       "      <td>{\"cluster_name\":\"INSY_695_cluster\",\"spark_vers...</td>\n",
       "      <td>2323102042788931009_7549896367611906941_046585...</td>\n",
       "      <td>https://canadacentral.azuredatabricks.net</td>\n",
       "      <td>{\"installable\":[{\"pypi\":{\"package\":\"mlflow\"}},...</td>\n",
       "      <td>1650241066548</td>\n",
       "      <td>None</td>\n",
       "      <td>None</td>\n",
       "    </tr>\n",
       "    <tr>\n",
       "      <th>6</th>\n",
       "      <td>fecba01e4f8e45c6a3c203cf23b418fc</td>\n",
       "      <td>1452363639079685</td>\n",
       "      <td>FINISHED</td>\n",
       "      <td>dbfs:/databricks/mlflow-tracking/1452363639079...</td>\n",
       "      <td>2022-04-18 00:17:36.627000+00:00</td>\n",
       "      <td>2022-04-18 00:17:41.381000+00:00</td>\n",
       "      <td>1.000000</td>\n",
       "      <td>NaN</td>\n",
       "      <td>NaN</td>\n",
       "      <td>NaN</td>\n",
       "      <td>NaN</td>\n",
       "      <td>NaN</td>\n",
       "      <td>NaN</td>\n",
       "      <td>NaN</td>\n",
       "      <td>200000</td>\n",
       "      <td>-1</td>\n",
       "      <td>gbdt</td>\n",
       "      <td>False</td>\n",
       "      <td>None</td>\n",
       "      <td>0</td>\n",
       "      <td>None</td>\n",
       "      <td>1.0</td>\n",
       "      <td>4</td>\n",
       "      <td>0.001</td>\n",
       "      <td>0.0</td>\n",
       "      <td>20</td>\n",
       "      <td>620</td>\n",
       "      <td>feature</td>\n",
       "      <td>auto</td>\n",
       "      <td>1</td>\n",
       "      <td>['l2']</td>\n",
       "      <td>-1</td>\n",
       "      <td>warn</td>\n",
       "      <td>0.0</td>\n",
       "      <td>1.0</td>\n",
       "      <td>binary</td>\n",
       "      <td>None</td>\n",
       "      <td>auto</td>\n",
       "      <td>20</td>\n",
       "      <td>0.02500001</td>\n",
       "      <td>...</td>\n",
       "      <td>None</td>\n",
       "      <td>None</td>\n",
       "      <td>None</td>\n",
       "      <td>None</td>\n",
       "      <td>None</td>\n",
       "      <td>None</td>\n",
       "      <td>None</td>\n",
       "      <td>None</td>\n",
       "      <td>None</td>\n",
       "      <td>None</td>\n",
       "      <td>None</td>\n",
       "      <td>None</td>\n",
       "      <td>None</td>\n",
       "      <td>None</td>\n",
       "      <td>None</td>\n",
       "      <td>None</td>\n",
       "      <td>None</td>\n",
       "      <td>None</td>\n",
       "      <td>None</td>\n",
       "      <td>None</td>\n",
       "      <td>None</td>\n",
       "      <td>None</td>\n",
       "      <td>None</td>\n",
       "      <td>0417-225212-v1ch2xxi</td>\n",
       "      <td>dany.stefan@mail.mcgill.ca</td>\n",
       "      <td>1962064964953307</td>\n",
       "      <td>adb-1962064964953307.7.azuredatabricks.net</td>\n",
       "      <td>/Users/dany.stefan@mail.mcgill.ca/ProductionCo...</td>\n",
       "      <td>/Users/dany.stefan@mail.mcgill.ca/ProductionCo...</td>\n",
       "      <td>1452363639079685</td>\n",
       "      <td>NOTEBOOK</td>\n",
       "      <td>None</td>\n",
       "      <td>[{\"artifact_path\":\"model\",\"signature\":{\"inputs...</td>\n",
       "      <td>{\"cluster_name\":\"INSY_695_cluster\",\"spark_vers...</td>\n",
       "      <td>2323102042788931009_7549896367611906941_046585...</td>\n",
       "      <td>https://canadacentral.azuredatabricks.net</td>\n",
       "      <td>{\"installable\":[{\"pypi\":{\"package\":\"mlflow\"}},...</td>\n",
       "      <td>1650241061541</td>\n",
       "      <td>None</td>\n",
       "      <td>None</td>\n",
       "    </tr>\n",
       "    <tr>\n",
       "      <th>7</th>\n",
       "      <td>7bcfb02a50c24ef8b27bf7aa2e383e53</td>\n",
       "      <td>1452363639079685</td>\n",
       "      <td>FINISHED</td>\n",
       "      <td>dbfs:/databricks/mlflow-tracking/1452363639079...</td>\n",
       "      <td>2022-04-18 00:17:31.638000+00:00</td>\n",
       "      <td>2022-04-18 00:17:36.479000+00:00</td>\n",
       "      <td>0.764706</td>\n",
       "      <td>NaN</td>\n",
       "      <td>NaN</td>\n",
       "      <td>NaN</td>\n",
       "      <td>NaN</td>\n",
       "      <td>NaN</td>\n",
       "      <td>NaN</td>\n",
       "      <td>NaN</td>\n",
       "      <td>200000</td>\n",
       "      <td>-1</td>\n",
       "      <td>gbdt</td>\n",
       "      <td>False</td>\n",
       "      <td>None</td>\n",
       "      <td>0</td>\n",
       "      <td>None</td>\n",
       "      <td>1.0</td>\n",
       "      <td>1</td>\n",
       "      <td>0.001</td>\n",
       "      <td>0.0</td>\n",
       "      <td>20</td>\n",
       "      <td>1000</td>\n",
       "      <td>feature</td>\n",
       "      <td>auto</td>\n",
       "      <td>4</td>\n",
       "      <td>['mape']</td>\n",
       "      <td>-1</td>\n",
       "      <td>warn</td>\n",
       "      <td>0.0</td>\n",
       "      <td>1.0</td>\n",
       "      <td>binary</td>\n",
       "      <td>None</td>\n",
       "      <td>auto</td>\n",
       "      <td>18</td>\n",
       "      <td>0.02500001</td>\n",
       "      <td>...</td>\n",
       "      <td>None</td>\n",
       "      <td>None</td>\n",
       "      <td>None</td>\n",
       "      <td>None</td>\n",
       "      <td>None</td>\n",
       "      <td>None</td>\n",
       "      <td>None</td>\n",
       "      <td>None</td>\n",
       "      <td>None</td>\n",
       "      <td>None</td>\n",
       "      <td>None</td>\n",
       "      <td>None</td>\n",
       "      <td>None</td>\n",
       "      <td>None</td>\n",
       "      <td>None</td>\n",
       "      <td>None</td>\n",
       "      <td>None</td>\n",
       "      <td>None</td>\n",
       "      <td>None</td>\n",
       "      <td>None</td>\n",
       "      <td>None</td>\n",
       "      <td>None</td>\n",
       "      <td>None</td>\n",
       "      <td>0417-225212-v1ch2xxi</td>\n",
       "      <td>dany.stefan@mail.mcgill.ca</td>\n",
       "      <td>1962064964953307</td>\n",
       "      <td>adb-1962064964953307.7.azuredatabricks.net</td>\n",
       "      <td>/Users/dany.stefan@mail.mcgill.ca/ProductionCo...</td>\n",
       "      <td>/Users/dany.stefan@mail.mcgill.ca/ProductionCo...</td>\n",
       "      <td>1452363639079685</td>\n",
       "      <td>NOTEBOOK</td>\n",
       "      <td>None</td>\n",
       "      <td>[{\"artifact_path\":\"model\",\"signature\":{\"inputs...</td>\n",
       "      <td>{\"cluster_name\":\"INSY_695_cluster\",\"spark_vers...</td>\n",
       "      <td>2323102042788931009_7549896367611906941_046585...</td>\n",
       "      <td>https://canadacentral.azuredatabricks.net</td>\n",
       "      <td>{\"installable\":[{\"pypi\":{\"package\":\"mlflow\"}},...</td>\n",
       "      <td>1650241056637</td>\n",
       "      <td>None</td>\n",
       "      <td>None</td>\n",
       "    </tr>\n",
       "    <tr>\n",
       "      <th>8</th>\n",
       "      <td>51cbf650b3e04c549e012f001fbef671</td>\n",
       "      <td>1452363639079685</td>\n",
       "      <td>FINISHED</td>\n",
       "      <td>dbfs:/databricks/mlflow-tracking/1452363639079...</td>\n",
       "      <td>2022-04-18 00:17:26.767000+00:00</td>\n",
       "      <td>2022-04-18 00:17:31.480000+00:00</td>\n",
       "      <td>0.764706</td>\n",
       "      <td>NaN</td>\n",
       "      <td>NaN</td>\n",
       "      <td>NaN</td>\n",
       "      <td>NaN</td>\n",
       "      <td>NaN</td>\n",
       "      <td>NaN</td>\n",
       "      <td>NaN</td>\n",
       "      <td>200000</td>\n",
       "      <td>-1</td>\n",
       "      <td>gbdt</td>\n",
       "      <td>False</td>\n",
       "      <td>None</td>\n",
       "      <td>0</td>\n",
       "      <td>None</td>\n",
       "      <td>1.0</td>\n",
       "      <td>1</td>\n",
       "      <td>0.001</td>\n",
       "      <td>0.0</td>\n",
       "      <td>20</td>\n",
       "      <td>1000</td>\n",
       "      <td>feature</td>\n",
       "      <td>auto</td>\n",
       "      <td>4</td>\n",
       "      <td>['average_precision']</td>\n",
       "      <td>-1</td>\n",
       "      <td>warn</td>\n",
       "      <td>0.0</td>\n",
       "      <td>1.0</td>\n",
       "      <td>binary</td>\n",
       "      <td>None</td>\n",
       "      <td>auto</td>\n",
       "      <td>20</td>\n",
       "      <td>0.02500001</td>\n",
       "      <td>...</td>\n",
       "      <td>None</td>\n",
       "      <td>None</td>\n",
       "      <td>None</td>\n",
       "      <td>None</td>\n",
       "      <td>None</td>\n",
       "      <td>None</td>\n",
       "      <td>None</td>\n",
       "      <td>None</td>\n",
       "      <td>None</td>\n",
       "      <td>None</td>\n",
       "      <td>None</td>\n",
       "      <td>None</td>\n",
       "      <td>None</td>\n",
       "      <td>None</td>\n",
       "      <td>None</td>\n",
       "      <td>None</td>\n",
       "      <td>None</td>\n",
       "      <td>None</td>\n",
       "      <td>None</td>\n",
       "      <td>None</td>\n",
       "      <td>None</td>\n",
       "      <td>None</td>\n",
       "      <td>None</td>\n",
       "      <td>0417-225212-v1ch2xxi</td>\n",
       "      <td>dany.stefan@mail.mcgill.ca</td>\n",
       "      <td>1962064964953307</td>\n",
       "      <td>adb-1962064964953307.7.azuredatabricks.net</td>\n",
       "      <td>/Users/dany.stefan@mail.mcgill.ca/ProductionCo...</td>\n",
       "      <td>/Users/dany.stefan@mail.mcgill.ca/ProductionCo...</td>\n",
       "      <td>1452363639079685</td>\n",
       "      <td>NOTEBOOK</td>\n",
       "      <td>None</td>\n",
       "      <td>[{\"artifact_path\":\"model\",\"signature\":{\"inputs...</td>\n",
       "      <td>{\"cluster_name\":\"INSY_695_cluster\",\"spark_vers...</td>\n",
       "      <td>2323102042788931009_7549896367611906941_046585...</td>\n",
       "      <td>https://canadacentral.azuredatabricks.net</td>\n",
       "      <td>{\"installable\":[{\"pypi\":{\"package\":\"mlflow\"}},...</td>\n",
       "      <td>1650241051644</td>\n",
       "      <td>None</td>\n",
       "      <td>None</td>\n",
       "    </tr>\n",
       "    <tr>\n",
       "      <th>9</th>\n",
       "      <td>7d332a20dd694221aebb65253b427080</td>\n",
       "      <td>1452363639079685</td>\n",
       "      <td>FINISHED</td>\n",
       "      <td>dbfs:/databricks/mlflow-tracking/1452363639079...</td>\n",
       "      <td>2022-04-18 00:17:21.812000+00:00</td>\n",
       "      <td>2022-04-18 00:17:26.619000+00:00</td>\n",
       "      <td>0.764706</td>\n",
       "      <td>NaN</td>\n",
       "      <td>NaN</td>\n",
       "      <td>NaN</td>\n",
       "      <td>NaN</td>\n",
       "      <td>NaN</td>\n",
       "      <td>NaN</td>\n",
       "      <td>NaN</td>\n",
       "      <td>200000</td>\n",
       "      <td>-1</td>\n",
       "      <td>gbdt</td>\n",
       "      <td>False</td>\n",
       "      <td>None</td>\n",
       "      <td>0</td>\n",
       "      <td>None</td>\n",
       "      <td>1.0</td>\n",
       "      <td>1</td>\n",
       "      <td>0.001</td>\n",
       "      <td>0.0</td>\n",
       "      <td>20</td>\n",
       "      <td>910</td>\n",
       "      <td>feature</td>\n",
       "      <td>auto</td>\n",
       "      <td>2</td>\n",
       "      <td>['average_precision']</td>\n",
       "      <td>-1</td>\n",
       "      <td>warn</td>\n",
       "      <td>0.0</td>\n",
       "      <td>1.0</td>\n",
       "      <td>binary</td>\n",
       "      <td>None</td>\n",
       "      <td>auto</td>\n",
       "      <td>18</td>\n",
       "      <td>0.02500001</td>\n",
       "      <td>...</td>\n",
       "      <td>None</td>\n",
       "      <td>None</td>\n",
       "      <td>None</td>\n",
       "      <td>None</td>\n",
       "      <td>None</td>\n",
       "      <td>None</td>\n",
       "      <td>None</td>\n",
       "      <td>None</td>\n",
       "      <td>None</td>\n",
       "      <td>None</td>\n",
       "      <td>None</td>\n",
       "      <td>None</td>\n",
       "      <td>None</td>\n",
       "      <td>None</td>\n",
       "      <td>None</td>\n",
       "      <td>None</td>\n",
       "      <td>None</td>\n",
       "      <td>None</td>\n",
       "      <td>None</td>\n",
       "      <td>None</td>\n",
       "      <td>None</td>\n",
       "      <td>None</td>\n",
       "      <td>None</td>\n",
       "      <td>0417-225212-v1ch2xxi</td>\n",
       "      <td>dany.stefan@mail.mcgill.ca</td>\n",
       "      <td>1962064964953307</td>\n",
       "      <td>adb-1962064964953307.7.azuredatabricks.net</td>\n",
       "      <td>/Users/dany.stefan@mail.mcgill.ca/ProductionCo...</td>\n",
       "      <td>/Users/dany.stefan@mail.mcgill.ca/ProductionCo...</td>\n",
       "      <td>1452363639079685</td>\n",
       "      <td>NOTEBOOK</td>\n",
       "      <td>None</td>\n",
       "      <td>[{\"artifact_path\":\"model\",\"signature\":{\"inputs...</td>\n",
       "      <td>{\"cluster_name\":\"INSY_695_cluster\",\"spark_vers...</td>\n",
       "      <td>2323102042788931009_7549896367611906941_046585...</td>\n",
       "      <td>https://canadacentral.azuredatabricks.net</td>\n",
       "      <td>{\"installable\":[{\"pypi\":{\"package\":\"mlflow\"}},...</td>\n",
       "      <td>1650241046781</td>\n",
       "      <td>None</td>\n",
       "      <td>None</td>\n",
       "    </tr>\n",
       "  </tbody>\n",
       "</table>\n",
       "<p>10 rows × 107 columns</p>\n",
       "</div>"
      ]
     },
     "metadata": {
      "application/vnd.databricks.v1+output": {
       "addedWidgets": {},
       "arguments": {},
       "data": "<div>\n<style scoped>\n    .dataframe tbody tr th:only-of-type {\n        vertical-align: middle;\n    }\n\n    .dataframe tbody tr th {\n        vertical-align: top;\n    }\n\n    .dataframe thead th {\n        text-align: right;\n    }\n</style>\n<table border=\"1\" class=\"dataframe\">\n  <thead>\n    <tr style=\"text-align: right;\">\n      <th></th>\n      <th>run_id</th>\n      <th>experiment_id</th>\n      <th>status</th>\n      <th>artifact_uri</th>\n      <th>start_time</th>\n      <th>end_time</th>\n      <th>metrics.recall</th>\n      <th>metrics.training_recall_score</th>\n      <th>metrics.training_precision_score</th>\n      <th>metrics.training_f1_score</th>\n      <th>metrics.training_score</th>\n      <th>metrics.training_roc_auc_score</th>\n      <th>metrics.training_accuracy_score</th>\n      <th>metrics.training_log_loss</th>\n      <th>params.subsample_for_bin</th>\n      <th>params.verbose</th>\n      <th>params.boosting_type</th>\n      <th>params.keep_training_booster</th>\n      <th>params.random_state</th>\n      <th>params.subsample_freq</th>\n      <th>params.evals_result</th>\n      <th>params.colsample_bytree</th>\n      <th>params.num_boost_round</th>\n      <th>params.min_child_weight</th>\n      <th>params.min_split_gain</th>\n      <th>params.min_child_samples</th>\n      <th>params.scale_pos_weight</th>\n      <th>params.tree_learner</th>\n      <th>params.categorical_feature</th>\n      <th>params.max_delta_step</th>\n      <th>params.metric</th>\n      <th>params.n_jobs</th>\n      <th>params.verbose_eval</th>\n      <th>params.reg_alpha</th>\n      <th>params.subsample</th>\n      <th>params.objective</th>\n      <th>params.early_stopping_rounds</th>\n      <th>params.feature_name</th>\n      <th>params.max_depth</th>\n      <th>params.learning_rate</th>\n      <th>...</th>\n      <th>params.verbosity</th>\n      <th>params.probability</th>\n      <th>params.gpu_id</th>\n      <th>params.grow_policy</th>\n      <th>params.eval_metric</th>\n      <th>params.booster</th>\n      <th>params.maximize</th>\n      <th>params.predictor</th>\n      <th>params.max_cat_to_onehot</th>\n      <th>params.validate_parameters</th>\n      <th>params.sampling_method</th>\n      <th>params.max_bin</th>\n      <th>params.metric_params</th>\n      <th>params.algorithm</th>\n      <th>params.n_neighbors</th>\n      <th>params.p</th>\n      <th>params.leaf_size</th>\n      <th>params.radius</th>\n      <th>params.bootstrap</th>\n      <th>params.max_samples</th>\n      <th>params.contamination</th>\n      <th>params.class_weight</th>\n      <th>params.oob_score</th>\n      <th>tags.mlflow.databricks.cluster.id</th>\n      <th>tags.mlflow.user</th>\n      <th>tags.mlflow.databricks.workspaceID</th>\n      <th>tags.mlflow.databricks.workspaceURL</th>\n      <th>tags.mlflow.databricks.notebookPath</th>\n      <th>tags.mlflow.source.name</th>\n      <th>tags.mlflow.databricks.notebookID</th>\n      <th>tags.mlflow.source.type</th>\n      <th>tags.mlflow.autologging</th>\n      <th>tags.mlflow.log-model.history</th>\n      <th>tags.mlflow.databricks.cluster.info</th>\n      <th>tags.mlflow.databricks.notebook.commandID</th>\n      <th>tags.mlflow.databricks.webappURL</th>\n      <th>tags.mlflow.databricks.cluster.libraries</th>\n      <th>tags.mlflow.databricks.notebookRevisionID</th>\n      <th>tags.estimator_class</th>\n      <th>tags.estimator_name</th>\n    </tr>\n  </thead>\n  <tbody>\n    <tr>\n      <th>0</th>\n      <td>1770d7bb58bd442a9e4fb7c37374a01e</td>\n      <td>1452363639079685</td>\n      <td>FINISHED</td>\n      <td>dbfs:/databricks/mlflow-tracking/1452363639079...</td>\n      <td>2022-04-18 00:18:06.774000+00:00</td>\n      <td>2022-04-18 00:18:09.476000+00:00</td>\n      <td>NaN</td>\n      <td>NaN</td>\n      <td>NaN</td>\n      <td>NaN</td>\n      <td>NaN</td>\n      <td>NaN</td>\n      <td>NaN</td>\n      <td>NaN</td>\n      <td>200000</td>\n      <td>-1</td>\n      <td>gbdt</td>\n      <td>False</td>\n      <td>None</td>\n      <td>0</td>\n      <td>None</td>\n      <td>1.0</td>\n      <td>1</td>\n      <td>0.001</td>\n      <td>0.0</td>\n      <td>20</td>\n      <td>910</td>\n      <td>feature</td>\n      <td>auto</td>\n      <td>2</td>\n      <td>['average_precision']</td>\n      <td>-1</td>\n      <td>warn</td>\n      <td>0.0</td>\n      <td>1.0</td>\n      <td>binary</td>\n      <td>None</td>\n      <td>auto</td>\n      <td>18</td>\n      <td>0.02500001</td>\n      <td>...</td>\n      <td>None</td>\n      <td>None</td>\n      <td>None</td>\n      <td>None</td>\n      <td>None</td>\n      <td>None</td>\n      <td>None</td>\n      <td>None</td>\n      <td>None</td>\n      <td>None</td>\n      <td>None</td>\n      <td>None</td>\n      <td>None</td>\n      <td>None</td>\n      <td>None</td>\n      <td>None</td>\n      <td>None</td>\n      <td>None</td>\n      <td>None</td>\n      <td>None</td>\n      <td>None</td>\n      <td>None</td>\n      <td>None</td>\n      <td>0417-225212-v1ch2xxi</td>\n      <td>dany.stefan@mail.mcgill.ca</td>\n      <td>1962064964953307</td>\n      <td>adb-1962064964953307.7.azuredatabricks.net</td>\n      <td>/Users/dany.stefan@mail.mcgill.ca/ProductionCo...</td>\n      <td>/Users/dany.stefan@mail.mcgill.ca/ProductionCo...</td>\n      <td>1452363639079685</td>\n      <td>NOTEBOOK</td>\n      <td>lightgbm</td>\n      <td>[{\"artifact_path\":\"model\",\"signature\":{\"inputs...</td>\n      <td>{\"cluster_name\":\"INSY_695_cluster\",\"spark_vers...</td>\n      <td>2323102042788931009_7549896367611906941_046585...</td>\n      <td>https://canadacentral.azuredatabricks.net</td>\n      <td>{\"installable\":[{\"pypi\":{\"package\":\"mlflow\"}},...</td>\n      <td>None</td>\n      <td>None</td>\n      <td>None</td>\n    </tr>\n    <tr>\n      <th>1</th>\n      <td>23b0297d90864d7f8308d2d6c39ece01</td>\n      <td>1452363639079685</td>\n      <td>FINISHED</td>\n      <td>dbfs:/databricks/mlflow-tracking/1452363639079...</td>\n      <td>2022-04-18 00:18:01.694000+00:00</td>\n      <td>2022-04-18 00:18:06.659000+00:00</td>\n      <td>0.783422</td>\n      <td>NaN</td>\n      <td>NaN</td>\n      <td>NaN</td>\n      <td>NaN</td>\n      <td>NaN</td>\n      <td>NaN</td>\n      <td>NaN</td>\n      <td>200000</td>\n      <td>-1</td>\n      <td>gbdt</td>\n      <td>False</td>\n      <td>None</td>\n      <td>0</td>\n      <td>None</td>\n      <td>1.0</td>\n      <td>46</td>\n      <td>0.001</td>\n      <td>0.0</td>\n      <td>20</td>\n      <td>420</td>\n      <td>data</td>\n      <td>auto</td>\n      <td>44</td>\n      <td>['mape']</td>\n      <td>-1</td>\n      <td>warn</td>\n      <td>0.0</td>\n      <td>1.0</td>\n      <td>binary</td>\n      <td>None</td>\n      <td>auto</td>\n      <td>9</td>\n      <td>0.020000010000000002</td>\n      <td>...</td>\n      <td>None</td>\n      <td>None</td>\n      <td>None</td>\n      <td>None</td>\n      <td>None</td>\n      <td>None</td>\n      <td>None</td>\n      <td>None</td>\n      <td>None</td>\n      <td>None</td>\n      <td>None</td>\n      <td>None</td>\n      <td>None</td>\n      <td>None</td>\n      <td>None</td>\n      <td>None</td>\n      <td>None</td>\n      <td>None</td>\n      <td>None</td>\n      <td>None</td>\n      <td>None</td>\n      <td>None</td>\n      <td>None</td>\n      <td>0417-225212-v1ch2xxi</td>\n      <td>dany.stefan@mail.mcgill.ca</td>\n      <td>1962064964953307</td>\n      <td>adb-1962064964953307.7.azuredatabricks.net</td>\n      <td>/Users/dany.stefan@mail.mcgill.ca/ProductionCo...</td>\n      <td>/Users/dany.stefan@mail.mcgill.ca/ProductionCo...</td>\n      <td>1452363639079685</td>\n      <td>NOTEBOOK</td>\n      <td>None</td>\n      <td>[{\"artifact_path\":\"model\",\"signature\":{\"inputs...</td>\n      <td>{\"cluster_name\":\"INSY_695_cluster\",\"spark_vers...</td>\n      <td>2323102042788931009_7549896367611906941_046585...</td>\n      <td>https://canadacentral.azuredatabricks.net</td>\n      <td>{\"installable\":[{\"pypi\":{\"package\":\"mlflow\"}},...</td>\n      <td>1650241086813</td>\n      <td>None</td>\n      <td>None</td>\n    </tr>\n    <tr>\n      <th>2</th>\n      <td>208df67fb8fb4c64be2a8676ab87cec5</td>\n      <td>1452363639079685</td>\n      <td>FINISHED</td>\n      <td>dbfs:/databricks/mlflow-tracking/1452363639079...</td>\n      <td>2022-04-18 00:17:56.684000+00:00</td>\n      <td>2022-04-18 00:18:01.540000+00:00</td>\n      <td>0.764706</td>\n      <td>NaN</td>\n      <td>NaN</td>\n      <td>NaN</td>\n      <td>NaN</td>\n      <td>NaN</td>\n      <td>NaN</td>\n      <td>NaN</td>\n      <td>200000</td>\n      <td>-1</td>\n      <td>gbdt</td>\n      <td>False</td>\n      <td>None</td>\n      <td>0</td>\n      <td>None</td>\n      <td>1.0</td>\n      <td>1</td>\n      <td>0.001</td>\n      <td>0.0</td>\n      <td>20</td>\n      <td>990</td>\n      <td>feature</td>\n      <td>auto</td>\n      <td>16</td>\n      <td>['mape']</td>\n      <td>-1</td>\n      <td>warn</td>\n      <td>0.0</td>\n      <td>1.0</td>\n      <td>binary</td>\n      <td>None</td>\n      <td>auto</td>\n      <td>11</td>\n      <td>0.02500001</td>\n      <td>...</td>\n      <td>None</td>\n      <td>None</td>\n      <td>None</td>\n      <td>None</td>\n      <td>None</td>\n      <td>None</td>\n      <td>None</td>\n      <td>None</td>\n      <td>None</td>\n      <td>None</td>\n      <td>None</td>\n      <td>None</td>\n      <td>None</td>\n      <td>None</td>\n      <td>None</td>\n      <td>None</td>\n      <td>None</td>\n      <td>None</td>\n      <td>None</td>\n      <td>None</td>\n      <td>None</td>\n      <td>None</td>\n      <td>None</td>\n      <td>0417-225212-v1ch2xxi</td>\n      <td>dany.stefan@mail.mcgill.ca</td>\n      <td>1962064964953307</td>\n      <td>adb-1962064964953307.7.azuredatabricks.net</td>\n      <td>/Users/dany.stefan@mail.mcgill.ca/ProductionCo...</td>\n      <td>/Users/dany.stefan@mail.mcgill.ca/ProductionCo...</td>\n      <td>1452363639079685</td>\n      <td>NOTEBOOK</td>\n      <td>None</td>\n      <td>[{\"artifact_path\":\"model\",\"signature\":{\"inputs...</td>\n      <td>{\"cluster_name\":\"INSY_695_cluster\",\"spark_vers...</td>\n      <td>2323102042788931009_7549896367611906941_046585...</td>\n      <td>https://canadacentral.azuredatabricks.net</td>\n      <td>{\"installable\":[{\"pypi\":{\"package\":\"mlflow\"}},...</td>\n      <td>1650241081672</td>\n      <td>None</td>\n      <td>None</td>\n    </tr>\n    <tr>\n      <th>3</th>\n      <td>414fe4d2bedf4e4096ea47f703e72a00</td>\n      <td>1452363639079685</td>\n      <td>FINISHED</td>\n      <td>dbfs:/databricks/mlflow-tracking/1452363639079...</td>\n      <td>2022-04-18 00:17:51.544000+00:00</td>\n      <td>2022-04-18 00:17:56.540000+00:00</td>\n      <td>0.820856</td>\n      <td>NaN</td>\n      <td>NaN</td>\n      <td>NaN</td>\n      <td>NaN</td>\n      <td>NaN</td>\n      <td>NaN</td>\n      <td>NaN</td>\n      <td>200000</td>\n      <td>-1</td>\n      <td>gbdt</td>\n      <td>False</td>\n      <td>None</td>\n      <td>0</td>\n      <td>None</td>\n      <td>1.0</td>\n      <td>23</td>\n      <td>0.001</td>\n      <td>0.0</td>\n      <td>20</td>\n      <td>750</td>\n      <td>feature</td>\n      <td>auto</td>\n      <td>25</td>\n      <td>['cross_entropy_lambda']</td>\n      <td>-1</td>\n      <td>warn</td>\n      <td>0.0</td>\n      <td>1.0</td>\n      <td>binary</td>\n      <td>None</td>\n      <td>auto</td>\n      <td>2</td>\n      <td>0.01500001</td>\n      <td>...</td>\n      <td>None</td>\n      <td>None</td>\n      <td>None</td>\n      <td>None</td>\n      <td>None</td>\n      <td>None</td>\n      <td>None</td>\n      <td>None</td>\n      <td>None</td>\n      <td>None</td>\n      <td>None</td>\n      <td>None</td>\n      <td>None</td>\n      <td>None</td>\n      <td>None</td>\n      <td>None</td>\n      <td>None</td>\n      <td>None</td>\n      <td>None</td>\n      <td>None</td>\n      <td>None</td>\n      <td>None</td>\n      <td>None</td>\n      <td>0417-225212-v1ch2xxi</td>\n      <td>dany.stefan@mail.mcgill.ca</td>\n      <td>1962064964953307</td>\n      <td>adb-1962064964953307.7.azuredatabricks.net</td>\n      <td>/Users/dany.stefan@mail.mcgill.ca/ProductionCo...</td>\n      <td>/Users/dany.stefan@mail.mcgill.ca/ProductionCo...</td>\n      <td>1452363639079685</td>\n      <td>NOTEBOOK</td>\n      <td>None</td>\n      <td>[{\"artifact_path\":\"model\",\"signature\":{\"inputs...</td>\n      <td>{\"cluster_name\":\"INSY_695_cluster\",\"spark_vers...</td>\n      <td>2323102042788931009_7549896367611906941_046585...</td>\n      <td>https://canadacentral.azuredatabricks.net</td>\n      <td>{\"installable\":[{\"pypi\":{\"package\":\"mlflow\"}},...</td>\n      <td>1650241076693</td>\n      <td>None</td>\n      <td>None</td>\n    </tr>\n    <tr>\n      <th>4</th>\n      <td>43d56886779243ccb461512ea566e26b</td>\n      <td>1452363639079685</td>\n      <td>FINISHED</td>\n      <td>dbfs:/databricks/mlflow-tracking/1452363639079...</td>\n      <td>2022-04-18 00:17:46.573000+00:00</td>\n      <td>2022-04-18 00:17:51.392000+00:00</td>\n      <td>0.703209</td>\n      <td>NaN</td>\n      <td>NaN</td>\n      <td>NaN</td>\n      <td>NaN</td>\n      <td>NaN</td>\n      <td>NaN</td>\n      <td>NaN</td>\n      <td>200000</td>\n      <td>-1</td>\n      <td>gbdt</td>\n      <td>False</td>\n      <td>None</td>\n      <td>0</td>\n      <td>None</td>\n      <td>1.0</td>\n      <td>26</td>\n      <td>0.001</td>\n      <td>0.0</td>\n      <td>20</td>\n      <td>390</td>\n      <td>feature</td>\n      <td>auto</td>\n      <td>26</td>\n      <td>['cross_entropy']</td>\n      <td>-1</td>\n      <td>warn</td>\n      <td>0.0</td>\n      <td>1.0</td>\n      <td>binary</td>\n      <td>None</td>\n      <td>auto</td>\n      <td>6</td>\n      <td>0.01500001</td>\n      <td>...</td>\n      <td>None</td>\n      <td>None</td>\n      <td>None</td>\n      <td>None</td>\n      <td>None</td>\n      <td>None</td>\n      <td>None</td>\n      <td>None</td>\n      <td>None</td>\n      <td>None</td>\n      <td>None</td>\n      <td>None</td>\n      <td>None</td>\n      <td>None</td>\n      <td>None</td>\n      <td>None</td>\n      <td>None</td>\n      <td>None</td>\n      <td>None</td>\n      <td>None</td>\n      <td>None</td>\n      <td>None</td>\n      <td>None</td>\n      <td>0417-225212-v1ch2xxi</td>\n      <td>dany.stefan@mail.mcgill.ca</td>\n      <td>1962064964953307</td>\n      <td>adb-1962064964953307.7.azuredatabricks.net</td>\n      <td>/Users/dany.stefan@mail.mcgill.ca/ProductionCo...</td>\n      <td>/Users/dany.stefan@mail.mcgill.ca/ProductionCo...</td>\n      <td>1452363639079685</td>\n      <td>NOTEBOOK</td>\n      <td>None</td>\n      <td>[{\"artifact_path\":\"model\",\"signature\":{\"inputs...</td>\n      <td>{\"cluster_name\":\"INSY_695_cluster\",\"spark_vers...</td>\n      <td>2323102042788931009_7549896367611906941_046585...</td>\n      <td>https://canadacentral.azuredatabricks.net</td>\n      <td>{\"installable\":[{\"pypi\":{\"package\":\"mlflow\"}},...</td>\n      <td>1650241071516</td>\n      <td>None</td>\n      <td>None</td>\n    </tr>\n    <tr>\n      <th>5</th>\n      <td>e6d73c1f21b249208cb646c917fadf39</td>\n      <td>1452363639079685</td>\n      <td>FINISHED</td>\n      <td>dbfs:/databricks/mlflow-tracking/1452363639079...</td>\n      <td>2022-04-18 00:17:41.530000+00:00</td>\n      <td>2022-04-18 00:17:46.425000+00:00</td>\n      <td>0.689840</td>\n      <td>NaN</td>\n      <td>NaN</td>\n      <td>NaN</td>\n      <td>NaN</td>\n      <td>NaN</td>\n      <td>NaN</td>\n      <td>NaN</td>\n      <td>200000</td>\n      <td>-1</td>\n      <td>gbdt</td>\n      <td>False</td>\n      <td>None</td>\n      <td>0</td>\n      <td>None</td>\n      <td>1.0</td>\n      <td>29</td>\n      <td>0.001</td>\n      <td>0.0</td>\n      <td>20</td>\n      <td>870</td>\n      <td>voting</td>\n      <td>auto</td>\n      <td>32</td>\n      <td>['huber']</td>\n      <td>-1</td>\n      <td>warn</td>\n      <td>0.0</td>\n      <td>1.0</td>\n      <td>binary</td>\n      <td>None</td>\n      <td>auto</td>\n      <td>6</td>\n      <td>0.020000010000000002</td>\n      <td>...</td>\n      <td>None</td>\n      <td>None</td>\n      <td>None</td>\n      <td>None</td>\n      <td>None</td>\n      <td>None</td>\n      <td>None</td>\n      <td>None</td>\n      <td>None</td>\n      <td>None</td>\n      <td>None</td>\n      <td>None</td>\n      <td>None</td>\n      <td>None</td>\n      <td>None</td>\n      <td>None</td>\n      <td>None</td>\n      <td>None</td>\n      <td>None</td>\n      <td>None</td>\n      <td>None</td>\n      <td>None</td>\n      <td>None</td>\n      <td>0417-225212-v1ch2xxi</td>\n      <td>dany.stefan@mail.mcgill.ca</td>\n      <td>1962064964953307</td>\n      <td>adb-1962064964953307.7.azuredatabricks.net</td>\n      <td>/Users/dany.stefan@mail.mcgill.ca/ProductionCo...</td>\n      <td>/Users/dany.stefan@mail.mcgill.ca/ProductionCo...</td>\n      <td>1452363639079685</td>\n      <td>NOTEBOOK</td>\n      <td>None</td>\n      <td>[{\"artifact_path\":\"model\",\"signature\":{\"inputs...</td>\n      <td>{\"cluster_name\":\"INSY_695_cluster\",\"spark_vers...</td>\n      <td>2323102042788931009_7549896367611906941_046585...</td>\n      <td>https://canadacentral.azuredatabricks.net</td>\n      <td>{\"installable\":[{\"pypi\":{\"package\":\"mlflow\"}},...</td>\n      <td>1650241066548</td>\n      <td>None</td>\n      <td>None</td>\n    </tr>\n    <tr>\n      <th>6</th>\n      <td>fecba01e4f8e45c6a3c203cf23b418fc</td>\n      <td>1452363639079685</td>\n      <td>FINISHED</td>\n      <td>dbfs:/databricks/mlflow-tracking/1452363639079...</td>\n      <td>2022-04-18 00:17:36.627000+00:00</td>\n      <td>2022-04-18 00:17:41.381000+00:00</td>\n      <td>1.000000</td>\n      <td>NaN</td>\n      <td>NaN</td>\n      <td>NaN</td>\n      <td>NaN</td>\n      <td>NaN</td>\n      <td>NaN</td>\n      <td>NaN</td>\n      <td>200000</td>\n      <td>-1</td>\n      <td>gbdt</td>\n      <td>False</td>\n      <td>None</td>\n      <td>0</td>\n      <td>None</td>\n      <td>1.0</td>\n      <td>4</td>\n      <td>0.001</td>\n      <td>0.0</td>\n      <td>20</td>\n      <td>620</td>\n      <td>feature</td>\n      <td>auto</td>\n      <td>1</td>\n      <td>['l2']</td>\n      <td>-1</td>\n      <td>warn</td>\n      <td>0.0</td>\n      <td>1.0</td>\n      <td>binary</td>\n      <td>None</td>\n      <td>auto</td>\n      <td>20</td>\n      <td>0.02500001</td>\n      <td>...</td>\n      <td>None</td>\n      <td>None</td>\n      <td>None</td>\n      <td>None</td>\n      <td>None</td>\n      <td>None</td>\n      <td>None</td>\n      <td>None</td>\n      <td>None</td>\n      <td>None</td>\n      <td>None</td>\n      <td>None</td>\n      <td>None</td>\n      <td>None</td>\n      <td>None</td>\n      <td>None</td>\n      <td>None</td>\n      <td>None</td>\n      <td>None</td>\n      <td>None</td>\n      <td>None</td>\n      <td>None</td>\n      <td>None</td>\n      <td>0417-225212-v1ch2xxi</td>\n      <td>dany.stefan@mail.mcgill.ca</td>\n      <td>1962064964953307</td>\n      <td>adb-1962064964953307.7.azuredatabricks.net</td>\n      <td>/Users/dany.stefan@mail.mcgill.ca/ProductionCo...</td>\n      <td>/Users/dany.stefan@mail.mcgill.ca/ProductionCo...</td>\n      <td>1452363639079685</td>\n      <td>NOTEBOOK</td>\n      <td>None</td>\n      <td>[{\"artifact_path\":\"model\",\"signature\":{\"inputs...</td>\n      <td>{\"cluster_name\":\"INSY_695_cluster\",\"spark_vers...</td>\n      <td>2323102042788931009_7549896367611906941_046585...</td>\n      <td>https://canadacentral.azuredatabricks.net</td>\n      <td>{\"installable\":[{\"pypi\":{\"package\":\"mlflow\"}},...</td>\n      <td>1650241061541</td>\n      <td>None</td>\n      <td>None</td>\n    </tr>\n    <tr>\n      <th>7</th>\n      <td>7bcfb02a50c24ef8b27bf7aa2e383e53</td>\n      <td>1452363639079685</td>\n      <td>FINISHED</td>\n      <td>dbfs:/databricks/mlflow-tracking/1452363639079...</td>\n      <td>2022-04-18 00:17:31.638000+00:00</td>\n      <td>2022-04-18 00:17:36.479000+00:00</td>\n      <td>0.764706</td>\n      <td>NaN</td>\n      <td>NaN</td>\n      <td>NaN</td>\n      <td>NaN</td>\n      <td>NaN</td>\n      <td>NaN</td>\n      <td>NaN</td>\n      <td>200000</td>\n      <td>-1</td>\n      <td>gbdt</td>\n      <td>False</td>\n      <td>None</td>\n      <td>0</td>\n      <td>None</td>\n      <td>1.0</td>\n      <td>1</td>\n      <td>0.001</td>\n      <td>0.0</td>\n      <td>20</td>\n      <td>1000</td>\n      <td>feature</td>\n      <td>auto</td>\n      <td>4</td>\n      <td>['mape']</td>\n      <td>-1</td>\n      <td>warn</td>\n      <td>0.0</td>\n      <td>1.0</td>\n      <td>binary</td>\n      <td>None</td>\n      <td>auto</td>\n      <td>18</td>\n      <td>0.02500001</td>\n      <td>...</td>\n      <td>None</td>\n      <td>None</td>\n      <td>None</td>\n      <td>None</td>\n      <td>None</td>\n      <td>None</td>\n      <td>None</td>\n      <td>None</td>\n      <td>None</td>\n      <td>None</td>\n      <td>None</td>\n      <td>None</td>\n      <td>None</td>\n      <td>None</td>\n      <td>None</td>\n      <td>None</td>\n      <td>None</td>\n      <td>None</td>\n      <td>None</td>\n      <td>None</td>\n      <td>None</td>\n      <td>None</td>\n      <td>None</td>\n      <td>0417-225212-v1ch2xxi</td>\n      <td>dany.stefan@mail.mcgill.ca</td>\n      <td>1962064964953307</td>\n      <td>adb-1962064964953307.7.azuredatabricks.net</td>\n      <td>/Users/dany.stefan@mail.mcgill.ca/ProductionCo...</td>\n      <td>/Users/dany.stefan@mail.mcgill.ca/ProductionCo...</td>\n      <td>1452363639079685</td>\n      <td>NOTEBOOK</td>\n      <td>None</td>\n      <td>[{\"artifact_path\":\"model\",\"signature\":{\"inputs...</td>\n      <td>{\"cluster_name\":\"INSY_695_cluster\",\"spark_vers...</td>\n      <td>2323102042788931009_7549896367611906941_046585...</td>\n      <td>https://canadacentral.azuredatabricks.net</td>\n      <td>{\"installable\":[{\"pypi\":{\"package\":\"mlflow\"}},...</td>\n      <td>1650241056637</td>\n      <td>None</td>\n      <td>None</td>\n    </tr>\n    <tr>\n      <th>8</th>\n      <td>51cbf650b3e04c549e012f001fbef671</td>\n      <td>1452363639079685</td>\n      <td>FINISHED</td>\n      <td>dbfs:/databricks/mlflow-tracking/1452363639079...</td>\n      <td>2022-04-18 00:17:26.767000+00:00</td>\n      <td>2022-04-18 00:17:31.480000+00:00</td>\n      <td>0.764706</td>\n      <td>NaN</td>\n      <td>NaN</td>\n      <td>NaN</td>\n      <td>NaN</td>\n      <td>NaN</td>\n      <td>NaN</td>\n      <td>NaN</td>\n      <td>200000</td>\n      <td>-1</td>\n      <td>gbdt</td>\n      <td>False</td>\n      <td>None</td>\n      <td>0</td>\n      <td>None</td>\n      <td>1.0</td>\n      <td>1</td>\n      <td>0.001</td>\n      <td>0.0</td>\n      <td>20</td>\n      <td>1000</td>\n      <td>feature</td>\n      <td>auto</td>\n      <td>4</td>\n      <td>['average_precision']</td>\n      <td>-1</td>\n      <td>warn</td>\n      <td>0.0</td>\n      <td>1.0</td>\n      <td>binary</td>\n      <td>None</td>\n      <td>auto</td>\n      <td>20</td>\n      <td>0.02500001</td>\n      <td>...</td>\n      <td>None</td>\n      <td>None</td>\n      <td>None</td>\n      <td>None</td>\n      <td>None</td>\n      <td>None</td>\n      <td>None</td>\n      <td>None</td>\n      <td>None</td>\n      <td>None</td>\n      <td>None</td>\n      <td>None</td>\n      <td>None</td>\n      <td>None</td>\n      <td>None</td>\n      <td>None</td>\n      <td>None</td>\n      <td>None</td>\n      <td>None</td>\n      <td>None</td>\n      <td>None</td>\n      <td>None</td>\n      <td>None</td>\n      <td>0417-225212-v1ch2xxi</td>\n      <td>dany.stefan@mail.mcgill.ca</td>\n      <td>1962064964953307</td>\n      <td>adb-1962064964953307.7.azuredatabricks.net</td>\n      <td>/Users/dany.stefan@mail.mcgill.ca/ProductionCo...</td>\n      <td>/Users/dany.stefan@mail.mcgill.ca/ProductionCo...</td>\n      <td>1452363639079685</td>\n      <td>NOTEBOOK</td>\n      <td>None</td>\n      <td>[{\"artifact_path\":\"model\",\"signature\":{\"inputs...</td>\n      <td>{\"cluster_name\":\"INSY_695_cluster\",\"spark_vers...</td>\n      <td>2323102042788931009_7549896367611906941_046585...</td>\n      <td>https://canadacentral.azuredatabricks.net</td>\n      <td>{\"installable\":[{\"pypi\":{\"package\":\"mlflow\"}},...</td>\n      <td>1650241051644</td>\n      <td>None</td>\n      <td>None</td>\n    </tr>\n    <tr>\n      <th>9</th>\n      <td>7d332a20dd694221aebb65253b427080</td>\n      <td>1452363639079685</td>\n      <td>FINISHED</td>\n      <td>dbfs:/databricks/mlflow-tracking/1452363639079...</td>\n      <td>2022-04-18 00:17:21.812000+00:00</td>\n      <td>2022-04-18 00:17:26.619000+00:00</td>\n      <td>0.764706</td>\n      <td>NaN</td>\n      <td>NaN</td>\n      <td>NaN</td>\n      <td>NaN</td>\n      <td>NaN</td>\n      <td>NaN</td>\n      <td>NaN</td>\n      <td>200000</td>\n      <td>-1</td>\n      <td>gbdt</td>\n      <td>False</td>\n      <td>None</td>\n      <td>0</td>\n      <td>None</td>\n      <td>1.0</td>\n      <td>1</td>\n      <td>0.001</td>\n      <td>0.0</td>\n      <td>20</td>\n      <td>910</td>\n      <td>feature</td>\n      <td>auto</td>\n      <td>2</td>\n      <td>['average_precision']</td>\n      <td>-1</td>\n      <td>warn</td>\n      <td>0.0</td>\n      <td>1.0</td>\n      <td>binary</td>\n      <td>None</td>\n      <td>auto</td>\n      <td>18</td>\n      <td>0.02500001</td>\n      <td>...</td>\n      <td>None</td>\n      <td>None</td>\n      <td>None</td>\n      <td>None</td>\n      <td>None</td>\n      <td>None</td>\n      <td>None</td>\n      <td>None</td>\n      <td>None</td>\n      <td>None</td>\n      <td>None</td>\n      <td>None</td>\n      <td>None</td>\n      <td>None</td>\n      <td>None</td>\n      <td>None</td>\n      <td>None</td>\n      <td>None</td>\n      <td>None</td>\n      <td>None</td>\n      <td>None</td>\n      <td>None</td>\n      <td>None</td>\n      <td>0417-225212-v1ch2xxi</td>\n      <td>dany.stefan@mail.mcgill.ca</td>\n      <td>1962064964953307</td>\n      <td>adb-1962064964953307.7.azuredatabricks.net</td>\n      <td>/Users/dany.stefan@mail.mcgill.ca/ProductionCo...</td>\n      <td>/Users/dany.stefan@mail.mcgill.ca/ProductionCo...</td>\n      <td>1452363639079685</td>\n      <td>NOTEBOOK</td>\n      <td>None</td>\n      <td>[{\"artifact_path\":\"model\",\"signature\":{\"inputs...</td>\n      <td>{\"cluster_name\":\"INSY_695_cluster\",\"spark_vers...</td>\n      <td>2323102042788931009_7549896367611906941_046585...</td>\n      <td>https://canadacentral.azuredatabricks.net</td>\n      <td>{\"installable\":[{\"pypi\":{\"package\":\"mlflow\"}},...</td>\n      <td>1650241046781</td>\n      <td>None</td>\n      <td>None</td>\n    </tr>\n  </tbody>\n</table>\n<p>10 rows × 107 columns</p>\n</div>",
       "datasetInfos": [],
       "metadata": {},
       "removedWidgets": [],
       "textData": null,
       "type": "htmlSandbox"
      }
     },
     "output_type": "display_data"
    }
   ],
   "source": [
    "runs = mlflow.search_runs()\n",
    "print(f\"Total experiments ran: {len(runs)}\")\n",
    "runs.head(10)"
   ]
  },
  {
   "cell_type": "code",
   "execution_count": 0,
   "metadata": {
    "application/vnd.databricks.v1+cell": {
     "inputWidgets": {},
     "nuid": "e897e104-9c1c-466b-8452-3ea35fc8c43c",
     "showTitle": false,
     "title": ""
    }
   },
   "outputs": [
    {
     "data": {
      "text/html": [
       "<style scoped>\n",
       "  .ansiout {\n",
       "    display: block;\n",
       "    unicode-bidi: embed;\n",
       "    white-space: pre-wrap;\n",
       "    word-wrap: break-word;\n",
       "    word-break: break-all;\n",
       "    font-family: \"Source Code Pro\", \"Menlo\", monospace;;\n",
       "    font-size: 13px;\n",
       "    color: #555;\n",
       "    margin-left: 4px;\n",
       "    line-height: 19px;\n",
       "  }\n",
       "</style>\n",
       "<div class=\"ansiout\">Out[50]: 0                           None\n",
       "1                           None\n",
       "2                           None\n",
       "3                           None\n",
       "4                           None\n",
       "                 ...            \n",
       "82                          None\n",
       "83    GradientBoostingClassifier\n",
       "84                          None\n",
       "85                          None\n",
       "86    GradientBoostingClassifier\n",
       "Name: tags.estimator_name, Length: 87, dtype: object</div>"
      ]
     },
     "metadata": {
      "application/vnd.databricks.v1+output": {
       "addedWidgets": {},
       "arguments": {},
       "data": "<div class=\"ansiout\">Out[50]: 0                           None\n1                           None\n2                           None\n3                           None\n4                           None\n                 ...            \n82                          None\n83    GradientBoostingClassifier\n84                          None\n85                          None\n86    GradientBoostingClassifier\nName: tags.estimator_name, Length: 87, dtype: object</div>",
       "datasetInfos": [],
       "metadata": {},
       "removedWidgets": [],
       "type": "html"
      }
     },
     "output_type": "display_data"
    }
   ],
   "source": [
    "runs.columns\n",
    "runs['tags.estimator_name']"
   ]
  },
  {
   "cell_type": "code",
   "execution_count": 0,
   "metadata": {
    "application/vnd.databricks.v1+cell": {
     "inputWidgets": {},
     "nuid": "b2938937-9c79-4cfd-9f8b-9b7b3831ce79",
     "showTitle": false,
     "title": ""
    },
    "colab": {
     "base_uri": "https://localhost:8080/"
    },
    "id": "Zxzp6rJzLjLE",
    "outputId": "fbabce16-af1d-497e-91e0-349604844a8a"
   },
   "outputs": [
    {
     "data": {
      "text/html": [
       "<style scoped>\n",
       "  .ansiout {\n",
       "    display: block;\n",
       "    unicode-bidi: embed;\n",
       "    white-space: pre-wrap;\n",
       "    word-wrap: break-word;\n",
       "    word-break: break-all;\n",
       "    font-family: \"Source Code Pro\", \"Menlo\", monospace;;\n",
       "    font-size: 13px;\n",
       "    color: #555;\n",
       "    margin-left: 4px;\n",
       "    line-height: 19px;\n",
       "  }\n",
       "</style>\n",
       "<div class=\"ansiout\">Out[51]: sklearn     5\n",
       "lightgbm    2\n",
       "Name: tags.mlflow.autologging, dtype: int64</div>"
      ]
     },
     "metadata": {
      "application/vnd.databricks.v1+output": {
       "addedWidgets": {},
       "arguments": {},
       "data": "<div class=\"ansiout\">Out[51]: sklearn     5\nlightgbm    2\nName: tags.mlflow.autologging, dtype: int64</div>",
       "datasetInfos": [],
       "metadata": {},
       "removedWidgets": [],
       "type": "html"
      }
     },
     "output_type": "display_data"
    }
   ],
   "source": [
    "runs['tags.mlflow.autologging'].value_counts()"
   ]
  },
  {
   "cell_type": "markdown",
   "metadata": {
    "application/vnd.databricks.v1+cell": {
     "inputWidgets": {},
     "nuid": "ef942ecd-72e9-4825-8607-ab80c75b60b7",
     "showTitle": false,
     "title": ""
    },
    "id": "jk_aa5WN4jPd"
   },
   "source": [
    "## Best Experiment\n",
    "Contributor(s): @dany-stefan, @danyalhamid1996\n",
    "\n",
    "This section deploys the model on databricks."
   ]
  },
  {
   "cell_type": "code",
   "execution_count": 0,
   "metadata": {
    "application/vnd.databricks.v1+cell": {
     "inputWidgets": {},
     "nuid": "a69eb394-5484-4941-96df-b8119623e3b8",
     "showTitle": false,
     "title": ""
    },
    "colab": {
     "base_uri": "https://localhost:8080/"
    },
    "id": "SVy53cpo4kNI",
    "outputId": "1b90f61b-bde5-4405-c3a6-feb9291f0a13"
   },
   "outputs": [
    {
     "data": {
      "text/html": [
       "<style scoped>\n",
       "  .ansiout {\n",
       "    display: block;\n",
       "    unicode-bidi: embed;\n",
       "    white-space: pre-wrap;\n",
       "    word-wrap: break-word;\n",
       "    word-break: break-all;\n",
       "    font-family: \"Source Code Pro\", \"Menlo\", monospace;;\n",
       "    font-size: 13px;\n",
       "    color: #555;\n",
       "    margin-left: 4px;\n",
       "    line-height: 19px;\n",
       "  }\n",
       "</style>\n",
       "<div class=\"ansiout\">Out[52]: run_id                                                        8f0a5cdbb1ac4545bc70c3072e373b0c\n",
       "experiment_id                                                                 1452363639079685\n",
       "status                                                                                FINISHED\n",
       "artifact_uri                                 dbfs:/databricks/mlflow-tracking/1452363639079...\n",
       "start_time                                                    2022-04-18 00:16:45.533000+00:00\n",
       "end_time                                                      2022-04-18 00:16:54.994000+00:00\n",
       "metrics.training_recall_score                                                         0.968644\n",
       "metrics.training_precision_score                                                      0.969966\n",
       "metrics.training_f1_score                                                             0.968622\n",
       "metrics.training_score                                                                0.968644\n",
       "metrics.training_roc_auc_score                                                        0.998457\n",
       "metrics.recall                                                                             0.0\n",
       "metrics.training_accuracy_score                                                       0.968644\n",
       "metrics.training_log_loss                                                             0.113389\n",
       "params.validation_fraction                                                                 0.1\n",
       "params.loss                                                                        exponential\n",
       "params.verbose                                                                               0\n",
       "params.random_state                                                                       None\n",
       "params.n_iter_no_change                                                                   None\n",
       "params.criterion                                                                  friedman_mse\n",
       "params.min_samples_split                                                                     2\n",
       "params.warm_start                                                                        False\n",
       "params.min_weight_fraction_leaf                                                            0.0\n",
       "params.max_leaf_nodes                                                                     None\n",
       "params.ccp_alpha                                                                           0.0\n",
       "params.subsample                                                                           1.0\n",
       "params.min_samples_leaf                                                                      1\n",
       "params.max_depth                                                                            14\n",
       "params.min_impurity_decrease                                                               0.0\n",
       "params.tol                                                                              0.0001\n",
       "params.learning_rate                                                                0.02500001\n",
       "params.init                                                                               None\n",
       "params.n_estimators                                                                         81\n",
       "params.max_features                                                                       auto\n",
       "tags.mlflow.databricks.cluster.id                                         0417-225212-v1ch2xxi\n",
       "tags.mlflow.databricks.notebookRevisionID                                        1650241015148\n",
       "tags.mlflow.databricks.workspaceID                                            1962064964953307\n",
       "tags.mlflow.source.name                      /Users/dany.stefan@mail.mcgill.ca/ProductionCo...\n",
       "tags.mlflow.databricks.notebookPath          /Users/dany.stefan@mail.mcgill.ca/ProductionCo...\n",
       "tags.mlflow.log-model.history                [{&#34;artifact_path&#34;:&#34;model&#34;,&#34;signature&#34;:{&#34;inputs...\n",
       "tags.mlflow.databricks.notebook.commandID    2323102042788931009_7549896367611906941_046585...\n",
       "tags.mlflow.source.type                                                               NOTEBOOK\n",
       "tags.mlflow.databricks.webappURL                     https://canadacentral.azuredatabricks.net\n",
       "tags.mlflow.databricks.cluster.libraries     {&#34;installable&#34;:[{&#34;pypi&#34;:{&#34;package&#34;:&#34;mlflow&#34;}},...\n",
       "tags.mlflow.user                                                    dany.stefan@mail.mcgill.ca\n",
       "tags.mlflow.databricks.workspaceURL                 adb-1962064964953307.7.azuredatabricks.net\n",
       "tags.estimator_class                           sklearn.ensemble._gb.GradientBoostingClassifier\n",
       "tags.mlflow.databricks.cluster.info          {&#34;cluster_name&#34;:&#34;INSY_695_cluster&#34;,&#34;spark_vers...\n",
       "tags.mlflow.databricks.notebookID                                             1452363639079685\n",
       "tags.estimator_name                                                 GradientBoostingClassifier\n",
       "Name: 0, dtype: object</div>"
      ]
     },
     "metadata": {
      "application/vnd.databricks.v1+output": {
       "addedWidgets": {},
       "arguments": {},
       "data": "<div class=\"ansiout\">Out[52]: run_id                                                        8f0a5cdbb1ac4545bc70c3072e373b0c\nexperiment_id                                                                 1452363639079685\nstatus                                                                                FINISHED\nartifact_uri                                 dbfs:/databricks/mlflow-tracking/1452363639079...\nstart_time                                                    2022-04-18 00:16:45.533000+00:00\nend_time                                                      2022-04-18 00:16:54.994000+00:00\nmetrics.training_recall_score                                                         0.968644\nmetrics.training_precision_score                                                      0.969966\nmetrics.training_f1_score                                                             0.968622\nmetrics.training_score                                                                0.968644\nmetrics.training_roc_auc_score                                                        0.998457\nmetrics.recall                                                                             0.0\nmetrics.training_accuracy_score                                                       0.968644\nmetrics.training_log_loss                                                             0.113389\nparams.validation_fraction                                                                 0.1\nparams.loss                                                                        exponential\nparams.verbose                                                                               0\nparams.random_state                                                                       None\nparams.n_iter_no_change                                                                   None\nparams.criterion                                                                  friedman_mse\nparams.min_samples_split                                                                     2\nparams.warm_start                                                                        False\nparams.min_weight_fraction_leaf                                                            0.0\nparams.max_leaf_nodes                                                                     None\nparams.ccp_alpha                                                                           0.0\nparams.subsample                                                                           1.0\nparams.min_samples_leaf                                                                      1\nparams.max_depth                                                                            14\nparams.min_impurity_decrease                                                               0.0\nparams.tol                                                                              0.0001\nparams.learning_rate                                                                0.02500001\nparams.init                                                                               None\nparams.n_estimators                                                                         81\nparams.max_features                                                                       auto\ntags.mlflow.databricks.cluster.id                                         0417-225212-v1ch2xxi\ntags.mlflow.databricks.notebookRevisionID                                        1650241015148\ntags.mlflow.databricks.workspaceID                                            1962064964953307\ntags.mlflow.source.name                      /Users/dany.stefan@mail.mcgill.ca/ProductionCo...\ntags.mlflow.databricks.notebookPath          /Users/dany.stefan@mail.mcgill.ca/ProductionCo...\ntags.mlflow.log-model.history                [{&#34;artifact_path&#34;:&#34;model&#34;,&#34;signature&#34;:{&#34;inputs...\ntags.mlflow.databricks.notebook.commandID    2323102042788931009_7549896367611906941_046585...\ntags.mlflow.source.type                                                               NOTEBOOK\ntags.mlflow.databricks.webappURL                     https://canadacentral.azuredatabricks.net\ntags.mlflow.databricks.cluster.libraries     {&#34;installable&#34;:[{&#34;pypi&#34;:{&#34;package&#34;:&#34;mlflow&#34;}},...\ntags.mlflow.user                                                    dany.stefan@mail.mcgill.ca\ntags.mlflow.databricks.workspaceURL                 adb-1962064964953307.7.azuredatabricks.net\ntags.estimator_class                           sklearn.ensemble._gb.GradientBoostingClassifier\ntags.mlflow.databricks.cluster.info          {&#34;cluster_name&#34;:&#34;INSY_695_cluster&#34;,&#34;spark_vers...\ntags.mlflow.databricks.notebookID                                             1452363639079685\ntags.estimator_name                                                 GradientBoostingClassifier\nName: 0, dtype: object</div>",
       "datasetInfos": [],
       "metadata": {},
       "removedWidgets": [],
       "type": "html"
      }
     },
     "output_type": "display_data"
    }
   ],
   "source": [
    "runs = mlflow.search_runs(order_by=['metrics.recall'], max_results=1)\n",
    "best_run_id = runs.run_id\n",
    "runs.loc[0]"
   ]
  },
  {
   "cell_type": "code",
   "execution_count": 0,
   "metadata": {
    "application/vnd.databricks.v1+cell": {
     "inputWidgets": {},
     "nuid": "e19b1a41-8843-4ba3-bcfc-86f97a0f1619",
     "showTitle": false,
     "title": ""
    }
   },
   "outputs": [
    {
     "data": {
      "text/html": [
       "<style scoped>\n",
       "  .ansiout {\n",
       "    display: block;\n",
       "    unicode-bidi: embed;\n",
       "    white-space: pre-wrap;\n",
       "    word-wrap: break-word;\n",
       "    word-break: break-all;\n",
       "    font-family: \"Source Code Pro\", \"Menlo\", monospace;;\n",
       "    font-size: 13px;\n",
       "    color: #555;\n",
       "    margin-left: 4px;\n",
       "    line-height: 19px;\n",
       "  }\n",
       "</style>\n",
       "<div class=\"ansiout\">Registered model &#39;best_model&#39; already exists. Creating a new version of this model...\n",
       "2022/04/18 00:18:10 INFO mlflow.tracking._model_registry.client: Waiting up to 300 seconds for model version to finish creation.                     Model name: best_model, version 8\n",
       "Created version &#39;8&#39; of model &#39;best_model&#39;.\n",
       "</div>"
      ]
     },
     "metadata": {
      "application/vnd.databricks.v1+output": {
       "addedWidgets": {},
       "arguments": {},
       "data": "<div class=\"ansiout\">Registered model &#39;best_model&#39; already exists. Creating a new version of this model...\n2022/04/18 00:18:10 INFO mlflow.tracking._model_registry.client: Waiting up to 300 seconds for model version to finish creation.                     Model name: best_model, version 8\nCreated version &#39;8&#39; of model &#39;best_model&#39;.\n</div>",
       "datasetInfos": [],
       "metadata": {},
       "removedWidgets": [],
       "type": "html"
      }
     },
     "output_type": "display_data"
    }
   ],
   "source": [
    "# register model to ML FLow registry\n",
    "\n",
    "# this requires a database to hold the registry so it doesn't work locally, but it should work on Databricks\n",
    "# if this doesn't work, try removing the '/gbmodel' from the first parameter of register_model\n",
    "\n",
    "best_run_id = runs.loc[0]['run_id']\n",
    "model_name = 'best_model'\n",
    "\n",
    "best_model = mlflow.register_model(\n",
    "    f'runs:/{best_run_id}/gb_model',\n",
    "    model_name\n",
    "    )\n"
   ]
  },
  {
   "cell_type": "code",
   "execution_count": 0,
   "metadata": {
    "application/vnd.databricks.v1+cell": {
     "inputWidgets": {},
     "nuid": "981c54c0-01cd-4828-ae60-fa3bab15c372",
     "showTitle": false,
     "title": ""
    }
   },
   "outputs": [
    {
     "data": {
      "text/html": [
       "<style scoped>\n",
       "  .ansiout {\n",
       "    display: block;\n",
       "    unicode-bidi: embed;\n",
       "    white-space: pre-wrap;\n",
       "    word-wrap: break-word;\n",
       "    word-break: break-all;\n",
       "    font-family: \"Source Code Pro\", \"Menlo\", monospace;;\n",
       "    font-size: 13px;\n",
       "    color: #555;\n",
       "    margin-left: 4px;\n",
       "    line-height: 19px;\n",
       "  }\n",
       "</style>\n",
       "<div class=\"ansiout\"></div>"
      ]
     },
     "metadata": {
      "application/vnd.databricks.v1+output": {
       "addedWidgets": {},
       "arguments": {},
       "data": "<div class=\"ansiout\"></div>",
       "datasetInfos": [],
       "metadata": {},
       "removedWidgets": [],
       "type": "html"
      }
     },
     "output_type": "display_data"
    }
   ],
   "source": [
    "# fetch model from registry for production\n",
    "\n",
    "from mlflow.tracking import MlflowClient\n",
    " \n",
    "client = MlflowClient()\n",
    "\n",
    "# first, we change the stage of the model to production within the registry\n",
    "client.transition_model_version_stage(\n",
    "  name=model_name,\n",
    "  version=best_model.version,\n",
    "  stage=\"Production\",\n",
    ")\n",
    "\n",
    "# now, we load the model\n",
    "\n",
    "production_model = mlflow.pyfunc.load_model(f\"models:/{model_name}/production\")\n"
   ]
  },
  {
   "cell_type": "code",
   "execution_count": 0,
   "metadata": {
    "application/vnd.databricks.v1+cell": {
     "inputWidgets": {},
     "nuid": "41cd8fdd-72ea-49e5-92e7-d808773451ab",
     "showTitle": false,
     "title": ""
    }
   },
   "outputs": [
    {
     "data": {
      "text/html": [
       "<style scoped>\n",
       "  .ansiout {\n",
       "    display: block;\n",
       "    unicode-bidi: embed;\n",
       "    white-space: pre-wrap;\n",
       "    word-wrap: break-word;\n",
       "    word-break: break-all;\n",
       "    font-family: \"Source Code Pro\", \"Menlo\", monospace;;\n",
       "    font-size: 13px;\n",
       "    color: #555;\n",
       "    margin-left: 4px;\n",
       "    line-height: 19px;\n",
       "  }\n",
       "</style>\n",
       "<div class=\"ansiout\">Registered model &#39;best_model&#39; already exists. Creating a new version of this model...\n",
       "2022/04/18 00:18:18 INFO mlflow.tracking._model_registry.client: Waiting up to 300 seconds for model version to finish creation.                     Model name: best_model, version 9\n",
       "Created version &#39;9&#39; of model &#39;best_model&#39;.\n",
       "Out[55]: &lt;ModelVersion: creation_timestamp=1650241098202, current_stage=&#39;Production&#39;, description=&#39;&#39;, last_updated_timestamp=1650241107695, name=&#39;best_model&#39;, run_id=&#39;8f0a5cdbb1ac4545bc70c3072e373b0c&#39;, run_link=&#39;&#39;, source=&#39;dbfs:/databricks/mlflow-tracking/1452363639079685/8f0a5cdbb1ac4545bc70c3072e373b0c/artifacts/gb_model&#39;, status=&#39;READY&#39;, status_message=&#39;&#39;, tags={}, user_id=&#39;7575495986316288&#39;, version=&#39;9&#39;&gt;</div>"
      ]
     },
     "metadata": {
      "application/vnd.databricks.v1+output": {
       "addedWidgets": {},
       "arguments": {},
       "data": "<div class=\"ansiout\">Registered model &#39;best_model&#39; already exists. Creating a new version of this model...\n2022/04/18 00:18:18 INFO mlflow.tracking._model_registry.client: Waiting up to 300 seconds for model version to finish creation.                     Model name: best_model, version 9\nCreated version &#39;9&#39; of model &#39;best_model&#39;.\nOut[55]: &lt;ModelVersion: creation_timestamp=1650241098202, current_stage=&#39;Production&#39;, description=&#39;&#39;, last_updated_timestamp=1650241107695, name=&#39;best_model&#39;, run_id=&#39;8f0a5cdbb1ac4545bc70c3072e373b0c&#39;, run_link=&#39;&#39;, source=&#39;dbfs:/databricks/mlflow-tracking/1452363639079685/8f0a5cdbb1ac4545bc70c3072e373b0c/artifacts/gb_model&#39;, status=&#39;READY&#39;, status_message=&#39;&#39;, tags={}, user_id=&#39;7575495986316288&#39;, version=&#39;9&#39;&gt;</div>",
       "datasetInfos": [],
       "metadata": {},
       "removedWidgets": [],
       "type": "html"
      }
     },
     "output_type": "display_data"
    }
   ],
   "source": [
    "# code for updating the model in the registry if we make changes or optimize it further\n",
    "# it will automatically create a new version\n",
    "\n",
    "new_best_model = mlflow.register_model(f\"runs:/{best_model.run_id}/gb_model\", model_name) # replace gb_model with new model type if applicable\n",
    "\n",
    "# Archive the old model version\n",
    "client.transition_model_version_stage(\n",
    "  name=model_name,\n",
    "  version=best_model.version,\n",
    "  stage=\"Archived\"\n",
    ")\n",
    " \n",
    "# Promote the new model version to Production\n",
    "client.transition_model_version_stage(\n",
    "  name=model_name,\n",
    "  version=new_best_model.version,\n",
    "  stage=\"Production\"\n",
    ")"
   ]
  },
  {
   "cell_type": "code",
   "execution_count": 0,
   "metadata": {
    "application/vnd.databricks.v1+cell": {
     "inputWidgets": {},
     "nuid": "9b290cb0-2a30-4f00-b239-6b586ff3ef5d",
     "showTitle": false,
     "title": ""
    },
    "id": "HbPPy5e45B-G"
   },
   "outputs": [
    {
     "data": {
      "text/html": [
       "<style scoped>\n",
       "  .ansiout {\n",
       "    display: block;\n",
       "    unicode-bidi: embed;\n",
       "    white-space: pre-wrap;\n",
       "    word-wrap: break-word;\n",
       "    word-break: break-all;\n",
       "    font-family: \"Source Code Pro\", \"Menlo\", monospace;;\n",
       "    font-size: 13px;\n",
       "    color: #555;\n",
       "    margin-left: 4px;\n",
       "    line-height: 19px;\n",
       "  }\n",
       "</style>\n",
       "<div class=\"ansiout\"></div>"
      ]
     },
     "metadata": {
      "application/vnd.databricks.v1+output": {
       "addedWidgets": {},
       "arguments": {},
       "data": "<div class=\"ansiout\"></div>",
       "datasetInfos": [],
       "metadata": {},
       "removedWidgets": [],
       "type": "html"
      }
     },
     "output_type": "display_data"
    }
   ],
   "source": [
    "# from datetime import datetime, timedelta\n",
    "# earliest_start_time = (datetime.now() - timedelta(days=14)).strftime('%Y-%m-%d')\n",
    "# recent_runs = runs[runs.start_time >= earliest_start_time]\n",
    "# recent_runs\n",
    "\n",
    "# recent_runs['Run Date'] = recent_runs.start_time.dt.floor(freq='D')\n",
    "\n",
    "# best_runs_per_day_idx = recent_runs.groupby(\n",
    "#   ['Run Date']\n",
    "# )['metrics.recall'].idxmin()\n",
    "# best_runs = recent_runs.loc[best_runs_per_day_idx]\n",
    "# display(best_runs[['Run Date', 'metrics.recall']])"
   ]
  },
  {
   "cell_type": "markdown",
   "metadata": {},
   "source": [
    "## Generating deepchecks report\n",
    "Contributor(s): @rsoleimani"
   ]
  },
  {
   "cell_type": "code",
   "execution_count": null,
   "metadata": {},
   "outputs": [],
   "source": [
    "from deepchecks.tabular import Dataset\n",
    "from deepchecks.tabular.suites import full_suite\n",
    "\n",
    "df_train = pd.DataFrame(sample_x_over, sample_y_over).reset_index()\n",
    "df_test = pd.DataFrame(strat_test_set_x, strat_test_set_y).reset_index()\n",
    "\n",
    "label_col = 'Churn'\n",
    "ds_train = Dataset(df_train, label=label_col, cat_features=[])\n",
    "ds_test =  Dataset(df_test,  label=label_col, cat_features=[])"
   ]
  },
  {
   "cell_type": "code",
   "execution_count": null,
   "metadata": {},
   "outputs": [],
   "source": [
    "suite = full_suite()\n",
    "suite.run(train_dataset=ds_train, test_dataset=ds_test, model = model)"
   ]
  }
 ],
 "metadata": {
  "application/vnd.databricks.v1+notebook": {
   "dashboards": [],
   "language": "python",
   "notebookMetadata": {
    "pythonIndentUnit": 4
   },
   "notebookName": "ProductionCode_simplified_Collab",
   "notebookOrigID": 1452363639079685,
   "widgets": {}
  },
  "colab": {
   "collapsed_sections": [],
   "name": "ProductionCode - simplified_Collab.ipynb",
   "provenance": []
  },
  "interpreter": {
   "hash": "7253f5534518c8794f8b6e099858cef4d5ce7e3e3cc88efa99fa12f982673dfd"
  },
  "kernelspec": {
   "display_name": "Python 3",
   "language": "python",
   "name": "python3"
  },
  "language_info": {
   "codemirror_mode": {
    "name": "ipython",
    "version": 3
   },
   "file_extension": ".py",
   "mimetype": "text/x-python",
   "name": "python",
   "nbconvert_exporter": "python",
   "pygments_lexer": "ipython3",
   "version": "3.8.8"
  },
  "toc": {
   "base_numbering": 1,
   "nav_menu": {},
   "number_sections": true,
   "sideBar": true,
   "skip_h1_title": false,
   "title_cell": "Table of Contents",
   "title_sidebar": "Contents",
   "toc_cell": false,
   "toc_position": {
    "height": "calc(100% - 180px)",
    "left": "10px",
    "top": "150px",
    "width": "322.401px"
   },
   "toc_section_display": true,
   "toc_window_display": true
  }
 },
 "nbformat": 4,
 "nbformat_minor": 1
}
